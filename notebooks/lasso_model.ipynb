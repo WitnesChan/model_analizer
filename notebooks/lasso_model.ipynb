{
 "cells": [
  {
   "cell_type": "markdown",
   "metadata": {},
   "source": [
    "## **2. Lasso Regression **\n",
    "\n",
    "the optimal training/testing splitting ratio is , where  is the number of parameters in a linear regression model that explains the data well."
   ]
  },
  {
   "cell_type": "code",
   "execution_count": 6,
   "metadata": {},
   "outputs": [],
   "source": [
    "import pickle\n",
    "import pandas as pd\n",
    "import numpy as np\n",
    "from tqdm import tqdm\n",
    "# from fast_ml.model_development import train_valid_test_split\n",
    "from sklearn.model_selection import cross_val_score, train_test_split, StratifiedKFold, GridSearchCV\n",
    "\n",
    "import matplotlib.pyplot as plt\n",
    "from sklearn.metrics import roc_auc_score, accuracy_score, balanced_accuracy_score\n",
    "\n",
    "from sklearn.pipeline import Pipeline\n",
    "from sklearn.preprocessing import (\n",
    "    StandardScaler, \n",
    "    MinMaxScaler,\n",
    "    RobustScaler,\n",
    "    )\n",
    "\n",
    "from hyperopt import hp, fmin, tpe, Trials, STATUS_OK\n",
    "from sklearn.impute import SimpleImputer\n",
    "from sklearn.linear_model import LogisticRegression, LogisticRegressionCV\n",
    "from sklearn.feature_selection import f_classif, SelectFromModel, RFECV\n",
    "from fast_ml.feature_selection import get_correlated_pairs\n",
    "\n"
   ]
  },
  {
   "cell_type": "code",
   "execution_count": 3,
   "metadata": {},
   "outputs": [
    {
     "name": "stderr",
     "output_type": "stream",
     "text": [
      "Loading data: 154it [00:28,  5.38it/s]\n"
     ]
    },
    {
     "data": {
      "text/plain": [
       "((122744, 842), (30686, 842))"
      ]
     },
     "execution_count": 3,
     "metadata": {},
     "output_type": "execute_result"
    }
   ],
   "source": [
    "file_name = 'DATASET_THESIS_2022.csv'\n",
    "\n",
    "df_data = pd.concat([chunk for chunk in tqdm(pd.read_csv(file_name, chunksize=1000), desc='Loading data')])\n",
    "\n",
    "feat_names = [col.replace(' ', '') for col in df_data.columns]\n",
    "df_data.columns = feat_names\n",
    "feat_names.remove('TARGET')\n",
    "y = df_data.TARGET\n",
    "\n",
    "X = df_data.drop(columns=['TARGET'])\n",
    "\n",
    "X_train, X_test, y_train, y_test = train_test_split(\n",
    "    X, y, test_size=0.2, random_state= 42)\n",
    "\n",
    "X_train.shape, X_test.shape"
   ]
  },
  {
   "attachments": {},
   "cell_type": "markdown",
   "metadata": {},
   "source": [
    "## Regularization path of L1 - Logistic Regression"
   ]
  },
  {
   "cell_type": "code",
   "execution_count": null,
   "metadata": {},
   "outputs": [],
   "source": [
    "%%time "
   ]
  },
  {
   "cell_type": "code",
   "execution_count": 1,
   "metadata": {},
   "outputs": [
    {
     "ename": "NameError",
     "evalue": "name 'X_train' is not defined",
     "output_type": "error",
     "traceback": [
      "\u001b[0;31m---------------------------------------------------------------------------\u001b[0m",
      "\u001b[0;31mNameError\u001b[0m                                 Traceback (most recent call last)",
      "Cell \u001b[0;32mIn [1], line 1\u001b[0m\n\u001b[0;32m----> 1\u001b[0m X_train\n",
      "\u001b[0;31mNameError\u001b[0m: name 'X_train' is not defined"
     ]
    }
   ],
   "source": [
    "RFECV(\n",
    "    estimator= \n",
    ")"
   ]
  },
  {
   "cell_type": "code",
   "execution_count": 204,
   "metadata": {},
   "outputs": [
    {
     "name": "stderr",
     "output_type": "stream",
     "text": [
      "/Library/Frameworks/Python.framework/Versions/3.9/lib/python3.9/site-packages/sklearn/linear_model/_sag.py:350: ConvergenceWarning: The max_iter was reached which means the coef_ did not converge\n",
      "  warnings.warn(\n"
     ]
    },
    {
     "data": {
      "text/plain": [
       "0.7601723063074673"
      ]
     },
     "execution_count": 204,
     "metadata": {},
     "output_type": "execute_result"
    }
   ],
   "source": [
    "best_logit_params = {'C': best_params['C'], 'penalty': 'l1', 'solver': 'saga', 'class_weight': 'balanced'}\n",
    "\n",
    "logit_pipe = Pipeline([\n",
    "        ('imputer', SimpleImputer(strategy = 'median')),\n",
    "        ('scaler', StandardScaler(with_std= True)),\n",
    "        ('logit', LogisticRegression(random_state= 43, **best_logit_params))\n",
    "    ])\n",
    "\n",
    "logit_pipe.fit(X_train.drop(columns = remove_cols.values), y_train)\n",
    "\n",
    "roc_auc_score(y_test, logit_pipe.predict_proba(X_test.drop(columns = remove_cols.values))[:,1])\n"
   ]
  },
  {
   "cell_type": "markdown",
   "metadata": {},
   "source": [
    "### Preprocessing : Feature selection based on ANOVA F-value and correlation pairs"
   ]
  },
  {
   "cell_type": "code",
   "execution_count": 7,
   "metadata": {},
   "outputs": [],
   "source": [
    "imp = SimpleImputer(strategy = 'median').fit(X_train)\n",
    "X_train_copy = imp.transform(X_train.copy(deep = True))\n",
    "f_vals =f_classif(X_train_copy, y_train)\n",
    "\n",
    "feat_anova = pd.DataFrame(\n",
    "    data = {'feat_names': feat_names, 'f_vals':  f_vals[0]}\n",
    ").set_index('feat_names')\n",
    "\n",
    "high_corr_pairs = get_correlated_pairs(X_train, threshold=0.70)\n",
    "\n",
    "remove_cols = high_corr_pairs.apply(\n",
    "    lambda r: r['feature2'] if feat_anova.at[r['feature1'], 'f_vals'] > feat_anova.at[r['feature2'], 'f_vals']\n",
    "        else  r['feature1'], axis =1\n",
    "        ).drop_duplicates()\n"
   ]
  },
  {
   "cell_type": "markdown",
   "metadata": {},
   "source": []
  },
  {
   "cell_type": "markdown",
   "metadata": {},
   "source": [
    "#### Hyperopt tuning C"
   ]
  },
  {
   "cell_type": "code",
   "execution_count": null,
   "metadata": {},
   "outputs": [],
   "source": [
    "# Domain space\n",
    "space = {\n",
    "    'C': hp.loguniform('C', 0.001, 1),\n",
    "}\n",
    "\n",
    "def objective_function(params):\n",
    "\n",
    "    logit_pipe = Pipeline([\n",
    "        ('imputer', SimpleImputer(strategy = 'median')),\n",
    "        ('scaler', StandardScaler(with_std= True)),\n",
    "        ('logit', LogisticRegression(\n",
    "            random_state= 43, penalty = 'l1', solver = 'saga', C = params['C'], max_iter = 2000))\n",
    "    ])\n",
    "\n",
    "    cross_val = cross_val_score(\n",
    "        logit_pipe, X_train.drop(columns = remove_cols.values), y_train, \n",
    "        cv = StratifiedKFold(n_splits= 5, shuffle =True), scoring ='roc_auc', n_jobs= 5\n",
    "        )\n",
    "        \n",
    "    loss_mean = cross_val.mean()\n",
    "    loss_std = cross_val.std()\n",
    "    \n",
    "    return {'loss': -loss_mean, 'loss_std': loss_std, 'status': STATUS_OK}\n",
    "\n",
    "# Optimization algorithm\n",
    "tpe_algorithm = tpe.suggest\n",
    "\n",
    "# Result history \n",
    "trials = Trials()\n",
    "num_eval = 20\n",
    "\n",
    "best_params = fmin(\n",
    "    objective_function, space, tpe.suggest, max_evals = num_eval, \n",
    "    trials = trials\n",
    ")\n",
    "\n",
    "pickle.dump(trials, open(DIR + 'trial_results_v0_2.sav', 'wb'))\n"
   ]
  },
  {
   "cell_type": "markdown",
   "metadata": {},
   "source": [
    "#### LogisticRegressionCV"
   ]
  },
  {
   "cell_type": "code",
   "execution_count": null,
   "metadata": {},
   "outputs": [],
   "source": [
    "\n",
    "logit_transform_pipe = Pipeline([\n",
    "        ('imputer', SimpleImputer(strategy = 'median')),\n",
    "        ('scaler', StandardScaler(with_std= True))\n",
    "    ])\n",
    "\n",
    "X_train_copy = logit_transform_pipe.fit_transform(X_train.drop(columns = remove_cols.values))\n",
    "\n",
    "mdl_logit_cv = LogisticRegressionCV(\n",
    "    Cs = [0.001, 0.005, 0.01, 0.02, 0.05, 0.08, 0.1, 0.2, 0.3, 0.5, 0.7, 0.8, 1.0, 1.3, 1.5, 1.8, 2, 4],\n",
    "    penalty = 'l1', solver = 'saga', \n",
    "    class_weight = 'balanced',\n",
    "    n_jobs = 5, cv = StratifiedKFold(n_splits= 5, shuffle =True), scoring ='roc_auc', \n",
    "    max_iter = 2000,\n",
    "    random_state= 43\n",
    ")\n",
    "\n",
    "mdl_logit_cv.fit(X_train_copy, y_train)\n"
   ]
  },
  {
   "cell_type": "code",
   "execution_count": 148,
   "metadata": {},
   "outputs": [
    {
     "data": {
      "text/plain": [
       "<ErrorbarContainer object of 3 artists>"
      ]
     },
     "execution_count": 148,
     "metadata": {},
     "output_type": "execute_result"
    },
    {
     "data": {
      "image/png": "[encoded data removed]",
      "text/plain": [
       "<Figure size 640x480 with 1 Axes>"
      ]
     },
     "metadata": {},
     "output_type": "display_data"
    }
   ],
   "source": [
    "plt.errorbar(\n",
    "    x = mdl_logit_cv.Cs_,\n",
    "    y = np.mean(mdl_logit_cv.scores_[1], axis = 0),\n",
    "    yerr = np.std(mdl_logit_cv.scores_[1], axis = 0)\n",
    ")"
   ]
  },
  {
   "cell_type": "code",
   "execution_count": 167,
   "metadata": {},
   "outputs": [
    {
     "data": {
      "text/html": [
       "<style>#sk-container-id-10 {color: black;background-color: white;}#sk-container-id-10 pre{padding: 0;}#sk-container-id-10 div.sk-toggleable {background-color: white;}#sk-container-id-10 label.sk-toggleable__label {cursor: pointer;display: block;width: 100%;margin-bottom: 0;padding: 0.3em;box-sizing: border-box;text-align: center;}#sk-container-id-10 label.sk-toggleable__label-arrow:before {content: \"▸\";float: left;margin-right: 0.25em;color: #696969;}#sk-container-id-10 label.sk-toggleable__label-arrow:hover:before {color: black;}#sk-container-id-10 div.sk-estimator:hover label.sk-toggleable__label-arrow:before {color: black;}#sk-container-id-10 div.sk-toggleable__content {max-height: 0;max-width: 0;overflow: hidden;text-align: left;background-color: #f0f8ff;}#sk-container-id-10 div.sk-toggleable__content pre {margin: 0.2em;color: black;border-radius: 0.25em;background-color: #f0f8ff;}#sk-container-id-10 input.sk-toggleable__control:checked~div.sk-toggleable__content {max-height: 200px;max-width: 100%;overflow: auto;}#sk-container-id-10 input.sk-toggleable__control:checked~label.sk-toggleable__label-arrow:before {content: \"▾\";}#sk-container-id-10 div.sk-estimator input.sk-toggleable__control:checked~label.sk-toggleable__label {background-color: #d4ebff;}#sk-container-id-10 div.sk-label input.sk-toggleable__control:checked~label.sk-toggleable__label {background-color: #d4ebff;}#sk-container-id-10 input.sk-hidden--visually {border: 0;clip: rect(1px 1px 1px 1px);clip: rect(1px, 1px, 1px, 1px);height: 1px;margin: -1px;overflow: hidden;padding: 0;position: absolute;width: 1px;}#sk-container-id-10 div.sk-estimator {font-family: monospace;background-color: #f0f8ff;border: 1px dotted black;border-radius: 0.25em;box-sizing: border-box;margin-bottom: 0.5em;}#sk-container-id-10 div.sk-estimator:hover {background-color: #d4ebff;}#sk-container-id-10 div.sk-parallel-item::after {content: \"\";width: 100%;border-bottom: 1px solid gray;flex-grow: 1;}#sk-container-id-10 div.sk-label:hover label.sk-toggleable__label {background-color: #d4ebff;}#sk-container-id-10 div.sk-serial::before {content: \"\";position: absolute;border-left: 1px solid gray;box-sizing: border-box;top: 0;bottom: 0;left: 50%;z-index: 0;}#sk-container-id-10 div.sk-serial {display: flex;flex-direction: column;align-items: center;background-color: white;padding-right: 0.2em;padding-left: 0.2em;position: relative;}#sk-container-id-10 div.sk-item {position: relative;z-index: 1;}#sk-container-id-10 div.sk-parallel {display: flex;align-items: stretch;justify-content: center;background-color: white;position: relative;}#sk-container-id-10 div.sk-item::before, #sk-container-id-10 div.sk-parallel-item::before {content: \"\";position: absolute;border-left: 1px solid gray;box-sizing: border-box;top: 0;bottom: 0;left: 50%;z-index: -1;}#sk-container-id-10 div.sk-parallel-item {display: flex;flex-direction: column;z-index: 1;position: relative;background-color: white;}#sk-container-id-10 div.sk-parallel-item:first-child::after {align-self: flex-end;width: 50%;}#sk-container-id-10 div.sk-parallel-item:last-child::after {align-self: flex-start;width: 50%;}#sk-container-id-10 div.sk-parallel-item:only-child::after {width: 0;}#sk-container-id-10 div.sk-dashed-wrapped {border: 1px dashed gray;margin: 0 0.4em 0.5em 0.4em;box-sizing: border-box;padding-bottom: 0.4em;background-color: white;}#sk-container-id-10 div.sk-label label {font-family: monospace;font-weight: bold;display: inline-block;line-height: 1.2em;}#sk-container-id-10 div.sk-label-container {text-align: center;}#sk-container-id-10 div.sk-container {/* jupyter's `normalize.less` sets `[hidden] { display: none; }` but bootstrap.min.css set `[hidden] { display: none !important; }` so we also need the `!important` here to be able to override the default hidden behavior on the sphinx rendered scikit-learn.org. See: https://github.com/scikit-learn/scikit-learn/issues/21755 */display: inline-block !important;position: relative;}#sk-container-id-10 div.sk-text-repr-fallback {display: none;}</style><div id=\"sk-container-id-10\" class=\"sk-top-container\"><div class=\"sk-text-repr-fallback\"><pre>RandomizedSearchCV(cv=StratifiedKFold(n_splits=5, random_state=None, shuffle=True),\n",
       "                   estimator=Pipeline(steps=[(&#x27;imputer&#x27;,\n",
       "                                              SimpleImputer(strategy=&#x27;median&#x27;)),\n",
       "                                             (&#x27;scaler&#x27;, StandardScaler()),\n",
       "                                             (&#x27;logit&#x27;,\n",
       "                                              LogisticRegression(class_weight=&#x27;balanced&#x27;,\n",
       "                                                                 max_iter=2000,\n",
       "                                                                 penalty=&#x27;l1&#x27;,\n",
       "                                                                 random_state=43,\n",
       "                                                                 solver=&#x27;saga&#x27;))]),\n",
       "                   n_iter=20, n_jobs=5,\n",
       "                   param_distributions={&#x27;logit__C&#x27;: &lt;scipy.stats._distn_infrastructure.rv_continuous_frozen object at 0x7fb89df436a0&gt;},\n",
       "                   random_state=43, scoring=&#x27;roc_auc&#x27;)</pre><b>In a Jupyter environment, please rerun this cell to show the HTML representation or trust the notebook. <br />On GitHub, the HTML representation is unable to render, please try loading this page with nbviewer.org.</b></div><div class=\"sk-container\" hidden><div class=\"sk-item sk-dashed-wrapped\"><div class=\"sk-label-container\"><div class=\"sk-label sk-toggleable\"><input class=\"sk-toggleable__control sk-hidden--visually\" id=\"sk-estimator-id-14\" type=\"checkbox\" ><label for=\"sk-estimator-id-14\" class=\"sk-toggleable__label sk-toggleable__label-arrow\">RandomizedSearchCV</label><div class=\"sk-toggleable__content\"><pre>RandomizedSearchCV(cv=StratifiedKFold(n_splits=5, random_state=None, shuffle=True),\n",
       "                   estimator=Pipeline(steps=[(&#x27;imputer&#x27;,\n",
       "                                              SimpleImputer(strategy=&#x27;median&#x27;)),\n",
       "                                             (&#x27;scaler&#x27;, StandardScaler()),\n",
       "                                             (&#x27;logit&#x27;,\n",
       "                                              LogisticRegression(class_weight=&#x27;balanced&#x27;,\n",
       "                                                                 max_iter=2000,\n",
       "                                                                 penalty=&#x27;l1&#x27;,\n",
       "                                                                 random_state=43,\n",
       "                                                                 solver=&#x27;saga&#x27;))]),\n",
       "                   n_iter=20, n_jobs=5,\n",
       "                   param_distributions={&#x27;logit__C&#x27;: &lt;scipy.stats._distn_infrastructure.rv_continuous_frozen object at 0x7fb89df436a0&gt;},\n",
       "                   random_state=43, scoring=&#x27;roc_auc&#x27;)</pre></div></div></div><div class=\"sk-parallel\"><div class=\"sk-parallel-item\"><div class=\"sk-item\"><div class=\"sk-label-container\"><div class=\"sk-label sk-toggleable\"><input class=\"sk-toggleable__control sk-hidden--visually\" id=\"sk-estimator-id-15\" type=\"checkbox\" ><label for=\"sk-estimator-id-15\" class=\"sk-toggleable__label sk-toggleable__label-arrow\">estimator: Pipeline</label><div class=\"sk-toggleable__content\"><pre>Pipeline(steps=[(&#x27;imputer&#x27;, SimpleImputer(strategy=&#x27;median&#x27;)),\n",
       "                (&#x27;scaler&#x27;, StandardScaler()),\n",
       "                (&#x27;logit&#x27;,\n",
       "                 LogisticRegression(class_weight=&#x27;balanced&#x27;, max_iter=2000,\n",
       "                                    penalty=&#x27;l1&#x27;, random_state=43,\n",
       "                                    solver=&#x27;saga&#x27;))])</pre></div></div></div><div class=\"sk-serial\"><div class=\"sk-item\"><div class=\"sk-serial\"><div class=\"sk-item\"><div class=\"sk-estimator sk-toggleable\"><input class=\"sk-toggleable__control sk-hidden--visually\" id=\"sk-estimator-id-16\" type=\"checkbox\" ><label for=\"sk-estimator-id-16\" class=\"sk-toggleable__label sk-toggleable__label-arrow\">SimpleImputer</label><div class=\"sk-toggleable__content\"><pre>SimpleImputer(strategy=&#x27;median&#x27;)</pre></div></div></div><div class=\"sk-item\"><div class=\"sk-estimator sk-toggleable\"><input class=\"sk-toggleable__control sk-hidden--visually\" id=\"sk-estimator-id-17\" type=\"checkbox\" ><label for=\"sk-estimator-id-17\" class=\"sk-toggleable__label sk-toggleable__label-arrow\">StandardScaler</label><div class=\"sk-toggleable__content\"><pre>StandardScaler()</pre></div></div></div><div class=\"sk-item\"><div class=\"sk-estimator sk-toggleable\"><input class=\"sk-toggleable__control sk-hidden--visually\" id=\"sk-estimator-id-18\" type=\"checkbox\" ><label for=\"sk-estimator-id-18\" class=\"sk-toggleable__label sk-toggleable__label-arrow\">LogisticRegression</label><div class=\"sk-toggleable__content\"><pre>LogisticRegression(class_weight=&#x27;balanced&#x27;, max_iter=2000, penalty=&#x27;l1&#x27;,\n",
       "                   random_state=43, solver=&#x27;saga&#x27;)</pre></div></div></div></div></div></div></div></div></div></div></div></div>"
      ],
      "text/plain": [
       "RandomizedSearchCV(cv=StratifiedKFold(n_splits=5, random_state=None, shuffle=True),\n",
       "                   estimator=Pipeline(steps=[('imputer',\n",
       "                                              SimpleImputer(strategy='median')),\n",
       "                                             ('scaler', StandardScaler()),\n",
       "                                             ('logit',\n",
       "                                              LogisticRegression(class_weight='balanced',\n",
       "                                                                 max_iter=2000,\n",
       "                                                                 penalty='l1',\n",
       "                                                                 random_state=43,\n",
       "                                                                 solver='saga'))]),\n",
       "                   n_iter=20, n_jobs=5,\n",
       "                   param_distributions={'logit__C': <scipy.stats._distn_infrastructure.rv_continuous_frozen object at 0x7fb89df436a0>},\n",
       "                   random_state=43, scoring='roc_auc')"
      ]
     },
     "execution_count": 167,
     "metadata": {},
     "output_type": "execute_result"
    }
   ],
   "source": [
    "from sklearn.model_selection import RandomizedSearchCV\n",
    "from scipy.stats import norm\n",
    "\n",
    "distributions = {'logit__C': norm(loc=0.01, scale=0.003)}\n",
    "\n",
    "basic_params = {\n",
    "    'penalty': 'l1',\n",
    "    'solver': 'saga',\n",
    "    'class_weight': 'balanced',\n",
    "    'max_iter': 2000\n",
    "    }\n",
    "\n",
    "logit_pipe = Pipeline([\n",
    "        ('imputer', SimpleImputer(strategy = 'median')),\n",
    "        ('scaler', StandardScaler(with_std= True)),\n",
    "        ('logit', LogisticRegression(random_state= 43, **basic_params))\n",
    "    ])\n",
    "\n",
    "cv_random = RandomizedSearchCV(\n",
    "    logit_pipe, distributions, random_state=43, scoring = 'roc_auc', \n",
    "    n_jobs = 5, cv = StratifiedKFold(n_splits= 5, shuffle =True), \n",
    "    n_iter = 20\n",
    "    )\n",
    "    \n",
    "cv_random.fit(X_train.drop(columns = remove_cols.values), y_train)"
   ]
  },
  {
   "cell_type": "code",
   "execution_count": 198,
   "metadata": {},
   "outputs": [],
   "source": [
    "\n",
    "feat_names_1 = X_train.drop(columns = remove_cols.values).columns\n",
    "\n",
    "selector = SelectFromModel(cv_random.best_estimator_[2], threshold= 1e-3, prefit =True)\n"
   ]
  },
  {
   "cell_type": "code",
   "execution_count": 201,
   "metadata": {},
   "outputs": [
    {
     "data": {
      "text/plain": [
       "0.7601725934903902"
      ]
     },
     "execution_count": 201,
     "metadata": {},
     "output_type": "execute_result"
    }
   ],
   "source": [
    "roc_auc_score(y_test, cv_random.best_estimator_.predict_proba(X_test.drop(columns = remove_cols.values))[:,1])"
   ]
  },
  {
   "cell_type": "code",
   "execution_count": 199,
   "metadata": {},
   "outputs": [
    {
     "data": {
      "text/plain": [
       "(195,)"
      ]
     },
     "execution_count": 199,
     "metadata": {},
     "output_type": "execute_result"
    }
   ],
   "source": [
    "selector.get_feature_names_out(feat_names_1).shape"
   ]
  },
  {
   "cell_type": "code",
   "execution_count": 209,
   "metadata": {},
   "outputs": [
    {
     "data": {
      "text/plain": [
       "dict_keys(['mean_fit_time', 'std_fit_time', 'mean_score_time', 'std_score_time', 'param_logit__C', 'params', 'split0_test_score', 'split1_test_score', 'split2_test_score', 'split3_test_score', 'split4_test_score', 'mean_test_score', 'std_test_score', 'rank_test_score'])"
      ]
     },
     "execution_count": 209,
     "metadata": {},
     "output_type": "execute_result"
    }
   ],
   "source": [
    "cv_random.cv_results_.keys()"
   ]
  },
  {
   "cell_type": "code",
   "execution_count": 221,
   "metadata": {},
   "outputs": [
    {
     "ename": "TypeError",
     "evalue": "string indices must be integers",
     "output_type": "error",
     "traceback": [
      "\u001b[0;31m---------------------------------------------------------------------------\u001b[0m",
      "\u001b[0;31mTypeError\u001b[0m                                 Traceback (most recent call last)",
      "Cell \u001b[0;32mIn [221], line 1\u001b[0m\n\u001b[0;32m----> 1\u001b[0m \u001b[38;5;28;43msorted\u001b[39;49m\u001b[43m(\u001b[49m\u001b[43mcv_random\u001b[49m\u001b[38;5;241;43m.\u001b[39;49m\u001b[43mcv_results_\u001b[49m\u001b[43m,\u001b[49m\u001b[43m \u001b[49m\u001b[43mkey\u001b[49m\u001b[43m \u001b[49m\u001b[38;5;241;43m=\u001b[39;49m\u001b[43m \u001b[49m\u001b[38;5;28;43;01mlambda\u001b[39;49;00m\u001b[43m \u001b[49m\u001b[43mv\u001b[49m\u001b[43m:\u001b[49m\u001b[43m \u001b[49m\u001b[43mv\u001b[49m\u001b[43m[\u001b[49m\u001b[38;5;124;43m'\u001b[39;49m\u001b[38;5;124;43mparam_logit__C\u001b[39;49m\u001b[38;5;124;43m'\u001b[39;49m\u001b[43m]\u001b[49m\u001b[38;5;241;43m.\u001b[39;49m\u001b[43mdata\u001b[49m\u001b[43m)\u001b[49m\n",
      "Cell \u001b[0;32mIn [221], line 1\u001b[0m, in \u001b[0;36m<lambda>\u001b[0;34m(v)\u001b[0m\n\u001b[0;32m----> 1\u001b[0m \u001b[38;5;28msorted\u001b[39m(cv_random\u001b[38;5;241m.\u001b[39mcv_results_, key \u001b[38;5;241m=\u001b[39m \u001b[38;5;28;01mlambda\u001b[39;00m v: \u001b[43mv\u001b[49m\u001b[43m[\u001b[49m\u001b[38;5;124;43m'\u001b[39;49m\u001b[38;5;124;43mparam_logit__C\u001b[39;49m\u001b[38;5;124;43m'\u001b[39;49m\u001b[43m]\u001b[49m\u001b[38;5;241m.\u001b[39mdata)\n",
      "\u001b[0;31mTypeError\u001b[0m: string indices must be integers"
     ]
    }
   ],
   "source": [
    "sorted(cv_random.cv_results_, key = lambda v: v['param_logit__C'].data)"
   ]
  },
  {
   "cell_type": "code",
   "execution_count": 216,
   "metadata": {},
   "outputs": [
    {
     "data": {
      "text/plain": [
       "<ErrorbarContainer object of 3 artists>"
      ]
     },
     "execution_count": 216,
     "metadata": {},
     "output_type": "execute_result"
    },
    {
     "data": {
      "image/png": "[encoded data removed]",
      "text/plain": [
       "<Figure size 640x480 with 1 Axes>"
      ]
     },
     "metadata": {},
     "output_type": "display_data"
    }
   ],
   "source": [
    "plt.errorbar(\n",
    "    x = cv_random.cv_results_['param_logit__C'].data,\n",
    "    y = cv_random.cv_results_['mean_test_score'],\n",
    "    yerr =  cv_random.cv_results_['std_test_score']\n",
    ")"
   ]
  },
  {
   "cell_type": "code",
   "execution_count": 168,
   "metadata": {},
   "outputs": [
    {
     "data": {
      "text/plain": [
       "<AxesSubplot: xlabel='C', ylabel='AUC'>"
      ]
     },
     "execution_count": 168,
     "metadata": {},
     "output_type": "execute_result"
    },
    {
     "data": {
      "image/png": "[encoded data removed]",
      "text/plain": [
       "<Figure size 640x480 with 1 Axes>"
      ]
     },
     "metadata": {},
     "output_type": "display_data"
    }
   ],
   "source": [
    "pd.DataFrame(\n",
    "    data ={\n",
    "        'C': cv_random.cv_results_['param_logit__C'], \n",
    "        'AUC': cv_random.cv_results_['mean_test_score']\n",
    "        }).plot(x = 'C', y ='AUC', kind = 'scatter')"
   ]
  },
  {
   "cell_type": "code",
   "execution_count": 166,
   "metadata": {},
   "outputs": [
    {
     "data": {
      "text/plain": [
       "<AxesSubplot: xlabel='C', ylabel='AUC'>"
      ]
     },
     "execution_count": 166,
     "metadata": {},
     "output_type": "execute_result"
    },
    {
     "data": {
      "image/png": "[encoded data removed]",
      "text/plain": [
       "<Figure size 640x480 with 1 Axes>"
      ]
     },
     "metadata": {},
     "output_type": "display_data"
    }
   ],
   "source": [
    "pd.DataFrame(\n",
    "    data ={\n",
    "        'C': cv_random.cv_results_['param_logit__C'], \n",
    "        'AUC': cv_random.cv_results_['mean_test_score']\n",
    "        }).plot(x = 'C', y ='AUC', kind = 'scatter')"
   ]
  },
  {
   "cell_type": "code",
   "execution_count": 38,
   "metadata": {},
   "outputs": [],
   "source": [
    "trials = pickle.load(open(DIR + 'trial_results_v0_1.sav', 'rb'))"
   ]
  },
  {
   "cell_type": "code",
   "execution_count": 84,
   "metadata": {},
   "outputs": [],
   "source": [
    "df_trials = pd.DataFrame([val['result'] for val in trials.trials])\n",
    "df_trials['vals'] =[val['misc']['vals']['C'][0] for val in trials.trials]\n",
    "df_trials['vals'] = df_trials['vals'].apply(lambda r: round(r, 4))"
   ]
  },
  {
   "cell_type": "code",
   "execution_count": 85,
   "metadata": {},
   "outputs": [
    {
     "data": {
      "text/html": [
       "<div>\n",
       "<style scoped>\n",
       "    .dataframe tbody tr th:only-of-type {\n",
       "        vertical-align: middle;\n",
       "    }\n",
       "\n",
       "    .dataframe tbody tr th {\n",
       "        vertical-align: top;\n",
       "    }\n",
       "\n",
       "    .dataframe thead th {\n",
       "        text-align: right;\n",
       "    }\n",
       "</style>\n",
       "<table border=\"1\" class=\"dataframe\">\n",
       "  <thead>\n",
       "    <tr style=\"text-align: right;\">\n",
       "      <th></th>\n",
       "      <th>loss</th>\n",
       "      <th>loss_std</th>\n",
       "      <th>status</th>\n",
       "      <th>vals</th>\n",
       "    </tr>\n",
       "  </thead>\n",
       "  <tbody>\n",
       "    <tr>\n",
       "      <th>0</th>\n",
       "      <td>-0.756964</td>\n",
       "      <td>0.003376</td>\n",
       "      <td>ok</td>\n",
       "      <td>2.2815</td>\n",
       "    </tr>\n",
       "    <tr>\n",
       "      <th>1</th>\n",
       "      <td>-0.757536</td>\n",
       "      <td>0.003924</td>\n",
       "      <td>ok</td>\n",
       "      <td>1.0805</td>\n",
       "    </tr>\n",
       "    <tr>\n",
       "      <th>2</th>\n",
       "      <td>-0.757418</td>\n",
       "      <td>0.005913</td>\n",
       "      <td>ok</td>\n",
       "      <td>1.7708</td>\n",
       "    </tr>\n",
       "    <tr>\n",
       "      <th>3</th>\n",
       "      <td>-0.756930</td>\n",
       "      <td>0.001524</td>\n",
       "      <td>ok</td>\n",
       "      <td>1.5662</td>\n",
       "    </tr>\n",
       "    <tr>\n",
       "      <th>4</th>\n",
       "      <td>-0.757802</td>\n",
       "      <td>0.001934</td>\n",
       "      <td>ok</td>\n",
       "      <td>2.4505</td>\n",
       "    </tr>\n",
       "    <tr>\n",
       "      <th>5</th>\n",
       "      <td>-0.757348</td>\n",
       "      <td>0.004328</td>\n",
       "      <td>ok</td>\n",
       "      <td>2.0492</td>\n",
       "    </tr>\n",
       "    <tr>\n",
       "      <th>6</th>\n",
       "      <td>-0.757336</td>\n",
       "      <td>0.002690</td>\n",
       "      <td>ok</td>\n",
       "      <td>1.3352</td>\n",
       "    </tr>\n",
       "    <tr>\n",
       "      <th>7</th>\n",
       "      <td>-0.757440</td>\n",
       "      <td>0.006778</td>\n",
       "      <td>ok</td>\n",
       "      <td>1.7345</td>\n",
       "    </tr>\n",
       "    <tr>\n",
       "      <th>8</th>\n",
       "      <td>-0.757486</td>\n",
       "      <td>0.007331</td>\n",
       "      <td>ok</td>\n",
       "      <td>1.7629</td>\n",
       "    </tr>\n",
       "    <tr>\n",
       "      <th>9</th>\n",
       "      <td>-0.757810</td>\n",
       "      <td>0.005660</td>\n",
       "      <td>ok</td>\n",
       "      <td>2.3433</td>\n",
       "    </tr>\n",
       "    <tr>\n",
       "      <th>10</th>\n",
       "      <td>-0.757557</td>\n",
       "      <td>0.005710</td>\n",
       "      <td>ok</td>\n",
       "      <td>1.6869</td>\n",
       "    </tr>\n",
       "    <tr>\n",
       "      <th>11</th>\n",
       "      <td>-0.757473</td>\n",
       "      <td>0.007756</td>\n",
       "      <td>ok</td>\n",
       "      <td>1.0915</td>\n",
       "    </tr>\n",
       "    <tr>\n",
       "      <th>12</th>\n",
       "      <td>-0.758055</td>\n",
       "      <td>0.004559</td>\n",
       "      <td>ok</td>\n",
       "      <td>1.0071</td>\n",
       "    </tr>\n",
       "    <tr>\n",
       "      <th>13</th>\n",
       "      <td>-0.757285</td>\n",
       "      <td>0.007494</td>\n",
       "      <td>ok</td>\n",
       "      <td>2.4618</td>\n",
       "    </tr>\n",
       "    <tr>\n",
       "      <th>14</th>\n",
       "      <td>-0.757770</td>\n",
       "      <td>0.003313</td>\n",
       "      <td>ok</td>\n",
       "      <td>1.9951</td>\n",
       "    </tr>\n",
       "    <tr>\n",
       "      <th>15</th>\n",
       "      <td>-0.757054</td>\n",
       "      <td>0.006017</td>\n",
       "      <td>ok</td>\n",
       "      <td>2.2476</td>\n",
       "    </tr>\n",
       "    <tr>\n",
       "      <th>16</th>\n",
       "      <td>-0.757199</td>\n",
       "      <td>0.003374</td>\n",
       "      <td>ok</td>\n",
       "      <td>1.7836</td>\n",
       "    </tr>\n",
       "    <tr>\n",
       "      <th>17</th>\n",
       "      <td>-0.758002</td>\n",
       "      <td>0.003308</td>\n",
       "      <td>ok</td>\n",
       "      <td>1.3230</td>\n",
       "    </tr>\n",
       "    <tr>\n",
       "      <th>18</th>\n",
       "      <td>-0.757641</td>\n",
       "      <td>0.005008</td>\n",
       "      <td>ok</td>\n",
       "      <td>2.4841</td>\n",
       "    </tr>\n",
       "    <tr>\n",
       "      <th>19</th>\n",
       "      <td>-0.757647</td>\n",
       "      <td>0.004130</td>\n",
       "      <td>ok</td>\n",
       "      <td>2.2792</td>\n",
       "    </tr>\n",
       "  </tbody>\n",
       "</table>\n",
       "</div>"
      ],
      "text/plain": [
       "        loss  loss_std status    vals\n",
       "0  -0.756964  0.003376     ok  2.2815\n",
       "1  -0.757536  0.003924     ok  1.0805\n",
       "2  -0.757418  0.005913     ok  1.7708\n",
       "3  -0.756930  0.001524     ok  1.5662\n",
       "4  -0.757802  0.001934     ok  2.4505\n",
       "5  -0.757348  0.004328     ok  2.0492\n",
       "6  -0.757336  0.002690     ok  1.3352\n",
       "7  -0.757440  0.006778     ok  1.7345\n",
       "8  -0.757486  0.007331     ok  1.7629\n",
       "9  -0.757810  0.005660     ok  2.3433\n",
       "10 -0.757557  0.005710     ok  1.6869\n",
       "11 -0.757473  0.007756     ok  1.0915\n",
       "12 -0.758055  0.004559     ok  1.0071\n",
       "13 -0.757285  0.007494     ok  2.4618\n",
       "14 -0.757770  0.003313     ok  1.9951\n",
       "15 -0.757054  0.006017     ok  2.2476\n",
       "16 -0.757199  0.003374     ok  1.7836\n",
       "17 -0.758002  0.003308     ok  1.3230\n",
       "18 -0.757641  0.005008     ok  2.4841\n",
       "19 -0.757647  0.004130     ok  2.2792"
      ]
     },
     "execution_count": 85,
     "metadata": {},
     "output_type": "execute_result"
    }
   ],
   "source": [
    "df_trials"
   ]
  },
  {
   "cell_type": "code",
   "execution_count": 81,
   "metadata": {},
   "outputs": [
    {
     "data": {
      "text/html": [
       "<div>\n",
       "<style scoped>\n",
       "    .dataframe tbody tr th:only-of-type {\n",
       "        vertical-align: middle;\n",
       "    }\n",
       "\n",
       "    .dataframe tbody tr th {\n",
       "        vertical-align: top;\n",
       "    }\n",
       "\n",
       "    .dataframe thead th {\n",
       "        text-align: right;\n",
       "    }\n",
       "</style>\n",
       "<table border=\"1\" class=\"dataframe\">\n",
       "  <thead>\n",
       "    <tr style=\"text-align: right;\">\n",
       "      <th></th>\n",
       "      <th>loss</th>\n",
       "      <th>loss_std</th>\n",
       "      <th>status</th>\n",
       "      <th>vals</th>\n",
       "    </tr>\n",
       "  </thead>\n",
       "  <tbody>\n",
       "    <tr>\n",
       "      <th>0</th>\n",
       "      <td>-0.756776</td>\n",
       "      <td>0.003804</td>\n",
       "      <td>ok</td>\n",
       "      <td>51.0321</td>\n",
       "    </tr>\n",
       "    <tr>\n",
       "      <th>1</th>\n",
       "      <td>-0.757286</td>\n",
       "      <td>0.003993</td>\n",
       "      <td>ok</td>\n",
       "      <td>38.3729</td>\n",
       "    </tr>\n",
       "    <tr>\n",
       "      <th>2</th>\n",
       "      <td>-0.757340</td>\n",
       "      <td>0.007487</td>\n",
       "      <td>ok</td>\n",
       "      <td>2616.9450</td>\n",
       "    </tr>\n",
       "    <tr>\n",
       "      <th>3</th>\n",
       "      <td>-0.757534</td>\n",
       "      <td>0.005753</td>\n",
       "      <td>ok</td>\n",
       "      <td>1313.5652</td>\n",
       "    </tr>\n",
       "    <tr>\n",
       "      <th>4</th>\n",
       "      <td>-0.757884</td>\n",
       "      <td>0.004417</td>\n",
       "      <td>ok</td>\n",
       "      <td>26.3295</td>\n",
       "    </tr>\n",
       "    <tr>\n",
       "      <th>5</th>\n",
       "      <td>-0.757687</td>\n",
       "      <td>0.003989</td>\n",
       "      <td>ok</td>\n",
       "      <td>3.4261</td>\n",
       "    </tr>\n",
       "    <tr>\n",
       "      <th>6</th>\n",
       "      <td>-0.757860</td>\n",
       "      <td>0.003032</td>\n",
       "      <td>ok</td>\n",
       "      <td>26.8318</td>\n",
       "    </tr>\n",
       "    <tr>\n",
       "      <th>7</th>\n",
       "      <td>-0.757497</td>\n",
       "      <td>0.003098</td>\n",
       "      <td>ok</td>\n",
       "      <td>59.1785</td>\n",
       "    </tr>\n",
       "    <tr>\n",
       "      <th>8</th>\n",
       "      <td>-0.756766</td>\n",
       "      <td>0.001636</td>\n",
       "      <td>ok</td>\n",
       "      <td>3356.2938</td>\n",
       "    </tr>\n",
       "    <tr>\n",
       "      <th>9</th>\n",
       "      <td>-0.757597</td>\n",
       "      <td>0.002665</td>\n",
       "      <td>ok</td>\n",
       "      <td>21.8549</td>\n",
       "    </tr>\n",
       "    <tr>\n",
       "      <th>10</th>\n",
       "      <td>-0.757495</td>\n",
       "      <td>0.005342</td>\n",
       "      <td>ok</td>\n",
       "      <td>14750.7147</td>\n",
       "    </tr>\n",
       "    <tr>\n",
       "      <th>11</th>\n",
       "      <td>-0.757446</td>\n",
       "      <td>0.002509</td>\n",
       "      <td>ok</td>\n",
       "      <td>5.0533</td>\n",
       "    </tr>\n",
       "    <tr>\n",
       "      <th>12</th>\n",
       "      <td>-0.757694</td>\n",
       "      <td>0.004276</td>\n",
       "      <td>ok</td>\n",
       "      <td>15498.9625</td>\n",
       "    </tr>\n",
       "    <tr>\n",
       "      <th>13</th>\n",
       "      <td>-0.757486</td>\n",
       "      <td>0.005358</td>\n",
       "      <td>ok</td>\n",
       "      <td>3.3617</td>\n",
       "    </tr>\n",
       "    <tr>\n",
       "      <th>14</th>\n",
       "      <td>-0.757170</td>\n",
       "      <td>0.005978</td>\n",
       "      <td>ok</td>\n",
       "      <td>827.8198</td>\n",
       "    </tr>\n",
       "    <tr>\n",
       "      <th>15</th>\n",
       "      <td>-0.757072</td>\n",
       "      <td>0.002482</td>\n",
       "      <td>ok</td>\n",
       "      <td>1985.0200</td>\n",
       "    </tr>\n",
       "    <tr>\n",
       "      <th>16</th>\n",
       "      <td>-0.757535</td>\n",
       "      <td>0.003898</td>\n",
       "      <td>ok</td>\n",
       "      <td>114.2334</td>\n",
       "    </tr>\n",
       "    <tr>\n",
       "      <th>17</th>\n",
       "      <td>-0.757230</td>\n",
       "      <td>0.002540</td>\n",
       "      <td>ok</td>\n",
       "      <td>337.1488</td>\n",
       "    </tr>\n",
       "    <tr>\n",
       "      <th>18</th>\n",
       "      <td>-0.757709</td>\n",
       "      <td>0.001950</td>\n",
       "      <td>ok</td>\n",
       "      <td>2518.6598</td>\n",
       "    </tr>\n",
       "    <tr>\n",
       "      <th>19</th>\n",
       "      <td>-0.757851</td>\n",
       "      <td>0.007620</td>\n",
       "      <td>ok</td>\n",
       "      <td>9520.2213</td>\n",
       "    </tr>\n",
       "    <tr>\n",
       "      <th>20</th>\n",
       "      <td>-0.758499</td>\n",
       "      <td>0.006385</td>\n",
       "      <td>ok</td>\n",
       "      <td>1.2320</td>\n",
       "    </tr>\n",
       "    <tr>\n",
       "      <th>21</th>\n",
       "      <td>-0.757267</td>\n",
       "      <td>0.004686</td>\n",
       "      <td>ok</td>\n",
       "      <td>1.0938</td>\n",
       "    </tr>\n",
       "    <tr>\n",
       "      <th>22</th>\n",
       "      <td>-0.757536</td>\n",
       "      <td>0.005102</td>\n",
       "      <td>ok</td>\n",
       "      <td>1.1261</td>\n",
       "    </tr>\n",
       "    <tr>\n",
       "      <th>23</th>\n",
       "      <td>-0.757306</td>\n",
       "      <td>0.004220</td>\n",
       "      <td>ok</td>\n",
       "      <td>9.7813</td>\n",
       "    </tr>\n",
       "    <tr>\n",
       "      <th>24</th>\n",
       "      <td>-0.757376</td>\n",
       "      <td>0.003072</td>\n",
       "      <td>ok</td>\n",
       "      <td>10.1474</td>\n",
       "    </tr>\n",
       "    <tr>\n",
       "      <th>25</th>\n",
       "      <td>-0.757277</td>\n",
       "      <td>0.002507</td>\n",
       "      <td>ok</td>\n",
       "      <td>282.3457</td>\n",
       "    </tr>\n",
       "    <tr>\n",
       "      <th>26</th>\n",
       "      <td>-0.757151</td>\n",
       "      <td>0.004540</td>\n",
       "      <td>ok</td>\n",
       "      <td>1.6738</td>\n",
       "    </tr>\n",
       "    <tr>\n",
       "      <th>27</th>\n",
       "      <td>-0.757764</td>\n",
       "      <td>0.003799</td>\n",
       "      <td>ok</td>\n",
       "      <td>12.1635</td>\n",
       "    </tr>\n",
       "    <tr>\n",
       "      <th>28</th>\n",
       "      <td>-0.757429</td>\n",
       "      <td>0.002273</td>\n",
       "      <td>ok</td>\n",
       "      <td>86.8843</td>\n",
       "    </tr>\n",
       "    <tr>\n",
       "      <th>29</th>\n",
       "      <td>-0.757710</td>\n",
       "      <td>0.003415</td>\n",
       "      <td>ok</td>\n",
       "      <td>306.4871</td>\n",
       "    </tr>\n",
       "  </tbody>\n",
       "</table>\n",
       "</div>"
      ],
      "text/plain": [
       "        loss  loss_std status        vals\n",
       "0  -0.756776  0.003804     ok     51.0321\n",
       "1  -0.757286  0.003993     ok     38.3729\n",
       "2  -0.757340  0.007487     ok   2616.9450\n",
       "3  -0.757534  0.005753     ok   1313.5652\n",
       "4  -0.757884  0.004417     ok     26.3295\n",
       "5  -0.757687  0.003989     ok      3.4261\n",
       "6  -0.757860  0.003032     ok     26.8318\n",
       "7  -0.757497  0.003098     ok     59.1785\n",
       "8  -0.756766  0.001636     ok   3356.2938\n",
       "9  -0.757597  0.002665     ok     21.8549\n",
       "10 -0.757495  0.005342     ok  14750.7147\n",
       "11 -0.757446  0.002509     ok      5.0533\n",
       "12 -0.757694  0.004276     ok  15498.9625\n",
       "13 -0.757486  0.005358     ok      3.3617\n",
       "14 -0.757170  0.005978     ok    827.8198\n",
       "15 -0.757072  0.002482     ok   1985.0200\n",
       "16 -0.757535  0.003898     ok    114.2334\n",
       "17 -0.757230  0.002540     ok    337.1488\n",
       "18 -0.757709  0.001950     ok   2518.6598\n",
       "19 -0.757851  0.007620     ok   9520.2213\n",
       "20 -0.758499  0.006385     ok      1.2320\n",
       "21 -0.757267  0.004686     ok      1.0938\n",
       "22 -0.757536  0.005102     ok      1.1261\n",
       "23 -0.757306  0.004220     ok      9.7813\n",
       "24 -0.757376  0.003072     ok     10.1474\n",
       "25 -0.757277  0.002507     ok    282.3457\n",
       "26 -0.757151  0.004540     ok      1.6738\n",
       "27 -0.757764  0.003799     ok     12.1635\n",
       "28 -0.757429  0.002273     ok     86.8843\n",
       "29 -0.757710  0.003415     ok    306.4871"
      ]
     },
     "execution_count": 81,
     "metadata": {},
     "output_type": "execute_result"
    }
   ],
   "source": [
    "df_trials"
   ]
  }
 ],
 "metadata": {
  "kernelspec": {
   "display_name": "Python 3.9.0 64-bit",
   "language": "python",
   "name": "python3"
  },
  "language_info": {
   "codemirror_mode": {
    "name": "ipython",
    "version": 3
   },
   "file_extension": ".py",
   "mimetype": "text/x-python",
   "name": "python",
   "nbconvert_exporter": "python",
   "pygments_lexer": "ipython3",
   "version": "3.9.0"
  },
  "orig_nbformat": 4,
  "vscode": {
   "interpreter": {
    "hash": "397704579725e15f5c7cb49fe5f0341eb7531c82d19f2c29d197e8b64ab5776b"
   }
  }
 },
 "nbformat": 4,
 "nbformat_minor": 2
}
