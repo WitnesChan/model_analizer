{
 "cells": [
  {
   "cell_type": "code",
   "execution_count": 2,
   "metadata": {},
   "outputs": [],
   "source": [
    "import os\n",
    "os.chdir(\"..\")\n",
    "\n",
    "import numpy as np\n",
    "import pandas as pd\n",
    "from sklearn.model_selection import cross_val_score, train_test_split, StratifiedKFold\n",
    "from sklearn.metrics import roc_auc_score, f1_score, accuracy_score   \n",
    "from sklearn.ensemble import RandomForestClassifier\n",
    "from sklearn.linear_model import LogisticRegression\n",
    "from sklearn.tree import DecisionTreeClassifier\n",
    "from sklearn.preprocessing import StandardScaler\n",
    "\n",
    "\n",
    "from sklearn.pipeline import Pipeline\n",
    "from feature_engine import imputation as mdi\n",
    "\n",
    "import matplotlib.pyplot as plt\n",
    "import seaborn as sns\n",
    "import shap\n",
    "\n",
    "from hyperopt import fmin, tpe, Trials\n",
    "from hyperopt import STATUS_OK\n",
    "\n",
    "import lightgbm as lgb\n",
    "import xgboost as xgb\n",
    "from base.base import load_trainset, load_testset\n",
    "from base import util"
   ]
  },
  {
   "cell_type": "code",
   "execution_count": 3,
   "metadata": {},
   "outputs": [],
   "source": [
    "X_train, y_train = load_trainset(mode = 'local')\n",
    "X_test, y_test = load_testset(mode = 'local')\n",
    "\n",
    "d_train = xgb.DMatrix(X_train, y_train)\n",
    "d_test = xgb.DMatrix(X_test, y_test)"
   ]
  },
  {
   "attachments": {},
   "cell_type": "markdown",
   "metadata": {},
   "source": [
    "### Random Forest"
   ]
  },
  {
   "cell_type": "code",
   "execution_count": null,
   "metadata": {},
   "outputs": [],
   "source": [
    "pipe = Pipeline([\n",
    "                ('imputer', mdi.MeanMedianImputer(imputation_method='median')),\n",
    "            ])\n",
    "X_train = pipe.fit_transform(X_train)\n",
    "X_test =  pipe.transform(X_test)\n",
    "\n",
    "mdl_rf = RandomForestClassifier(\n",
    "    random_state= 43,  n_estimators= 300, max_samples = 0.8280, criterion= 'entropy', max_depth= 8, bootstrap= True, class_weight= 'balanced')\n",
    "\n",
    "mdl_rf.fit(X_train, y_train)"
   ]
  },
  {
   "attachments": {},
   "cell_type": "markdown",
   "metadata": {},
   "source": [
    "### XGBoost"
   ]
  },
  {
   "cell_type": "code",
   "execution_count": null,
   "metadata": {},
   "outputs": [],
   "source": [
    "\n",
    "# mdl_xgb = pickle.load(open('xgb_mdl_v1.pkl', 'rb'))\n",
    "params = {'base_score': 0.5,\n",
    " 'booster': 'gbtree',\n",
    " 'colsample_bylevel': 1,\n",
    " 'colsample_bytree': 1,\n",
    " 'gamma': 0.49999999999999994,\n",
    " 'learning_rate': 0.08203175775371215,\n",
    " 'max_delta_step': 0,\n",
    " 'max_depth': 3,\n",
    " 'min_child_weight': 1,\n",
    " 'missing': None,\n",
    " 'n_estimators': 200,\n",
    " 'n_jobs': 1,\n",
    " 'nthread': None,\n",
    " 'objective': 'binary:logistic',\n",
    " 'random_state': 43,\n",
    " 'reg_alpha': 0,\n",
    " 'reg_lambda': 1,\n",
    " 'scale_pos_weight': 1,\n",
    " 'seed': None,\n",
    " 'silent': True,\n",
    " 'missing': 1,\n",
    " 'subsample': 1}\n",
    " \n",
    "mdl_xgb = xgb.XGBClassifier(**params)\n",
    "\n",
    "mdl_xgb.fit(X_train, y_train)\n"
   ]
  },
  {
   "cell_type": "code",
   "execution_count": null,
   "metadata": {},
   "outputs": [],
   "source": [
    "mdl_xgb.set_params(**{'missing': 1})"
   ]
  },
  {
   "cell_type": "code",
   "execution_count": null,
   "metadata": {},
   "outputs": [],
   "source": [
    "pred_test = mdl_rf.predict_proba(X_test)\n",
    "print('AUC: ',roc_auc_score(y_test, pred_test[:,1]))\n",
    "print('accuracy_score: ', accuracy_score(y_test,  mdl_rf.predict(X_test)))\n"
   ]
  },
  {
   "cell_type": "code",
   "execution_count": null,
   "metadata": {},
   "outputs": [],
   "source": [
    "from catboost import CatBoostClassifier\n",
    "\n",
    "mdl_cat = CatBoostClassifier(iterations=10)\n",
    "mdl_cat.load_model('catboost_model.bin')\n",
    "\n",
    "mdl_cat.fit(X_train,  y_train)\n"
   ]
  },
  {
   "cell_type": "code",
   "execution_count": null,
   "metadata": {},
   "outputs": [],
   "source": [
    "ser_feat_imp_per = pd.Series(res.importances_mean, index = feat_names)\n",
    "\n",
    "fig, ax = plt.subplots(figsize = (14,10))\n",
    "\n",
    "ser_feat_imp_per.sort_values(ascending= False).head(10).plot.barh(yerr = res.importances_std[:50])\n",
    "ax.set_title('Feature importances using permutation on full model')\n",
    "ax.set_ylabel('Mean accuracy in impurity')\n",
    "fig.tight_layout()"
   ]
  },
  {
   "cell_type": "code",
   "execution_count": null,
   "metadata": {},
   "outputs": [],
   "source": [
    "# mdl_xgb = pickle.load(open('xgb_mdl_v1.pkl', 'rb'))\n",
    "params = {'base_score': 0.5,\n",
    " 'booster': 'gbtree',\n",
    " 'colsample_bylevel': 1,\n",
    " 'colsample_bytree': 1,\n",
    " 'gamma': 0.49999999999999994,\n",
    " 'learning_rate': 0.08203175775371215,\n",
    " 'max_delta_step': 0,\n",
    " 'max_depth': 3,\n",
    " 'min_child_weight': 1,\n",
    " 'missing': None,\n",
    " 'n_estimators': 50,\n",
    " 'n_jobs': 1,\n",
    " 'nthread': None,\n",
    " 'objective': 'binary:logistic',\n",
    " 'random_state': 43,\n",
    " 'reg_alpha': 0,\n",
    " 'reg_lambda': 1,\n",
    " 'scale_pos_weight': 1,\n",
    " 'seed': None,\n",
    " 'silent': True,\n",
    " 'missing': 1,\n",
    " 'subsample': 1}\n",
    " "
   ]
  },
  {
   "cell_type": "code",
   "execution_count": null,
   "metadata": {},
   "outputs": [],
   "source": [
    "\n",
    "selected_mdl_scores = []\n",
    "\n",
    "thresholds = sorted(mdl_xgb.feature_importances_)\n",
    "\n",
    "for thresh in thresholds:\n",
    "    # select features using threshold\n",
    "    selection = SelectFromModel(mdl_xgb, threshold=thresh, prefit=True)\n",
    "\n",
    "    # train model\n",
    "    selection_model = xgb.XGBClassifier(n_jobs = 3)\n",
    "    selection_model.fit(selection.transform(X_train), y_train)\n",
    "\n",
    "    # eval model\n",
    "    prob = selection_model.predict_prob(selection.transform(X_test))[:,1]\n",
    "\n",
    "    auc = roc_auc_score(y_test, prob)\n",
    "    selected_mdl_scores.append([thresh, select_X_train.shape[1], auc])\n",
    "\n",
    "    print(\"Thresh=%.3f, n=%d, AUC: %.2f%%\" % (thresh, select_X_train.shape[1], auc*100.0))\n",
    "\n"
   ]
  },
  {
   "cell_type": "code",
   "execution_count": null,
   "metadata": {},
   "outputs": [],
   "source": [
    "best_logit_params = {'C': 2.655690779733333, 'penalty': 'l1', 'solver': 'saga', 'class_weight': 'balanced'}\n",
    "\n",
    "logit_pipe = Pipeline([\n",
    "        ('imputer', mdi.MeanMedianImputer(imputation_method='median')),\n",
    "        ('scaler', StandardScaler(with_std= True)),\n",
    "        ('logit', LogisticRegression(random_state= 43, **best_logit_params))\n",
    "    ])\n",
    "\n",
    "logit_pipe.fit(X_train, y_train)\n"
   ]
  },
  {
   "cell_type": "code",
   "execution_count": null,
   "metadata": {},
   "outputs": [],
   "source": [
    "X_train_preds = logit_pipe.predict_proba(X_train)[:,1]\n",
    "X_test_preds = logit_pipe.predict_proba(X_test)[:,1]\n",
    "\n",
    "print('Train roc_auc: ', roc_auc_score(y_train, X_train_preds))\n",
    "print('Test roc_auc: ', roc_auc_score(y_test, X_test_preds))"
   ]
  },
  {
   "cell_type": "code",
   "execution_count": null,
   "metadata": {},
   "outputs": [],
   "source": [
    "from sklearn.feature_selection import SelectFromModel\n",
    "\n",
    "median_selector = SelectFromModel(estimator= logit_pipe[2], threshold= 'median' , prefit= True)\n",
    "\n",
    "median_selector.transform(X_train).shape\n"
   ]
  },
  {
   "cell_type": "code",
   "execution_count": null,
   "metadata": {},
   "outputs": [],
   "source": [
    "## catboost feature importance \n",
    "\n",
    "df_feat_cat = pd.read_excel('feature_importance_catboost.xlsx')\n",
    "feat_cat_set = set(df_feat_cat[df_feat_cat.PredictionValuesChange > 0]['Feature Id'])\n",
    "df_feat_cat = df_feat_cat.set_index('Feature Id')\n"
   ]
  },
  {
   "attachments": {},
   "cell_type": "markdown",
   "metadata": {},
   "source": [
    "### LightGBM"
   ]
  },
  {
   "cell_type": "code",
   "execution_count": 21,
   "metadata": {},
   "outputs": [],
   "source": [
    "import optuna\n",
    "lgb_study = optuna.load_study(study_name= 'lgb_trials_v2', storage = util.sqlite_path)"
   ]
  },
  {
   "cell_type": "code",
   "execution_count": 31,
   "metadata": {},
   "outputs": [
    {
     "data": {
      "text/plain": [
       "{'bagging_fraction': 0.9,\n",
       " 'bagging_freq': 1,\n",
       " 'feature_fraction': 0.9,\n",
       " 'lambda_l1': 25,\n",
       " 'lambda_l2': 95,\n",
       " 'learning_rate': 0.2767832168530619,\n",
       " 'max_depth': 7,\n",
       " 'min_data_in_leaf': 3900,\n",
       " 'min_gain_to_split': 2.120872709000934,\n",
       " 'n_estimators': 348,\n",
       " 'num_leaves': 1340}"
      ]
     },
     "execution_count": 31,
     "metadata": {},
     "output_type": "execute_result"
    }
   ],
   "source": [
    "lgb_study.best_params\n"
   ]
  },
  {
   "cell_type": "code",
   "execution_count": 34,
   "metadata": {},
   "outputs": [
    {
     "data": {
      "application/vnd.plotly.v1+json": {
       "config": {
        "plotlyServerURL": "https://plot.ly"
       },
       "data": [
        {
         "mode": "markers",
         "name": "Objective Value",
         "type": "scatter",
         "x": [
          0,
          1,
          2,
          3,
          4,
          14,
          20,
          21,
          22,
          24,
          25,
          26,
          27,
          28,
          29,
          31,
          33,
          34,
          36,
          37,
          41,
          61,
          64,
          74,
          81,
          82,
          92,
          93,
          98
         ],
         "y": [
          0.7643287569614661,
          0.7610044780398102,
          0.7620271212466699,
          0.76108015670649,
          0.7672974592793891,
          0.7672391576470889,
          0.7686628281190993,
          0.7677791254493176,
          0.7680921156156415,
          0.7665951998855854,
          0.7679083544499457,
          0.7703717259633653,
          0.7703769003436616,
          0.7706916524114588,
          0.7711595018888884,
          0.7713620506606889,
          0.7710109916866986,
          0.7702066539181253,
          0.7722035541412715,
          0.7725221527508741,
          0.7713274573465712,
          0.7704616106290689,
          0.770729079089977,
          0.7709866273761563,
          0.7711629187750321,
          0.7713934852173344,
          0.7716097125196206,
          0.7725360495039817,
          0.7714299662700513
         ]
        },
        {
         "name": "Best Value",
         "type": "scatter",
         "x": [
          0,
          1,
          2,
          3,
          4,
          14,
          20,
          21,
          22,
          24,
          25,
          26,
          27,
          28,
          29,
          31,
          33,
          34,
          36,
          37,
          41,
          61,
          64,
          74,
          81,
          82,
          92,
          93,
          98
         ],
         "y": [
          0.7643287569614661,
          0.7643287569614661,
          0.7643287569614661,
          0.7643287569614661,
          0.7672974592793891,
          0.7672974592793891,
          0.7686628281190993,
          0.7686628281190993,
          0.7686628281190993,
          0.7686628281190993,
          0.7686628281190993,
          0.7703717259633653,
          0.7703769003436616,
          0.7706916524114588,
          0.7711595018888884,
          0.7713620506606889,
          0.7713620506606889,
          0.7713620506606889,
          0.7722035541412715,
          0.7725221527508741,
          0.7725221527508741,
          0.7725221527508741,
          0.7725221527508741,
          0.7725221527508741,
          0.7725221527508741,
          0.7725221527508741,
          0.7725221527508741,
          0.7725360495039817,
          0.7725360495039817
         ]
        }
       ],
       "layout": {
        "template": {
         "data": {
          "bar": [
           {
            "error_x": {
             "color": "#2a3f5f"
            },
            "error_y": {
             "color": "#2a3f5f"
            },
            "marker": {
             "line": {
              "color": "#E5ECF6",
              "width": 0.5
             },
             "pattern": {
              "fillmode": "overlay",
              "size": 10,
              "solidity": 0.2
             }
            },
            "type": "bar"
           }
          ],
          "barpolar": [
           {
            "marker": {
             "line": {
              "color": "#E5ECF6",
              "width": 0.5
             },
             "pattern": {
              "fillmode": "overlay",
              "size": 10,
              "solidity": 0.2
             }
            },
            "type": "barpolar"
           }
          ],
          "carpet": [
           {
            "aaxis": {
             "endlinecolor": "#2a3f5f",
             "gridcolor": "white",
             "linecolor": "white",
             "minorgridcolor": "white",
             "startlinecolor": "#2a3f5f"
            },
            "baxis": {
             "endlinecolor": "#2a3f5f",
             "gridcolor": "white",
             "linecolor": "white",
             "minorgridcolor": "white",
             "startlinecolor": "#2a3f5f"
            },
            "type": "carpet"
           }
          ],
          "choropleth": [
           {
            "colorbar": {
             "outlinewidth": 0,
             "ticks": ""
            },
            "type": "choropleth"
           }
          ],
          "contour": [
           {
            "colorbar": {
             "outlinewidth": 0,
             "ticks": ""
            },
            "colorscale": [
             [
              0,
              "#0d0887"
             ],
             [
              0.1111111111111111,
              "#46039f"
             ],
             [
              0.2222222222222222,
              "#7201a8"
             ],
             [
              0.3333333333333333,
              "#9c179e"
             ],
             [
              0.4444444444444444,
              "#bd3786"
             ],
             [
              0.5555555555555556,
              "#d8576b"
             ],
             [
              0.6666666666666666,
              "#ed7953"
             ],
             [
              0.7777777777777778,
              "#fb9f3a"
             ],
             [
              0.8888888888888888,
              "#fdca26"
             ],
             [
              1,
              "#f0f921"
             ]
            ],
            "type": "contour"
           }
          ],
          "contourcarpet": [
           {
            "colorbar": {
             "outlinewidth": 0,
             "ticks": ""
            },
            "type": "contourcarpet"
           }
          ],
          "heatmap": [
           {
            "colorbar": {
             "outlinewidth": 0,
             "ticks": ""
            },
            "colorscale": [
             [
              0,
              "#0d0887"
             ],
             [
              0.1111111111111111,
              "#46039f"
             ],
             [
              0.2222222222222222,
              "#7201a8"
             ],
             [
              0.3333333333333333,
              "#9c179e"
             ],
             [
              0.4444444444444444,
              "#bd3786"
             ],
             [
              0.5555555555555556,
              "#d8576b"
             ],
             [
              0.6666666666666666,
              "#ed7953"
             ],
             [
              0.7777777777777778,
              "#fb9f3a"
             ],
             [
              0.8888888888888888,
              "#fdca26"
             ],
             [
              1,
              "#f0f921"
             ]
            ],
            "type": "heatmap"
           }
          ],
          "heatmapgl": [
           {
            "colorbar": {
             "outlinewidth": 0,
             "ticks": ""
            },
            "colorscale": [
             [
              0,
              "#0d0887"
             ],
             [
              0.1111111111111111,
              "#46039f"
             ],
             [
              0.2222222222222222,
              "#7201a8"
             ],
             [
              0.3333333333333333,
              "#9c179e"
             ],
             [
              0.4444444444444444,
              "#bd3786"
             ],
             [
              0.5555555555555556,
              "#d8576b"
             ],
             [
              0.6666666666666666,
              "#ed7953"
             ],
             [
              0.7777777777777778,
              "#fb9f3a"
             ],
             [
              0.8888888888888888,
              "#fdca26"
             ],
             [
              1,
              "#f0f921"
             ]
            ],
            "type": "heatmapgl"
           }
          ],
          "histogram": [
           {
            "marker": {
             "pattern": {
              "fillmode": "overlay",
              "size": 10,
              "solidity": 0.2
             }
            },
            "type": "histogram"
           }
          ],
          "histogram2d": [
           {
            "colorbar": {
             "outlinewidth": 0,
             "ticks": ""
            },
            "colorscale": [
             [
              0,
              "#0d0887"
             ],
             [
              0.1111111111111111,
              "#46039f"
             ],
             [
              0.2222222222222222,
              "#7201a8"
             ],
             [
              0.3333333333333333,
              "#9c179e"
             ],
             [
              0.4444444444444444,
              "#bd3786"
             ],
             [
              0.5555555555555556,
              "#d8576b"
             ],
             [
              0.6666666666666666,
              "#ed7953"
             ],
             [
              0.7777777777777778,
              "#fb9f3a"
             ],
             [
              0.8888888888888888,
              "#fdca26"
             ],
             [
              1,
              "#f0f921"
             ]
            ],
            "type": "histogram2d"
           }
          ],
          "histogram2dcontour": [
           {
            "colorbar": {
             "outlinewidth": 0,
             "ticks": ""
            },
            "colorscale": [
             [
              0,
              "#0d0887"
             ],
             [
              0.1111111111111111,
              "#46039f"
             ],
             [
              0.2222222222222222,
              "#7201a8"
             ],
             [
              0.3333333333333333,
              "#9c179e"
             ],
             [
              0.4444444444444444,
              "#bd3786"
             ],
             [
              0.5555555555555556,
              "#d8576b"
             ],
             [
              0.6666666666666666,
              "#ed7953"
             ],
             [
              0.7777777777777778,
              "#fb9f3a"
             ],
             [
              0.8888888888888888,
              "#fdca26"
             ],
             [
              1,
              "#f0f921"
             ]
            ],
            "type": "histogram2dcontour"
           }
          ],
          "mesh3d": [
           {
            "colorbar": {
             "outlinewidth": 0,
             "ticks": ""
            },
            "type": "mesh3d"
           }
          ],
          "parcoords": [
           {
            "line": {
             "colorbar": {
              "outlinewidth": 0,
              "ticks": ""
             }
            },
            "type": "parcoords"
           }
          ],
          "pie": [
           {
            "automargin": true,
            "type": "pie"
           }
          ],
          "scatter": [
           {
            "fillpattern": {
             "fillmode": "overlay",
             "size": 10,
             "solidity": 0.2
            },
            "type": "scatter"
           }
          ],
          "scatter3d": [
           {
            "line": {
             "colorbar": {
              "outlinewidth": 0,
              "ticks": ""
             }
            },
            "marker": {
             "colorbar": {
              "outlinewidth": 0,
              "ticks": ""
             }
            },
            "type": "scatter3d"
           }
          ],
          "scattercarpet": [
           {
            "marker": {
             "colorbar": {
              "outlinewidth": 0,
              "ticks": ""
             }
            },
            "type": "scattercarpet"
           }
          ],
          "scattergeo": [
           {
            "marker": {
             "colorbar": {
              "outlinewidth": 0,
              "ticks": ""
             }
            },
            "type": "scattergeo"
           }
          ],
          "scattergl": [
           {
            "marker": {
             "colorbar": {
              "outlinewidth": 0,
              "ticks": ""
             }
            },
            "type": "scattergl"
           }
          ],
          "scattermapbox": [
           {
            "marker": {
             "colorbar": {
              "outlinewidth": 0,
              "ticks": ""
             }
            },
            "type": "scattermapbox"
           }
          ],
          "scatterpolar": [
           {
            "marker": {
             "colorbar": {
              "outlinewidth": 0,
              "ticks": ""
             }
            },
            "type": "scatterpolar"
           }
          ],
          "scatterpolargl": [
           {
            "marker": {
             "colorbar": {
              "outlinewidth": 0,
              "ticks": ""
             }
            },
            "type": "scatterpolargl"
           }
          ],
          "scatterternary": [
           {
            "marker": {
             "colorbar": {
              "outlinewidth": 0,
              "ticks": ""
             }
            },
            "type": "scatterternary"
           }
          ],
          "surface": [
           {
            "colorbar": {
             "outlinewidth": 0,
             "ticks": ""
            },
            "colorscale": [
             [
              0,
              "#0d0887"
             ],
             [
              0.1111111111111111,
              "#46039f"
             ],
             [
              0.2222222222222222,
              "#7201a8"
             ],
             [
              0.3333333333333333,
              "#9c179e"
             ],
             [
              0.4444444444444444,
              "#bd3786"
             ],
             [
              0.5555555555555556,
              "#d8576b"
             ],
             [
              0.6666666666666666,
              "#ed7953"
             ],
             [
              0.7777777777777778,
              "#fb9f3a"
             ],
             [
              0.8888888888888888,
              "#fdca26"
             ],
             [
              1,
              "#f0f921"
             ]
            ],
            "type": "surface"
           }
          ],
          "table": [
           {
            "cells": {
             "fill": {
              "color": "#EBF0F8"
             },
             "line": {
              "color": "white"
             }
            },
            "header": {
             "fill": {
              "color": "#C8D4E3"
             },
             "line": {
              "color": "white"
             }
            },
            "type": "table"
           }
          ]
         },
         "layout": {
          "annotationdefaults": {
           "arrowcolor": "#2a3f5f",
           "arrowhead": 0,
           "arrowwidth": 1
          },
          "autotypenumbers": "strict",
          "coloraxis": {
           "colorbar": {
            "outlinewidth": 0,
            "ticks": ""
           }
          },
          "colorscale": {
           "diverging": [
            [
             0,
             "#8e0152"
            ],
            [
             0.1,
             "#c51b7d"
            ],
            [
             0.2,
             "#de77ae"
            ],
            [
             0.3,
             "#f1b6da"
            ],
            [
             0.4,
             "#fde0ef"
            ],
            [
             0.5,
             "#f7f7f7"
            ],
            [
             0.6,
             "#e6f5d0"
            ],
            [
             0.7,
             "#b8e186"
            ],
            [
             0.8,
             "#7fbc41"
            ],
            [
             0.9,
             "#4d9221"
            ],
            [
             1,
             "#276419"
            ]
           ],
           "sequential": [
            [
             0,
             "#0d0887"
            ],
            [
             0.1111111111111111,
             "#46039f"
            ],
            [
             0.2222222222222222,
             "#7201a8"
            ],
            [
             0.3333333333333333,
             "#9c179e"
            ],
            [
             0.4444444444444444,
             "#bd3786"
            ],
            [
             0.5555555555555556,
             "#d8576b"
            ],
            [
             0.6666666666666666,
             "#ed7953"
            ],
            [
             0.7777777777777778,
             "#fb9f3a"
            ],
            [
             0.8888888888888888,
             "#fdca26"
            ],
            [
             1,
             "#f0f921"
            ]
           ],
           "sequentialminus": [
            [
             0,
             "#0d0887"
            ],
            [
             0.1111111111111111,
             "#46039f"
            ],
            [
             0.2222222222222222,
             "#7201a8"
            ],
            [
             0.3333333333333333,
             "#9c179e"
            ],
            [
             0.4444444444444444,
             "#bd3786"
            ],
            [
             0.5555555555555556,
             "#d8576b"
            ],
            [
             0.6666666666666666,
             "#ed7953"
            ],
            [
             0.7777777777777778,
             "#fb9f3a"
            ],
            [
             0.8888888888888888,
             "#fdca26"
            ],
            [
             1,
             "#f0f921"
            ]
           ]
          },
          "colorway": [
           "#636efa",
           "#EF553B",
           "#00cc96",
           "#ab63fa",
           "#FFA15A",
           "#19d3f3",
           "#FF6692",
           "#B6E880",
           "#FF97FF",
           "#FECB52"
          ],
          "font": {
           "color": "#2a3f5f"
          },
          "geo": {
           "bgcolor": "white",
           "lakecolor": "white",
           "landcolor": "#E5ECF6",
           "showlakes": true,
           "showland": true,
           "subunitcolor": "white"
          },
          "hoverlabel": {
           "align": "left"
          },
          "hovermode": "closest",
          "mapbox": {
           "style": "light"
          },
          "paper_bgcolor": "white",
          "plot_bgcolor": "#E5ECF6",
          "polar": {
           "angularaxis": {
            "gridcolor": "white",
            "linecolor": "white",
            "ticks": ""
           },
           "bgcolor": "#E5ECF6",
           "radialaxis": {
            "gridcolor": "white",
            "linecolor": "white",
            "ticks": ""
           }
          },
          "scene": {
           "xaxis": {
            "backgroundcolor": "#E5ECF6",
            "gridcolor": "white",
            "gridwidth": 2,
            "linecolor": "white",
            "showbackground": true,
            "ticks": "",
            "zerolinecolor": "white"
           },
           "yaxis": {
            "backgroundcolor": "#E5ECF6",
            "gridcolor": "white",
            "gridwidth": 2,
            "linecolor": "white",
            "showbackground": true,
            "ticks": "",
            "zerolinecolor": "white"
           },
           "zaxis": {
            "backgroundcolor": "#E5ECF6",
            "gridcolor": "white",
            "gridwidth": 2,
            "linecolor": "white",
            "showbackground": true,
            "ticks": "",
            "zerolinecolor": "white"
           }
          },
          "shapedefaults": {
           "line": {
            "color": "#2a3f5f"
           }
          },
          "ternary": {
           "aaxis": {
            "gridcolor": "white",
            "linecolor": "white",
            "ticks": ""
           },
           "baxis": {
            "gridcolor": "white",
            "linecolor": "white",
            "ticks": ""
           },
           "bgcolor": "#E5ECF6",
           "caxis": {
            "gridcolor": "white",
            "linecolor": "white",
            "ticks": ""
           }
          },
          "title": {
           "x": 0.05
          },
          "xaxis": {
           "automargin": true,
           "gridcolor": "white",
           "linecolor": "white",
           "ticks": "",
           "title": {
            "standoff": 15
           },
           "zerolinecolor": "white",
           "zerolinewidth": 2
          },
          "yaxis": {
           "automargin": true,
           "gridcolor": "white",
           "linecolor": "white",
           "ticks": "",
           "title": {
            "standoff": 15
           },
           "zerolinecolor": "white",
           "zerolinewidth": 2
          }
         }
        },
        "title": {
         "text": "Optimization History Plot"
        },
        "xaxis": {
         "title": {
          "text": "Trial"
         }
        },
        "yaxis": {
         "title": {
          "text": "Objective Value"
         }
        }
       }
      }
     },
     "metadata": {},
     "output_type": "display_data"
    }
   ],
   "source": [
    "fig = optuna.visualization.plot_optimization_history(lgb_study)\n",
    "fig.show()\n"
   ]
  },
  {
   "cell_type": "code",
   "execution_count": 33,
   "metadata": {},
   "outputs": [
    {
     "data": {
      "application/vnd.plotly.v1+json": {
       "config": {
        "plotlyServerURL": "https://plot.ly"
       },
       "data": [
        {
         "type": "scatter",
         "xaxis": "x",
         "yaxis": "y"
        },
        {
         "colorbar": {
          "title": {
           "text": "Objective Value"
          }
         },
         "colorscale": [
          [
           0,
           "rgb(247,251,255)"
          ],
          [
           0.125,
           "rgb(222,235,247)"
          ],
          [
           0.25,
           "rgb(198,219,239)"
          ],
          [
           0.375,
           "rgb(158,202,225)"
          ],
          [
           0.5,
           "rgb(107,174,214)"
          ],
          [
           0.625,
           "rgb(66,146,198)"
          ],
          [
           0.75,
           "rgb(33,113,181)"
          ],
          [
           0.875,
           "rgb(8,81,156)"
          ],
          [
           1,
           "rgb(8,48,107)"
          ]
         ],
         "connectgaps": true,
         "contours": {
          "coloring": "heatmap"
         },
         "hoverinfo": "none",
         "line": {
          "smoothing": 1.3
         },
         "reversescale": false,
         "showscale": true,
         "type": "contour",
         "x": [
          0.27,
          0.30000000000000004,
          0.5,
          0.6000000000000001,
          0.7,
          0.8,
          0.9,
          0.93
         ],
         "xaxis": "x5",
         "y": [
          -4.75,
          0,
          5,
          10,
          15,
          20,
          25,
          30,
          35,
          40,
          50,
          95,
          99.75
         ],
         "yaxis": "y5",
         "z": [
          [
           null,
           null,
           null,
           null,
           null,
           null,
           null,
           null
          ],
          [
           null,
           null,
           null,
           0.7665951998855854,
           null,
           null,
           null,
           null
          ],
          [
           null,
           null,
           null,
           null,
           null,
           null,
           0.7714299662700513,
           null
          ],
          [
           null,
           null,
           0.7643287569614661,
           0.7680921156156415,
           null,
           null,
           null,
           null
          ],
          [
           null,
           null,
           0.7672391576470889,
           0.7677791254493176,
           null,
           null,
           null,
           null
          ],
          [
           null,
           null,
           null,
           null,
           0.7679083544499457,
           null,
           null,
           null
          ],
          [
           null,
           0.7610044780398102,
           null,
           null,
           null,
           0.7713934852173344,
           0.7725360495039817,
           null
          ],
          [
           null,
           null,
           null,
           0.7620271212466699,
           0.7703769003436616,
           null,
           0.7716097125196206,
           null
          ],
          [
           null,
           null,
           null,
           null,
           null,
           0.7711629187750321,
           0.7702066539181253,
           null
          ],
          [
           null,
           null,
           null,
           null,
           null,
           0.7709866273761563,
           null,
           null
          ],
          [
           null,
           null,
           null,
           null,
           null,
           null,
           0.7672974592793891,
           null
          ],
          [
           null,
           null,
           null,
           null,
           0.76108015670649,
           null,
           null,
           null
          ],
          [
           null,
           null,
           null,
           null,
           null,
           null,
           null,
           null
          ]
         ]
        },
        {
         "marker": {
          "color": "black",
          "line": {
           "color": "Grey",
           "width": 2
          }
         },
         "mode": "markers",
         "showlegend": false,
         "type": "scatter",
         "x": [
          0.5,
          0.30000000000000004,
          0.6000000000000001,
          0.7,
          0.9,
          0.5,
          0.6000000000000001,
          0.6000000000000001,
          0.6000000000000001,
          0.6000000000000001,
          0.7,
          0.7,
          0.7,
          0.8,
          0.8,
          0.8,
          0.9,
          0.9,
          0.8,
          0.9,
          0.9,
          0.8,
          0.9,
          0.8,
          0.8,
          0.8,
          0.9,
          0.9,
          0.9
         ],
         "xaxis": "x5",
         "y": [
          10,
          25,
          30,
          95,
          50,
          15,
          10,
          15,
          10,
          0,
          20,
          30,
          30,
          35,
          35,
          35,
          30,
          35,
          25,
          25,
          30,
          35,
          30,
          40,
          35,
          25,
          30,
          25,
          5
         ],
         "yaxis": "y5"
        },
        {
         "colorbar": {
          "title": {
           "text": "Objective Value"
          }
         },
         "colorscale": [
          [
           0,
           "rgb(247,251,255)"
          ],
          [
           0.125,
           "rgb(222,235,247)"
          ],
          [
           0.25,
           "rgb(198,219,239)"
          ],
          [
           0.375,
           "rgb(158,202,225)"
          ],
          [
           0.5,
           "rgb(107,174,214)"
          ],
          [
           0.625,
           "rgb(66,146,198)"
          ],
          [
           0.75,
           "rgb(33,113,181)"
          ],
          [
           0.875,
           "rgb(8,81,156)"
          ],
          [
           1,
           "rgb(8,48,107)"
          ]
         ],
         "connectgaps": true,
         "contours": {
          "coloring": "heatmap"
         },
         "hoverinfo": "none",
         "line": {
          "smoothing": 1.3
         },
         "reversescale": false,
         "showscale": false,
         "type": "contour",
         "x": [
          0.27,
          0.30000000000000004,
          0.5,
          0.6000000000000001,
          0.7,
          0.8,
          0.9,
          0.93
         ],
         "xaxis": "x9",
         "y": [
          0.25,
          5,
          10,
          15,
          40,
          50,
          60,
          70,
          80,
          85,
          90,
          95,
          100,
          104.75
         ],
         "yaxis": "y9",
         "z": [
          [
           null,
           null,
           null,
           null,
           null,
           null,
           null,
           null
          ],
          [
           null,
           null,
           null,
           null,
           null,
           null,
           0.7672974592793891,
           null
          ],
          [
           null,
           null,
           null,
           0.7620271212466699,
           null,
           null,
           null,
           null
          ],
          [
           null,
           null,
           0.7643287569614661,
           null,
           null,
           null,
           null,
           null
          ],
          [
           null,
           0.7610044780398102,
           0.7672391576470889,
           null,
           null,
           null,
           null,
           null
          ],
          [
           null,
           null,
           null,
           null,
           0.76108015670649,
           null,
           null,
           null
          ],
          [
           null,
           null,
           null,
           0.7680921156156415,
           0.7679083544499457,
           null,
           null,
           null
          ],
          [
           null,
           null,
           null,
           0.7665951998855854,
           null,
           null,
           null,
           null
          ],
          [
           null,
           null,
           null,
           null,
           0.7703717259633653,
           null,
           0.770729079089977,
           null
          ],
          [
           null,
           null,
           null,
           null,
           null,
           0.7713934852173344,
           0.7714299662700513,
           null
          ],
          [
           null,
           null,
           null,
           null,
           0.7703769003436616,
           0.7711629187750321,
           0.7702066539181253,
           null
          ],
          [
           null,
           null,
           null,
           null,
           null,
           0.7709866273761563,
           0.7725360495039817,
           null
          ],
          [
           null,
           null,
           null,
           null,
           null,
           0.7711595018888884,
           null,
           null
          ],
          [
           null,
           null,
           null,
           null,
           null,
           null,
           null,
           null
          ]
         ]
        },
        {
         "marker": {
          "color": "black",
          "line": {
           "color": "Grey",
           "width": 2
          }
         },
         "mode": "markers",
         "showlegend": false,
         "type": "scatter",
         "x": [
          0.5,
          0.30000000000000004,
          0.6000000000000001,
          0.7,
          0.9,
          0.5,
          0.6000000000000001,
          0.6000000000000001,
          0.6000000000000001,
          0.6000000000000001,
          0.7,
          0.7,
          0.7,
          0.8,
          0.8,
          0.8,
          0.9,
          0.9,
          0.8,
          0.9,
          0.9,
          0.8,
          0.9,
          0.8,
          0.8,
          0.8,
          0.9,
          0.9,
          0.9
         ],
         "xaxis": "x9",
         "y": [
          15,
          40,
          10,
          50,
          5,
          40,
          60,
          60,
          60,
          70,
          60,
          80,
          90,
          90,
          100,
          90,
          90,
          90,
          85,
          80,
          95,
          90,
          80,
          95,
          90,
          85,
          95,
          95,
          85
         ],
         "yaxis": "y9"
        },
        {
         "colorbar": {
          "title": {
           "text": "Objective Value"
          }
         },
         "colorscale": [
          [
           0,
           "rgb(247,251,255)"
          ],
          [
           0.125,
           "rgb(222,235,247)"
          ],
          [
           0.25,
           "rgb(198,219,239)"
          ],
          [
           0.375,
           "rgb(158,202,225)"
          ],
          [
           0.5,
           "rgb(107,174,214)"
          ],
          [
           0.625,
           "rgb(66,146,198)"
          ],
          [
           0.75,
           "rgb(33,113,181)"
          ],
          [
           0.875,
           "rgb(8,81,156)"
          ],
          [
           1,
           "rgb(8,48,107)"
          ]
         ],
         "connectgaps": true,
         "contours": {
          "coloring": "heatmap"
         },
         "hoverinfo": "none",
         "line": {
          "smoothing": 1.3
         },
         "reversescale": false,
         "showscale": false,
         "type": "contour",
         "x": [
          0.27,
          0.30000000000000004,
          0.5,
          0.6000000000000001,
          0.7,
          0.8,
          0.9,
          0.93
         ],
         "xaxis": "x13",
         "y": [
          0.060981969836169825,
          0.07234949028205193,
          0.09722982967286814,
          0.11610627212255427,
          0.2129948090234533,
          0.23694330593890797,
          0.25041047321236326,
          0.2590806607461145,
          0.2594212212104831,
          0.2633444888249059,
          0.2633873227375459,
          0.26532934027940036,
          0.2767832168530619,
          0.27911162575227044,
          0.27953456466951737,
          0.28357612742830024,
          0.2836263267940342,
          0.2859265689094595,
          0.2875702631078968,
          0.29190291361789245,
          0.29254568970082023,
          0.293771818847945,
          0.29405679773317844,
          0.29455185760998315,
          0.295688663762785,
          0.2957585840586968,
          0.29720465467169466,
          0.29936128031005416,
          0.29955597933195727,
          0.2996998991996939,
          0.31106741964557605
         ],
         "yaxis": "y13",
         "z": [
          [
           null,
           null,
           null,
           null,
           null,
           null,
           null,
           null
          ],
          [
           null,
           null,
           null,
           null,
           0.76108015670649,
           null,
           null,
           null
          ],
          [
           null,
           0.7610044780398102,
           null,
           null,
           null,
           null,
           null,
           null
          ],
          [
           null,
           null,
           null,
           null,
           null,
           null,
           0.7672974592793891,
           null
          ],
          [
           null,
           null,
           0.7672391576470889,
           null,
           null,
           null,
           null,
           null
          ],
          [
           null,
           null,
           0.7643287569614661,
           null,
           null,
           null,
           null,
           null
          ],
          [
           null,
           null,
           null,
           null,
           0.7703717259633653,
           null,
           null,
           null
          ],
          [
           null,
           null,
           null,
           null,
           0.7679083544499457,
           null,
           null,
           null
          ],
          [
           null,
           null,
           null,
           0.7686628281190993,
           null,
           null,
           null,
           null
          ],
          [
           null,
           null,
           null,
           0.7665951998855854,
           null,
           null,
           null,
           null
          ],
          [
           null,
           null,
           null,
           0.7677791254493176,
           null,
           null,
           null,
           null
          ],
          [
           null,
           null,
           null,
           0.7680921156156415,
           null,
           null,
           null,
           null
          ],
          [
           null,
           null,
           null,
           null,
           null,
           null,
           0.7725360495039817,
           null
          ],
          [
           null,
           null,
           null,
           null,
           null,
           0.7722035541412715,
           null,
           null
          ],
          [
           null,
           null,
           null,
           null,
           null,
           null,
           0.7725221527508741,
           null
          ],
          [
           null,
           null,
           null,
           null,
           0.7703769003436616,
           null,
           null,
           null
          ],
          [
           null,
           null,
           null,
           null,
           null,
           0.7713620506606889,
           null,
           null
          ],
          [
           null,
           null,
           null,
           null,
           null,
           null,
           0.7713274573465712,
           null
          ],
          [
           null,
           null,
           null,
           null,
           null,
           null,
           0.770729079089977,
           null
          ],
          [
           null,
           null,
           null,
           null,
           null,
           0.7709866273761563,
           null,
           null
          ],
          [
           null,
           null,
           null,
           null,
           null,
           null,
           0.7716097125196206,
           null
          ],
          [
           null,
           null,
           null,
           null,
           null,
           0.7704616106290689,
           null,
           null
          ],
          [
           null,
           null,
           null,
           0.7620271212466699,
           null,
           null,
           null,
           null
          ],
          [
           null,
           null,
           null,
           null,
           null,
           0.7713934852173344,
           null,
           null
          ],
          [
           null,
           null,
           null,
           null,
           null,
           null,
           0.7714299662700513,
           null
          ],
          [
           null,
           null,
           null,
           null,
           null,
           0.7711595018888884,
           null,
           null
          ],
          [
           null,
           null,
           null,
           null,
           null,
           0.7706916524114588,
           null,
           null
          ],
          [
           null,
           null,
           null,
           null,
           null,
           0.7711629187750321,
           null,
           null
          ],
          [
           null,
           null,
           null,
           null,
           null,
           null,
           0.7702066539181253,
           null
          ],
          [
           null,
           null,
           null,
           null,
           null,
           null,
           0.7710109916866986,
           null
          ],
          [
           null,
           null,
           null,
           null,
           null,
           null,
           null,
           null
          ]
         ]
        },
        {
         "marker": {
          "color": "black",
          "line": {
           "color": "Grey",
           "width": 2
          }
         },
         "mode": "markers",
         "showlegend": false,
         "type": "scatter",
         "x": [
          0.5,
          0.30000000000000004,
          0.6000000000000001,
          0.7,
          0.9,
          0.5,
          0.6000000000000001,
          0.6000000000000001,
          0.6000000000000001,
          0.6000000000000001,
          0.7,
          0.7,
          0.7,
          0.8,
          0.8,
          0.8,
          0.9,
          0.9,
          0.8,
          0.9,
          0.9,
          0.8,
          0.9,
          0.8,
          0.8,
          0.8,
          0.9,
          0.9,
          0.9
         ],
         "xaxis": "x13",
         "y": [
          0.23694330593890797,
          0.09722982967286814,
          0.29405679773317844,
          0.07234949028205193,
          0.11610627212255427,
          0.2129948090234533,
          0.2594212212104831,
          0.2633873227375459,
          0.26532934027940036,
          0.2633444888249059,
          0.2590806607461145,
          0.25041047321236326,
          0.28357612742830024,
          0.29720465467169466,
          0.2957585840586968,
          0.2836263267940342,
          0.2996998991996939,
          0.29955597933195727,
          0.27911162575227044,
          0.27953456466951737,
          0.2859265689094595,
          0.293771818847945,
          0.2875702631078968,
          0.29190291361789245,
          0.29936128031005416,
          0.29455185760998315,
          0.29254568970082023,
          0.2767832168530619,
          0.295688663762785
         ],
         "yaxis": "y13"
        },
        {
         "colorbar": {
          "title": {
           "text": "Objective Value"
          }
         },
         "colorscale": [
          [
           0,
           "rgb(247,251,255)"
          ],
          [
           0.125,
           "rgb(222,235,247)"
          ],
          [
           0.25,
           "rgb(198,219,239)"
          ],
          [
           0.375,
           "rgb(158,202,225)"
          ],
          [
           0.5,
           "rgb(107,174,214)"
          ],
          [
           0.625,
           "rgb(66,146,198)"
          ],
          [
           0.75,
           "rgb(33,113,181)"
          ],
          [
           0.875,
           "rgb(8,81,156)"
          ],
          [
           1,
           "rgb(8,48,107)"
          ]
         ],
         "connectgaps": true,
         "contours": {
          "coloring": "heatmap"
         },
         "hoverinfo": "none",
         "line": {
          "smoothing": 1.3
         },
         "reversescale": false,
         "showscale": false,
         "type": "contour",
         "x": [
          -4.75,
          0,
          5,
          10,
          15,
          20,
          25,
          30,
          35,
          40,
          50,
          95,
          99.75
         ],
         "xaxis": "x2",
         "y": [
          0.27,
          0.30000000000000004,
          0.5,
          0.6000000000000001,
          0.7,
          0.8,
          0.9,
          0.93
         ],
         "yaxis": "y2",
         "z": [
          [
           null,
           null,
           null,
           null,
           null,
           null,
           null,
           null,
           null,
           null,
           null,
           null,
           null
          ],
          [
           null,
           null,
           null,
           null,
           null,
           null,
           0.7610044780398102,
           null,
           null,
           null,
           null,
           null,
           null
          ],
          [
           null,
           null,
           null,
           0.7643287569614661,
           0.7672391576470889,
           null,
           null,
           null,
           null,
           null,
           null,
           null,
           null
          ],
          [
           null,
           0.7665951998855854,
           null,
           0.7680921156156415,
           0.7677791254493176,
           null,
           null,
           0.7620271212466699,
           null,
           null,
           null,
           null,
           null
          ],
          [
           null,
           null,
           null,
           null,
           null,
           0.7679083544499457,
           null,
           0.7703769003436616,
           null,
           null,
           null,
           0.76108015670649,
           null
          ],
          [
           null,
           null,
           null,
           null,
           null,
           null,
           0.7713934852173344,
           null,
           0.7711629187750321,
           0.7709866273761563,
           null,
           null,
           null
          ],
          [
           null,
           null,
           0.7714299662700513,
           null,
           null,
           null,
           0.7725360495039817,
           0.7716097125196206,
           0.7702066539181253,
           null,
           0.7672974592793891,
           null,
           null
          ],
          [
           null,
           null,
           null,
           null,
           null,
           null,
           null,
           null,
           null,
           null,
           null,
           null,
           null
          ]
         ]
        },
        {
         "marker": {
          "color": "black",
          "line": {
           "color": "Grey",
           "width": 2
          }
         },
         "mode": "markers",
         "showlegend": false,
         "type": "scatter",
         "x": [
          10,
          25,
          30,
          95,
          50,
          15,
          10,
          15,
          10,
          0,
          20,
          30,
          30,
          35,
          35,
          35,
          30,
          35,
          25,
          25,
          30,
          35,
          30,
          40,
          35,
          25,
          30,
          25,
          5
         ],
         "xaxis": "x2",
         "y": [
          0.5,
          0.30000000000000004,
          0.6000000000000001,
          0.7,
          0.9,
          0.5,
          0.6000000000000001,
          0.6000000000000001,
          0.6000000000000001,
          0.6000000000000001,
          0.7,
          0.7,
          0.7,
          0.8,
          0.8,
          0.8,
          0.9,
          0.9,
          0.8,
          0.9,
          0.9,
          0.8,
          0.9,
          0.8,
          0.8,
          0.8,
          0.9,
          0.9,
          0.9
         ],
         "yaxis": "y2"
        },
        {
         "type": "scatter",
         "xaxis": "x6",
         "yaxis": "y6"
        },
        {
         "colorbar": {
          "title": {
           "text": "Objective Value"
          }
         },
         "colorscale": [
          [
           0,
           "rgb(247,251,255)"
          ],
          [
           0.125,
           "rgb(222,235,247)"
          ],
          [
           0.25,
           "rgb(198,219,239)"
          ],
          [
           0.375,
           "rgb(158,202,225)"
          ],
          [
           0.5,
           "rgb(107,174,214)"
          ],
          [
           0.625,
           "rgb(66,146,198)"
          ],
          [
           0.75,
           "rgb(33,113,181)"
          ],
          [
           0.875,
           "rgb(8,81,156)"
          ],
          [
           1,
           "rgb(8,48,107)"
          ]
         ],
         "connectgaps": true,
         "contours": {
          "coloring": "heatmap"
         },
         "hoverinfo": "none",
         "line": {
          "smoothing": 1.3
         },
         "reversescale": false,
         "showscale": false,
         "type": "contour",
         "x": [
          -4.75,
          0,
          5,
          10,
          15,
          20,
          25,
          30,
          35,
          40,
          50,
          95,
          99.75
         ],
         "xaxis": "x10",
         "y": [
          0.25,
          5,
          10,
          15,
          40,
          50,
          60,
          70,
          80,
          85,
          90,
          95,
          100,
          104.75
         ],
         "yaxis": "y10",
         "z": [
          [
           null,
           null,
           null,
           null,
           null,
           null,
           null,
           null,
           null,
           null,
           null,
           null,
           null
          ],
          [
           null,
           null,
           null,
           null,
           null,
           null,
           null,
           null,
           null,
           null,
           0.7672974592793891,
           null,
           null
          ],
          [
           null,
           null,
           null,
           null,
           null,
           null,
           null,
           0.7620271212466699,
           null,
           null,
           null,
           null,
           null
          ],
          [
           null,
           null,
           null,
           0.7643287569614661,
           null,
           null,
           null,
           null,
           null,
           null,
           null,
           null,
           null
          ],
          [
           null,
           null,
           null,
           null,
           0.7672391576470889,
           null,
           0.7610044780398102,
           null,
           null,
           null,
           null,
           null,
           null
          ],
          [
           null,
           null,
           null,
           null,
           null,
           null,
           null,
           null,
           null,
           null,
           null,
           0.76108015670649,
           null
          ],
          [
           null,
           null,
           null,
           0.7680921156156415,
           0.7677791254493176,
           0.7679083544499457,
           null,
           null,
           null,
           null,
           null,
           null,
           null
          ],
          [
           null,
           0.7665951998855854,
           null,
           null,
           null,
           null,
           null,
           null,
           null,
           null,
           null,
           null,
           null
          ],
          [
           null,
           null,
           null,
           null,
           null,
           null,
           0.7725221527508741,
           0.770729079089977,
           null,
           null,
           null,
           null,
           null
          ],
          [
           null,
           null,
           0.7714299662700513,
           null,
           null,
           null,
           0.7713934852173344,
           null,
           null,
           null,
           null,
           null,
           null
          ],
          [
           null,
           null,
           null,
           null,
           null,
           null,
           null,
           0.7710109916866986,
           0.7711629187750321,
           null,
           null,
           null,
           null
          ],
          [
           null,
           null,
           null,
           null,
           null,
           null,
           0.7725360495039817,
           0.7716097125196206,
           null,
           0.7709866273761563,
           null,
           null,
           null
          ],
          [
           null,
           null,
           null,
           null,
           null,
           null,
           null,
           null,
           0.7711595018888884,
           null,
           null,
           null,
           null
          ],
          [
           null,
           null,
           null,
           null,
           null,
           null,
           null,
           null,
           null,
           null,
           null,
           null,
           null
          ]
         ]
        },
        {
         "marker": {
          "color": "black",
          "line": {
           "color": "Grey",
           "width": 2
          }
         },
         "mode": "markers",
         "showlegend": false,
         "type": "scatter",
         "x": [
          10,
          25,
          30,
          95,
          50,
          15,
          10,
          15,
          10,
          0,
          20,
          30,
          30,
          35,
          35,
          35,
          30,
          35,
          25,
          25,
          30,
          35,
          30,
          40,
          35,
          25,
          30,
          25,
          5
         ],
         "xaxis": "x10",
         "y": [
          15,
          40,
          10,
          50,
          5,
          40,
          60,
          60,
          60,
          70,
          60,
          80,
          90,
          90,
          100,
          90,
          90,
          90,
          85,
          80,
          95,
          90,
          80,
          95,
          90,
          85,
          95,
          95,
          85
         ],
         "yaxis": "y10"
        },
        {
         "colorbar": {
          "title": {
           "text": "Objective Value"
          }
         },
         "colorscale": [
          [
           0,
           "rgb(247,251,255)"
          ],
          [
           0.125,
           "rgb(222,235,247)"
          ],
          [
           0.25,
           "rgb(198,219,239)"
          ],
          [
           0.375,
           "rgb(158,202,225)"
          ],
          [
           0.5,
           "rgb(107,174,214)"
          ],
          [
           0.625,
           "rgb(66,146,198)"
          ],
          [
           0.75,
           "rgb(33,113,181)"
          ],
          [
           0.875,
           "rgb(8,81,156)"
          ],
          [
           1,
           "rgb(8,48,107)"
          ]
         ],
         "connectgaps": true,
         "contours": {
          "coloring": "heatmap"
         },
         "hoverinfo": "none",
         "line": {
          "smoothing": 1.3
         },
         "reversescale": false,
         "showscale": false,
         "type": "contour",
         "x": [
          -4.75,
          0,
          5,
          10,
          15,
          20,
          25,
          30,
          35,
          40,
          50,
          95,
          99.75
         ],
         "xaxis": "x14",
         "y": [
          0.060981969836169825,
          0.07234949028205193,
          0.09722982967286814,
          0.11610627212255427,
          0.2129948090234533,
          0.23694330593890797,
          0.25041047321236326,
          0.2590806607461145,
          0.2594212212104831,
          0.2633444888249059,
          0.2633873227375459,
          0.26532934027940036,
          0.2767832168530619,
          0.27911162575227044,
          0.27953456466951737,
          0.28357612742830024,
          0.2836263267940342,
          0.2859265689094595,
          0.2875702631078968,
          0.29190291361789245,
          0.29254568970082023,
          0.293771818847945,
          0.29405679773317844,
          0.29455185760998315,
          0.295688663762785,
          0.2957585840586968,
          0.29720465467169466,
          0.29936128031005416,
          0.29955597933195727,
          0.2996998991996939,
          0.31106741964557605
         ],
         "yaxis": "y14",
         "z": [
          [
           null,
           null,
           null,
           null,
           null,
           null,
           null,
           null,
           null,
           null,
           null,
           null,
           null
          ],
          [
           null,
           null,
           null,
           null,
           null,
           null,
           null,
           null,
           null,
           null,
           null,
           0.76108015670649,
           null
          ],
          [
           null,
           null,
           null,
           null,
           null,
           null,
           0.7610044780398102,
           null,
           null,
           null,
           null,
           null,
           null
          ],
          [
           null,
           null,
           null,
           null,
           null,
           null,
           null,
           null,
           null,
           null,
           0.7672974592793891,
           null,
           null
          ],
          [
           null,
           null,
           null,
           null,
           0.7672391576470889,
           null,
           null,
           null,
           null,
           null,
           null,
           null,
           null
          ],
          [
           null,
           null,
           null,
           0.7643287569614661,
           null,
           null,
           null,
           null,
           null,
           null,
           null,
           null,
           null
          ],
          [
           null,
           null,
           null,
           null,
           null,
           null,
           null,
           0.7703717259633653,
           null,
           null,
           null,
           null,
           null
          ],
          [
           null,
           null,
           null,
           null,
           null,
           0.7679083544499457,
           null,
           null,
           null,
           null,
           null,
           null,
           null
          ],
          [
           null,
           null,
           null,
           0.7686628281190993,
           null,
           null,
           null,
           null,
           null,
           null,
           null,
           null,
           null
          ],
          [
           null,
           0.7665951998855854,
           null,
           null,
           null,
           null,
           null,
           null,
           null,
           null,
           null,
           null,
           null
          ],
          [
           null,
           null,
           null,
           null,
           0.7677791254493176,
           null,
           null,
           null,
           null,
           null,
           null,
           null,
           null
          ],
          [
           null,
           null,
           null,
           0.7680921156156415,
           null,
           null,
           null,
           null,
           null,
           null,
           null,
           null,
           null
          ],
          [
           null,
           null,
           null,
           null,
           null,
           null,
           0.7725360495039817,
           null,
           null,
           null,
           null,
           null,
           null
          ],
          [
           null,
           null,
           null,
           null,
           null,
           null,
           0.7722035541412715,
           null,
           null,
           null,
           null,
           null,
           null
          ],
          [
           null,
           null,
           null,
           null,
           null,
           null,
           0.7725221527508741,
           null,
           null,
           null,
           null,
           null,
           null
          ],
          [
           null,
           null,
           null,
           null,
           null,
           null,
           null,
           0.7703769003436616,
           null,
           null,
           null,
           null,
           null
          ],
          [
           null,
           null,
           null,
           null,
           null,
           null,
           null,
           null,
           0.7713620506606889,
           null,
           null,
           null,
           null
          ],
          [
           null,
           null,
           null,
           null,
           null,
           null,
           null,
           0.7713274573465712,
           null,
           null,
           null,
           null,
           null
          ],
          [
           null,
           null,
           null,
           null,
           null,
           null,
           null,
           0.770729079089977,
           null,
           null,
           null,
           null,
           null
          ],
          [
           null,
           null,
           null,
           null,
           null,
           null,
           null,
           null,
           null,
           0.7709866273761563,
           null,
           null,
           null
          ],
          [
           null,
           null,
           null,
           null,
           null,
           null,
           null,
           0.7716097125196206,
           null,
           null,
           null,
           null,
           null
          ],
          [
           null,
           null,
           null,
           null,
           null,
           null,
           null,
           null,
           0.7704616106290689,
           null,
           null,
           null,
           null
          ],
          [
           null,
           null,
           null,
           null,
           null,
           null,
           null,
           0.7620271212466699,
           null,
           null,
           null,
           null,
           null
          ],
          [
           null,
           null,
           null,
           null,
           null,
           null,
           0.7713934852173344,
           null,
           null,
           null,
           null,
           null,
           null
          ],
          [
           null,
           null,
           0.7714299662700513,
           null,
           null,
           null,
           null,
           null,
           null,
           null,
           null,
           null,
           null
          ],
          [
           null,
           null,
           null,
           null,
           null,
           null,
           null,
           null,
           0.7711595018888884,
           null,
           null,
           null,
           null
          ],
          [
           null,
           null,
           null,
           null,
           null,
           null,
           null,
           null,
           0.7706916524114588,
           null,
           null,
           null,
           null
          ],
          [
           null,
           null,
           null,
           null,
           null,
           null,
           null,
           null,
           0.7711629187750321,
           null,
           null,
           null,
           null
          ],
          [
           null,
           null,
           null,
           null,
           null,
           null,
           null,
           null,
           0.7702066539181253,
           null,
           null,
           null,
           null
          ],
          [
           null,
           null,
           null,
           null,
           null,
           null,
           null,
           0.7710109916866986,
           null,
           null,
           null,
           null,
           null
          ],
          [
           null,
           null,
           null,
           null,
           null,
           null,
           null,
           null,
           null,
           null,
           null,
           null,
           null
          ]
         ]
        },
        {
         "marker": {
          "color": "black",
          "line": {
           "color": "Grey",
           "width": 2
          }
         },
         "mode": "markers",
         "showlegend": false,
         "type": "scatter",
         "x": [
          10,
          25,
          30,
          95,
          50,
          15,
          10,
          15,
          10,
          0,
          20,
          30,
          30,
          35,
          35,
          35,
          30,
          35,
          25,
          25,
          30,
          35,
          30,
          40,
          35,
          25,
          30,
          25,
          5
         ],
         "xaxis": "x14",
         "y": [
          0.23694330593890797,
          0.09722982967286814,
          0.29405679773317844,
          0.07234949028205193,
          0.11610627212255427,
          0.2129948090234533,
          0.2594212212104831,
          0.2633873227375459,
          0.26532934027940036,
          0.2633444888249059,
          0.2590806607461145,
          0.25041047321236326,
          0.28357612742830024,
          0.29720465467169466,
          0.2957585840586968,
          0.2836263267940342,
          0.2996998991996939,
          0.29955597933195727,
          0.27911162575227044,
          0.27953456466951737,
          0.2859265689094595,
          0.293771818847945,
          0.2875702631078968,
          0.29190291361789245,
          0.29936128031005416,
          0.29455185760998315,
          0.29254568970082023,
          0.2767832168530619,
          0.295688663762785
         ],
         "yaxis": "y14"
        },
        {
         "colorbar": {
          "title": {
           "text": "Objective Value"
          }
         },
         "colorscale": [
          [
           0,
           "rgb(247,251,255)"
          ],
          [
           0.125,
           "rgb(222,235,247)"
          ],
          [
           0.25,
           "rgb(198,219,239)"
          ],
          [
           0.375,
           "rgb(158,202,225)"
          ],
          [
           0.5,
           "rgb(107,174,214)"
          ],
          [
           0.625,
           "rgb(66,146,198)"
          ],
          [
           0.75,
           "rgb(33,113,181)"
          ],
          [
           0.875,
           "rgb(8,81,156)"
          ],
          [
           1,
           "rgb(8,48,107)"
          ]
         ],
         "connectgaps": true,
         "contours": {
          "coloring": "heatmap"
         },
         "hoverinfo": "none",
         "line": {
          "smoothing": 1.3
         },
         "reversescale": false,
         "showscale": false,
         "type": "contour",
         "x": [
          0.25,
          5,
          10,
          15,
          40,
          50,
          60,
          70,
          80,
          85,
          90,
          95,
          100,
          104.75
         ],
         "xaxis": "x3",
         "y": [
          0.27,
          0.30000000000000004,
          0.5,
          0.6000000000000001,
          0.7,
          0.8,
          0.9,
          0.93
         ],
         "yaxis": "y3",
         "z": [
          [
           null,
           null,
           null,
           null,
           null,
           null,
           null,
           null,
           null,
           null,
           null,
           null,
           null,
           null
          ],
          [
           null,
           null,
           null,
           null,
           0.7610044780398102,
           null,
           null,
           null,
           null,
           null,
           null,
           null,
           null,
           null
          ],
          [
           null,
           null,
           null,
           0.7643287569614661,
           0.7672391576470889,
           null,
           null,
           null,
           null,
           null,
           null,
           null,
           null,
           null
          ],
          [
           null,
           null,
           0.7620271212466699,
           null,
           null,
           null,
           0.7680921156156415,
           0.7665951998855854,
           null,
           null,
           null,
           null,
           null,
           null
          ],
          [
           null,
           null,
           null,
           null,
           null,
           0.76108015670649,
           0.7679083544499457,
           null,
           0.7703717259633653,
           null,
           0.7703769003436616,
           null,
           null,
           null
          ],
          [
           null,
           null,
           null,
           null,
           null,
           null,
           null,
           null,
           null,
           0.7713934852173344,
           0.7711629187750321,
           0.7709866273761563,
           0.7711595018888884,
           null
          ],
          [
           null,
           0.7672974592793891,
           null,
           null,
           null,
           null,
           null,
           null,
           0.770729079089977,
           0.7714299662700513,
           0.7702066539181253,
           0.7725360495039817,
           null,
           null
          ],
          [
           null,
           null,
           null,
           null,
           null,
           null,
           null,
           null,
           null,
           null,
           null,
           null,
           null,
           null
          ]
         ]
        },
        {
         "marker": {
          "color": "black",
          "line": {
           "color": "Grey",
           "width": 2
          }
         },
         "mode": "markers",
         "showlegend": false,
         "type": "scatter",
         "x": [
          15,
          40,
          10,
          50,
          5,
          40,
          60,
          60,
          60,
          70,
          60,
          80,
          90,
          90,
          100,
          90,
          90,
          90,
          85,
          80,
          95,
          90,
          80,
          95,
          90,
          85,
          95,
          95,
          85
         ],
         "xaxis": "x3",
         "y": [
          0.5,
          0.30000000000000004,
          0.6000000000000001,
          0.7,
          0.9,
          0.5,
          0.6000000000000001,
          0.6000000000000001,
          0.6000000000000001,
          0.6000000000000001,
          0.7,
          0.7,
          0.7,
          0.8,
          0.8,
          0.8,
          0.9,
          0.9,
          0.8,
          0.9,
          0.9,
          0.8,
          0.9,
          0.8,
          0.8,
          0.8,
          0.9,
          0.9,
          0.9
         ],
         "yaxis": "y3"
        },
        {
         "colorbar": {
          "title": {
           "text": "Objective Value"
          }
         },
         "colorscale": [
          [
           0,
           "rgb(247,251,255)"
          ],
          [
           0.125,
           "rgb(222,235,247)"
          ],
          [
           0.25,
           "rgb(198,219,239)"
          ],
          [
           0.375,
           "rgb(158,202,225)"
          ],
          [
           0.5,
           "rgb(107,174,214)"
          ],
          [
           0.625,
           "rgb(66,146,198)"
          ],
          [
           0.75,
           "rgb(33,113,181)"
          ],
          [
           0.875,
           "rgb(8,81,156)"
          ],
          [
           1,
           "rgb(8,48,107)"
          ]
         ],
         "connectgaps": true,
         "contours": {
          "coloring": "heatmap"
         },
         "hoverinfo": "none",
         "line": {
          "smoothing": 1.3
         },
         "reversescale": false,
         "showscale": false,
         "type": "contour",
         "x": [
          0.25,
          5,
          10,
          15,
          40,
          50,
          60,
          70,
          80,
          85,
          90,
          95,
          100,
          104.75
         ],
         "xaxis": "x7",
         "y": [
          -4.75,
          0,
          5,
          10,
          15,
          20,
          25,
          30,
          35,
          40,
          50,
          95,
          99.75
         ],
         "yaxis": "y7",
         "z": [
          [
           null,
           null,
           null,
           null,
           null,
           null,
           null,
           null,
           null,
           null,
           null,
           null,
           null,
           null
          ],
          [
           null,
           null,
           null,
           null,
           null,
           null,
           null,
           0.7665951998855854,
           null,
           null,
           null,
           null,
           null,
           null
          ],
          [
           null,
           null,
           null,
           null,
           null,
           null,
           null,
           null,
           null,
           0.7714299662700513,
           null,
           null,
           null,
           null
          ],
          [
           null,
           null,
           null,
           0.7643287569614661,
           null,
           null,
           0.7680921156156415,
           null,
           null,
           null,
           null,
           null,
           null,
           null
          ],
          [
           null,
           null,
           null,
           null,
           0.7672391576470889,
           null,
           0.7677791254493176,
           null,
           null,
           null,
           null,
           null,
           null,
           null
          ],
          [
           null,
           null,
           null,
           null,
           null,
           null,
           0.7679083544499457,
           null,
           null,
           null,
           null,
           null,
           null,
           null
          ],
          [
           null,
           null,
           null,
           null,
           0.7610044780398102,
           null,
           null,
           null,
           0.7725221527508741,
           0.7713934852173344,
           null,
           0.7725360495039817,
           null,
           null
          ],
          [
           null,
           null,
           0.7620271212466699,
           null,
           null,
           null,
           null,
           null,
           0.770729079089977,
           null,
           0.7710109916866986,
           0.7716097125196206,
           null,
           null
          ],
          [
           null,
           null,
           null,
           null,
           null,
           null,
           null,
           null,
           null,
           null,
           0.7711629187750321,
           null,
           0.7711595018888884,
           null
          ],
          [
           null,
           null,
           null,
           null,
           null,
           null,
           null,
           null,
           null,
           null,
           null,
           0.7709866273761563,
           null,
           null
          ],
          [
           null,
           0.7672974592793891,
           null,
           null,
           null,
           null,
           null,
           null,
           null,
           null,
           null,
           null,
           null,
           null
          ],
          [
           null,
           null,
           null,
           null,
           null,
           0.76108015670649,
           null,
           null,
           null,
           null,
           null,
           null,
           null,
           null
          ],
          [
           null,
           null,
           null,
           null,
           null,
           null,
           null,
           null,
           null,
           null,
           null,
           null,
           null,
           null
          ]
         ]
        },
        {
         "marker": {
          "color": "black",
          "line": {
           "color": "Grey",
           "width": 2
          }
         },
         "mode": "markers",
         "showlegend": false,
         "type": "scatter",
         "x": [
          15,
          40,
          10,
          50,
          5,
          40,
          60,
          60,
          60,
          70,
          60,
          80,
          90,
          90,
          100,
          90,
          90,
          90,
          85,
          80,
          95,
          90,
          80,
          95,
          90,
          85,
          95,
          95,
          85
         ],
         "xaxis": "x7",
         "y": [
          10,
          25,
          30,
          95,
          50,
          15,
          10,
          15,
          10,
          0,
          20,
          30,
          30,
          35,
          35,
          35,
          30,
          35,
          25,
          25,
          30,
          35,
          30,
          40,
          35,
          25,
          30,
          25,
          5
         ],
         "yaxis": "y7"
        },
        {
         "type": "scatter",
         "xaxis": "x11",
         "yaxis": "y11"
        },
        {
         "colorbar": {
          "title": {
           "text": "Objective Value"
          }
         },
         "colorscale": [
          [
           0,
           "rgb(247,251,255)"
          ],
          [
           0.125,
           "rgb(222,235,247)"
          ],
          [
           0.25,
           "rgb(198,219,239)"
          ],
          [
           0.375,
           "rgb(158,202,225)"
          ],
          [
           0.5,
           "rgb(107,174,214)"
          ],
          [
           0.625,
           "rgb(66,146,198)"
          ],
          [
           0.75,
           "rgb(33,113,181)"
          ],
          [
           0.875,
           "rgb(8,81,156)"
          ],
          [
           1,
           "rgb(8,48,107)"
          ]
         ],
         "connectgaps": true,
         "contours": {
          "coloring": "heatmap"
         },
         "hoverinfo": "none",
         "line": {
          "smoothing": 1.3
         },
         "reversescale": false,
         "showscale": false,
         "type": "contour",
         "x": [
          0.25,
          5,
          10,
          15,
          40,
          50,
          60,
          70,
          80,
          85,
          90,
          95,
          100,
          104.75
         ],
         "xaxis": "x15",
         "y": [
          0.060981969836169825,
          0.07234949028205193,
          0.09722982967286814,
          0.11610627212255427,
          0.2129948090234533,
          0.23694330593890797,
          0.25041047321236326,
          0.2590806607461145,
          0.2594212212104831,
          0.2633444888249059,
          0.2633873227375459,
          0.26532934027940036,
          0.2767832168530619,
          0.27911162575227044,
          0.27953456466951737,
          0.28357612742830024,
          0.2836263267940342,
          0.2859265689094595,
          0.2875702631078968,
          0.29190291361789245,
          0.29254568970082023,
          0.293771818847945,
          0.29405679773317844,
          0.29455185760998315,
          0.295688663762785,
          0.2957585840586968,
          0.29720465467169466,
          0.29936128031005416,
          0.29955597933195727,
          0.2996998991996939,
          0.31106741964557605
         ],
         "yaxis": "y15",
         "z": [
          [
           null,
           null,
           null,
           null,
           null,
           null,
           null,
           null,
           null,
           null,
           null,
           null,
           null,
           null
          ],
          [
           null,
           null,
           null,
           null,
           null,
           0.76108015670649,
           null,
           null,
           null,
           null,
           null,
           null,
           null,
           null
          ],
          [
           null,
           null,
           null,
           null,
           0.7610044780398102,
           null,
           null,
           null,
           null,
           null,
           null,
           null,
           null,
           null
          ],
          [
           null,
           0.7672974592793891,
           null,
           null,
           null,
           null,
           null,
           null,
           null,
           null,
           null,
           null,
           null,
           null
          ],
          [
           null,
           null,
           null,
           null,
           0.7672391576470889,
           null,
           null,
           null,
           null,
           null,
           null,
           null,
           null,
           null
          ],
          [
           null,
           null,
           null,
           0.7643287569614661,
           null,
           null,
           null,
           null,
           null,
           null,
           null,
           null,
           null,
           null
          ],
          [
           null,
           null,
           null,
           null,
           null,
           null,
           null,
           null,
           0.7703717259633653,
           null,
           null,
           null,
           null,
           null
          ],
          [
           null,
           null,
           null,
           null,
           null,
           null,
           0.7679083544499457,
           null,
           null,
           null,
           null,
           null,
           null,
           null
          ],
          [
           null,
           null,
           null,
           null,
           null,
           null,
           0.7686628281190993,
           null,
           null,
           null,
           null,
           null,
           null,
           null
          ],
          [
           null,
           null,
           null,
           null,
           null,
           null,
           null,
           0.7665951998855854,
           null,
           null,
           null,
           null,
           null,
           null
          ],
          [
           null,
           null,
           null,
           null,
           null,
           null,
           0.7677791254493176,
           null,
           null,
           null,
           null,
           null,
           null,
           null
          ],
          [
           null,
           null,
           null,
           null,
           null,
           null,
           0.7680921156156415,
           null,
           null,
           null,
           null,
           null,
           null,
           null
          ],
          [
           null,
           null,
           null,
           null,
           null,
           null,
           null,
           null,
           null,
           null,
           null,
           0.7725360495039817,
           null,
           null
          ],
          [
           null,
           null,
           null,
           null,
           null,
           null,
           null,
           null,
           null,
           0.7722035541412715,
           null,
           null,
           null,
           null
          ],
          [
           null,
           null,
           null,
           null,
           null,
           null,
           null,
           null,
           0.7725221527508741,
           null,
           null,
           null,
           null,
           null
          ],
          [
           null,
           null,
           null,
           null,
           null,
           null,
           null,
           null,
           null,
           null,
           0.7703769003436616,
           null,
           null,
           null
          ],
          [
           null,
           null,
           null,
           null,
           null,
           null,
           null,
           null,
           null,
           null,
           0.7713620506606889,
           null,
           null,
           null
          ],
          [
           null,
           null,
           null,
           null,
           null,
           null,
           null,
           null,
           null,
           null,
           null,
           0.7713274573465712,
           null,
           null
          ],
          [
           null,
           null,
           null,
           null,
           null,
           null,
           null,
           null,
           0.770729079089977,
           null,
           null,
           null,
           null,
           null
          ],
          [
           null,
           null,
           null,
           null,
           null,
           null,
           null,
           null,
           null,
           null,
           null,
           0.7709866273761563,
           null,
           null
          ],
          [
           null,
           null,
           null,
           null,
           null,
           null,
           null,
           null,
           null,
           null,
           null,
           0.7716097125196206,
           null,
           null
          ],
          [
           null,
           null,
           null,
           null,
           null,
           null,
           null,
           null,
           null,
           null,
           0.7704616106290689,
           null,
           null,
           null
          ],
          [
           null,
           null,
           0.7620271212466699,
           null,
           null,
           null,
           null,
           null,
           null,
           null,
           null,
           null,
           null,
           null
          ],
          [
           null,
           null,
           null,
           null,
           null,
           null,
           null,
           null,
           null,
           0.7713934852173344,
           null,
           null,
           null,
           null
          ],
          [
           null,
           null,
           null,
           null,
           null,
           null,
           null,
           null,
           null,
           0.7714299662700513,
           null,
           null,
           null,
           null
          ],
          [
           null,
           null,
           null,
           null,
           null,
           null,
           null,
           null,
           null,
           null,
           null,
           null,
           0.7711595018888884,
           null
          ],
          [
           null,
           null,
           null,
           null,
           null,
           null,
           null,
           null,
           null,
           null,
           0.7706916524114588,
           null,
           null,
           null
          ],
          [
           null,
           null,
           null,
           null,
           null,
           null,
           null,
           null,
           null,
           null,
           0.7711629187750321,
           null,
           null,
           null
          ],
          [
           null,
           null,
           null,
           null,
           null,
           null,
           null,
           null,
           null,
           null,
           0.7702066539181253,
           null,
           null,
           null
          ],
          [
           null,
           null,
           null,
           null,
           null,
           null,
           null,
           null,
           null,
           null,
           0.7710109916866986,
           null,
           null,
           null
          ],
          [
           null,
           null,
           null,
           null,
           null,
           null,
           null,
           null,
           null,
           null,
           null,
           null,
           null,
           null
          ]
         ]
        },
        {
         "marker": {
          "color": "black",
          "line": {
           "color": "Grey",
           "width": 2
          }
         },
         "mode": "markers",
         "showlegend": false,
         "type": "scatter",
         "x": [
          15,
          40,
          10,
          50,
          5,
          40,
          60,
          60,
          60,
          70,
          60,
          80,
          90,
          90,
          100,
          90,
          90,
          90,
          85,
          80,
          95,
          90,
          80,
          95,
          90,
          85,
          95,
          95,
          85
         ],
         "xaxis": "x15",
         "y": [
          0.23694330593890797,
          0.09722982967286814,
          0.29405679773317844,
          0.07234949028205193,
          0.11610627212255427,
          0.2129948090234533,
          0.2594212212104831,
          0.2633873227375459,
          0.26532934027940036,
          0.2633444888249059,
          0.2590806607461145,
          0.25041047321236326,
          0.28357612742830024,
          0.29720465467169466,
          0.2957585840586968,
          0.2836263267940342,
          0.2996998991996939,
          0.29955597933195727,
          0.27911162575227044,
          0.27953456466951737,
          0.2859265689094595,
          0.293771818847945,
          0.2875702631078968,
          0.29190291361789245,
          0.29936128031005416,
          0.29455185760998315,
          0.29254568970082023,
          0.2767832168530619,
          0.295688663762785
         ],
         "yaxis": "y15"
        },
        {
         "colorbar": {
          "title": {
           "text": "Objective Value"
          }
         },
         "colorscale": [
          [
           0,
           "rgb(247,251,255)"
          ],
          [
           0.125,
           "rgb(222,235,247)"
          ],
          [
           0.25,
           "rgb(198,219,239)"
          ],
          [
           0.375,
           "rgb(158,202,225)"
          ],
          [
           0.5,
           "rgb(107,174,214)"
          ],
          [
           0.625,
           "rgb(66,146,198)"
          ],
          [
           0.75,
           "rgb(33,113,181)"
          ],
          [
           0.875,
           "rgb(8,81,156)"
          ],
          [
           1,
           "rgb(8,48,107)"
          ]
         ],
         "connectgaps": true,
         "contours": {
          "coloring": "heatmap"
         },
         "hoverinfo": "none",
         "line": {
          "smoothing": 1.3
         },
         "reversescale": false,
         "showscale": false,
         "type": "contour",
         "x": [
          0.060981969836169825,
          0.07234949028205193,
          0.09722982967286814,
          0.11610627212255427,
          0.2129948090234533,
          0.23694330593890797,
          0.25041047321236326,
          0.2590806607461145,
          0.2594212212104831,
          0.2633444888249059,
          0.2633873227375459,
          0.26532934027940036,
          0.2767832168530619,
          0.27911162575227044,
          0.27953456466951737,
          0.28357612742830024,
          0.2836263267940342,
          0.2859265689094595,
          0.2875702631078968,
          0.29190291361789245,
          0.29254568970082023,
          0.293771818847945,
          0.29405679773317844,
          0.29455185760998315,
          0.295688663762785,
          0.2957585840586968,
          0.29720465467169466,
          0.29936128031005416,
          0.29955597933195727,
          0.2996998991996939,
          0.31106741964557605
         ],
         "xaxis": "x4",
         "y": [
          0.27,
          0.30000000000000004,
          0.5,
          0.6000000000000001,
          0.7,
          0.8,
          0.9,
          0.93
         ],
         "yaxis": "y4",
         "z": [
          [
           null,
           null,
           null,
           null,
           null,
           null,
           null,
           null,
           null,
           null,
           null,
           null,
           null,
           null,
           null,
           null,
           null,
           null,
           null,
           null,
           null,
           null,
           null,
           null,
           null,
           null,
           null,
           null,
           null,
           null,
           null
          ],
          [
           null,
           null,
           0.7610044780398102,
           null,
           null,
           null,
           null,
           null,
           null,
           null,
           null,
           null,
           null,
           null,
           null,
           null,
           null,
           null,
           null,
           null,
           null,
           null,
           null,
           null,
           null,
           null,
           null,
           null,
           null,
           null,
           null
          ],
          [
           null,
           null,
           null,
           null,
           0.7672391576470889,
           0.7643287569614661,
           null,
           null,
           null,
           null,
           null,
           null,
           null,
           null,
           null,
           null,
           null,
           null,
           null,
           null,
           null,
           null,
           null,
           null,
           null,
           null,
           null,
           null,
           null,
           null,
           null
          ],
          [
           null,
           null,
           null,
           null,
           null,
           null,
           null,
           null,
           0.7686628281190993,
           0.7665951998855854,
           0.7677791254493176,
           0.7680921156156415,
           null,
           null,
           null,
           null,
           null,
           null,
           null,
           null,
           null,
           null,
           0.7620271212466699,
           null,
           null,
           null,
           null,
           null,
           null,
           null,
           null
          ],
          [
           null,
           0.76108015670649,
           null,
           null,
           null,
           null,
           0.7703717259633653,
           0.7679083544499457,
           null,
           null,
           null,
           null,
           null,
           null,
           null,
           0.7703769003436616,
           null,
           null,
           null,
           null,
           null,
           null,
           null,
           null,
           null,
           null,
           null,
           null,
           null,
           null,
           null
          ],
          [
           null,
           null,
           null,
           null,
           null,
           null,
           null,
           null,
           null,
           null,
           null,
           null,
           null,
           0.7722035541412715,
           null,
           null,
           0.7713620506606889,
           null,
           null,
           0.7709866273761563,
           null,
           0.7704616106290689,
           null,
           0.7713934852173344,
           null,
           0.7711595018888884,
           0.7706916524114588,
           0.7711629187750321,
           null,
           null,
           null
          ],
          [
           null,
           null,
           null,
           0.7672974592793891,
           null,
           null,
           null,
           null,
           null,
           null,
           null,
           null,
           0.7725360495039817,
           null,
           0.7725221527508741,
           null,
           null,
           0.7713274573465712,
           0.770729079089977,
           null,
           0.7716097125196206,
           null,
           null,
           null,
           0.7714299662700513,
           null,
           null,
           null,
           0.7702066539181253,
           0.7710109916866986,
           null
          ],
          [
           null,
           null,
           null,
           null,
           null,
           null,
           null,
           null,
           null,
           null,
           null,
           null,
           null,
           null,
           null,
           null,
           null,
           null,
           null,
           null,
           null,
           null,
           null,
           null,
           null,
           null,
           null,
           null,
           null,
           null,
           null
          ]
         ]
        },
        {
         "marker": {
          "color": "black",
          "line": {
           "color": "Grey",
           "width": 2
          }
         },
         "mode": "markers",
         "showlegend": false,
         "type": "scatter",
         "x": [
          0.23694330593890797,
          0.09722982967286814,
          0.29405679773317844,
          0.07234949028205193,
          0.11610627212255427,
          0.2129948090234533,
          0.2594212212104831,
          0.2633873227375459,
          0.26532934027940036,
          0.2633444888249059,
          0.2590806607461145,
          0.25041047321236326,
          0.28357612742830024,
          0.29720465467169466,
          0.2957585840586968,
          0.2836263267940342,
          0.2996998991996939,
          0.29955597933195727,
          0.27911162575227044,
          0.27953456466951737,
          0.2859265689094595,
          0.293771818847945,
          0.2875702631078968,
          0.29190291361789245,
          0.29936128031005416,
          0.29455185760998315,
          0.29254568970082023,
          0.2767832168530619,
          0.295688663762785
         ],
         "xaxis": "x4",
         "y": [
          0.5,
          0.30000000000000004,
          0.6000000000000001,
          0.7,
          0.9,
          0.5,
          0.6000000000000001,
          0.6000000000000001,
          0.6000000000000001,
          0.6000000000000001,
          0.7,
          0.7,
          0.7,
          0.8,
          0.8,
          0.8,
          0.9,
          0.9,
          0.8,
          0.9,
          0.9,
          0.8,
          0.9,
          0.8,
          0.8,
          0.8,
          0.9,
          0.9,
          0.9
         ],
         "yaxis": "y4"
        },
        {
         "colorbar": {
          "title": {
           "text": "Objective Value"
          }
         },
         "colorscale": [
          [
           0,
           "rgb(247,251,255)"
          ],
          [
           0.125,
           "rgb(222,235,247)"
          ],
          [
           0.25,
           "rgb(198,219,239)"
          ],
          [
           0.375,
           "rgb(158,202,225)"
          ],
          [
           0.5,
           "rgb(107,174,214)"
          ],
          [
           0.625,
           "rgb(66,146,198)"
          ],
          [
           0.75,
           "rgb(33,113,181)"
          ],
          [
           0.875,
           "rgb(8,81,156)"
          ],
          [
           1,
           "rgb(8,48,107)"
          ]
         ],
         "connectgaps": true,
         "contours": {
          "coloring": "heatmap"
         },
         "hoverinfo": "none",
         "line": {
          "smoothing": 1.3
         },
         "reversescale": false,
         "showscale": false,
         "type": "contour",
         "x": [
          0.060981969836169825,
          0.07234949028205193,
          0.09722982967286814,
          0.11610627212255427,
          0.2129948090234533,
          0.23694330593890797,
          0.25041047321236326,
          0.2590806607461145,
          0.2594212212104831,
          0.2633444888249059,
          0.2633873227375459,
          0.26532934027940036,
          0.2767832168530619,
          0.27911162575227044,
          0.27953456466951737,
          0.28357612742830024,
          0.2836263267940342,
          0.2859265689094595,
          0.2875702631078968,
          0.29190291361789245,
          0.29254568970082023,
          0.293771818847945,
          0.29405679773317844,
          0.29455185760998315,
          0.295688663762785,
          0.2957585840586968,
          0.29720465467169466,
          0.29936128031005416,
          0.29955597933195727,
          0.2996998991996939,
          0.31106741964557605
         ],
         "xaxis": "x8",
         "y": [
          -4.75,
          0,
          5,
          10,
          15,
          20,
          25,
          30,
          35,
          40,
          50,
          95,
          99.75
         ],
         "yaxis": "y8",
         "z": [
          [
           null,
           null,
           null,
           null,
           null,
           null,
           null,
           null,
           null,
           null,
           null,
           null,
           null,
           null,
           null,
           null,
           null,
           null,
           null,
           null,
           null,
           null,
           null,
           null,
           null,
           null,
           null,
           null,
           null,
           null,
           null
          ],
          [
           null,
           null,
           null,
           null,
           null,
           null,
           null,
           null,
           null,
           0.7665951998855854,
           null,
           null,
           null,
           null,
           null,
           null,
           null,
           null,
           null,
           null,
           null,
           null,
           null,
           null,
           null,
           null,
           null,
           null,
           null,
           null,
           null
          ],
          [
           null,
           null,
           null,
           null,
           null,
           null,
           null,
           null,
           null,
           null,
           null,
           null,
           null,
           null,
           null,
           null,
           null,
           null,
           null,
           null,
           null,
           null,
           null,
           null,
           0.7714299662700513,
           null,
           null,
           null,
           null,
           null,
           null
          ],
          [
           null,
           null,
           null,
           null,
           null,
           0.7643287569614661,
           null,
           null,
           0.7686628281190993,
           null,
           null,
           0.7680921156156415,
           null,
           null,
           null,
           null,
           null,
           null,
           null,
           null,
           null,
           null,
           null,
           null,
           null,
           null,
           null,
           null,
           null,
           null,
           null
          ],
          [
           null,
           null,
           null,
           null,
           0.7672391576470889,
           null,
           null,
           null,
           null,
           null,
           0.7677791254493176,
           null,
           null,
           null,
           null,
           null,
           null,
           null,
           null,
           null,
           null,
           null,
           null,
           null,
           null,
           null,
           null,
           null,
           null,
           null,
           null
          ],
          [
           null,
           null,
           null,
           null,
           null,
           null,
           null,
           0.7679083544499457,
           null,
           null,
           null,
           null,
           null,
           null,
           null,
           null,
           null,
           null,
           null,
           null,
           null,
           null,
           null,
           null,
           null,
           null,
           null,
           null,
           null,
           null,
           null
          ],
          [
           null,
           null,
           0.7610044780398102,
           null,
           null,
           null,
           null,
           null,
           null,
           null,
           null,
           null,
           0.7725360495039817,
           0.7722035541412715,
           0.7725221527508741,
           null,
           null,
           null,
           null,
           null,
           null,
           null,
           null,
           0.7713934852173344,
           null,
           null,
           null,
           null,
           null,
           null,
           null
          ],
          [
           null,
           null,
           null,
           null,
           null,
           null,
           0.7703717259633653,
           null,
           null,
           null,
           null,
           null,
           null,
           null,
           null,
           0.7703769003436616,
           null,
           0.7713274573465712,
           0.770729079089977,
           null,
           0.7716097125196206,
           null,
           0.7620271212466699,
           null,
           null,
           null,
           null,
           null,
           null,
           0.7710109916866986,
           null
          ],
          [
           null,
           null,
           null,
           null,
           null,
           null,
           null,
           null,
           null,
           null,
           null,
           null,
           null,
           null,
           null,
           null,
           0.7713620506606889,
           null,
           null,
           null,
           null,
           0.7704616106290689,
           null,
           null,
           null,
           0.7711595018888884,
           0.7706916524114588,
           0.7711629187750321,
           0.7702066539181253,
           null,
           null
          ],
          [
           null,
           null,
           null,
           null,
           null,
           null,
           null,
           null,
           null,
           null,
           null,
           null,
           null,
           null,
           null,
           null,
           null,
           null,
           null,
           0.7709866273761563,
           null,
           null,
           null,
           null,
           null,
           null,
           null,
           null,
           null,
           null,
           null
          ],
          [
           null,
           null,
           null,
           0.7672974592793891,
           null,
           null,
           null,
           null,
           null,
           null,
           null,
           null,
           null,
           null,
           null,
           null,
           null,
           null,
           null,
           null,
           null,
           null,
           null,
           null,
           null,
           null,
           null,
           null,
           null,
           null,
           null
          ],
          [
           null,
           0.76108015670649,
           null,
           null,
           null,
           null,
           null,
           null,
           null,
           null,
           null,
           null,
           null,
           null,
           null,
           null,
           null,
           null,
           null,
           null,
           null,
           null,
           null,
           null,
           null,
           null,
           null,
           null,
           null,
           null,
           null
          ],
          [
           null,
           null,
           null,
           null,
           null,
           null,
           null,
           null,
           null,
           null,
           null,
           null,
           null,
           null,
           null,
           null,
           null,
           null,
           null,
           null,
           null,
           null,
           null,
           null,
           null,
           null,
           null,
           null,
           null,
           null,
           null
          ]
         ]
        },
        {
         "marker": {
          "color": "black",
          "line": {
           "color": "Grey",
           "width": 2
          }
         },
         "mode": "markers",
         "showlegend": false,
         "type": "scatter",
         "x": [
          0.23694330593890797,
          0.09722982967286814,
          0.29405679773317844,
          0.07234949028205193,
          0.11610627212255427,
          0.2129948090234533,
          0.2594212212104831,
          0.2633873227375459,
          0.26532934027940036,
          0.2633444888249059,
          0.2590806607461145,
          0.25041047321236326,
          0.28357612742830024,
          0.29720465467169466,
          0.2957585840586968,
          0.2836263267940342,
          0.2996998991996939,
          0.29955597933195727,
          0.27911162575227044,
          0.27953456466951737,
          0.2859265689094595,
          0.293771818847945,
          0.2875702631078968,
          0.29190291361789245,
          0.29936128031005416,
          0.29455185760998315,
          0.29254568970082023,
          0.2767832168530619,
          0.295688663762785
         ],
         "xaxis": "x8",
         "y": [
          10,
          25,
          30,
          95,
          50,
          15,
          10,
          15,
          10,
          0,
          20,
          30,
          30,
          35,
          35,
          35,
          30,
          35,
          25,
          25,
          30,
          35,
          30,
          40,
          35,
          25,
          30,
          25,
          5
         ],
         "yaxis": "y8"
        },
        {
         "colorbar": {
          "title": {
           "text": "Objective Value"
          }
         },
         "colorscale": [
          [
           0,
           "rgb(247,251,255)"
          ],
          [
           0.125,
           "rgb(222,235,247)"
          ],
          [
           0.25,
           "rgb(198,219,239)"
          ],
          [
           0.375,
           "rgb(158,202,225)"
          ],
          [
           0.5,
           "rgb(107,174,214)"
          ],
          [
           0.625,
           "rgb(66,146,198)"
          ],
          [
           0.75,
           "rgb(33,113,181)"
          ],
          [
           0.875,
           "rgb(8,81,156)"
          ],
          [
           1,
           "rgb(8,48,107)"
          ]
         ],
         "connectgaps": true,
         "contours": {
          "coloring": "heatmap"
         },
         "hoverinfo": "none",
         "line": {
          "smoothing": 1.3
         },
         "reversescale": false,
         "showscale": false,
         "type": "contour",
         "x": [
          0.060981969836169825,
          0.07234949028205193,
          0.09722982967286814,
          0.11610627212255427,
          0.2129948090234533,
          0.23694330593890797,
          0.25041047321236326,
          0.2590806607461145,
          0.2594212212104831,
          0.2633444888249059,
          0.2633873227375459,
          0.26532934027940036,
          0.2767832168530619,
          0.27911162575227044,
          0.27953456466951737,
          0.28357612742830024,
          0.2836263267940342,
          0.2859265689094595,
          0.2875702631078968,
          0.29190291361789245,
          0.29254568970082023,
          0.293771818847945,
          0.29405679773317844,
          0.29455185760998315,
          0.295688663762785,
          0.2957585840586968,
          0.29720465467169466,
          0.29936128031005416,
          0.29955597933195727,
          0.2996998991996939,
          0.31106741964557605
         ],
         "xaxis": "x12",
         "y": [
          0.25,
          5,
          10,
          15,
          40,
          50,
          60,
          70,
          80,
          85,
          90,
          95,
          100,
          104.75
         ],
         "yaxis": "y12",
         "z": [
          [
           null,
           null,
           null,
           null,
           null,
           null,
           null,
           null,
           null,
           null,
           null,
           null,
           null,
           null,
           null,
           null,
           null,
           null,
           null,
           null,
           null,
           null,
           null,
           null,
           null,
           null,
           null,
           null,
           null,
           null,
           null
          ],
          [
           null,
           null,
           null,
           0.7672974592793891,
           null,
           null,
           null,
           null,
           null,
           null,
           null,
           null,
           null,
           null,
           null,
           null,
           null,
           null,
           null,
           null,
           null,
           null,
           null,
           null,
           null,
           null,
           null,
           null,
           null,
           null,
           null
          ],
          [
           null,
           null,
           null,
           null,
           null,
           null,
           null,
           null,
           null,
           null,
           null,
           null,
           null,
           null,
           null,
           null,
           null,
           null,
           null,
           null,
           null,
           null,
           0.7620271212466699,
           null,
           null,
           null,
           null,
           null,
           null,
           null,
           null
          ],
          [
           null,
           null,
           null,
           null,
           null,
           0.7643287569614661,
           null,
           null,
           null,
           null,
           null,
           null,
           null,
           null,
           null,
           null,
           null,
           null,
           null,
           null,
           null,
           null,
           null,
           null,
           null,
           null,
           null,
           null,
           null,
           null,
           null
          ],
          [
           null,
           null,
           0.7610044780398102,
           null,
           0.7672391576470889,
           null,
           null,
           null,
           null,
           null,
           null,
           null,
           null,
           null,
           null,
           null,
           null,
           null,
           null,
           null,
           null,
           null,
           null,
           null,
           null,
           null,
           null,
           null,
           null,
           null,
           null
          ],
          [
           null,
           0.76108015670649,
           null,
           null,
           null,
           null,
           null,
           null,
           null,
           null,
           null,
           null,
           null,
           null,
           null,
           null,
           null,
           null,
           null,
           null,
           null,
           null,
           null,
           null,
           null,
           null,
           null,
           null,
           null,
           null,
           null
          ],
          [
           null,
           null,
           null,
           null,
           null,
           null,
           null,
           0.7679083544499457,
           0.7686628281190993,
           null,
           0.7677791254493176,
           0.7680921156156415,
           null,
           null,
           null,
           null,
           null,
           null,
           null,
           null,
           null,
           null,
           null,
           null,
           null,
           null,
           null,
           null,
           null,
           null,
           null
          ],
          [
           null,
           null,
           null,
           null,
           null,
           null,
           null,
           null,
           null,
           0.7665951998855854,
           null,
           null,
           null,
           null,
           null,
           null,
           null,
           null,
           null,
           null,
           null,
           null,
           null,
           null,
           null,
           null,
           null,
           null,
           null,
           null,
           null
          ],
          [
           null,
           null,
           null,
           null,
           null,
           null,
           0.7703717259633653,
           null,
           null,
           null,
           null,
           null,
           null,
           null,
           0.7725221527508741,
           null,
           null,
           null,
           0.770729079089977,
           null,
           null,
           null,
           null,
           null,
           null,
           null,
           null,
           null,
           null,
           null,
           null
          ],
          [
           null,
           null,
           null,
           null,
           null,
           null,
           null,
           null,
           null,
           null,
           null,
           null,
           null,
           0.7722035541412715,
           null,
           null,
           null,
           null,
           null,
           null,
           null,
           null,
           null,
           0.7713934852173344,
           0.7714299662700513,
           null,
           null,
           null,
           null,
           null,
           null
          ],
          [
           null,
           null,
           null,
           null,
           null,
           null,
           null,
           null,
           null,
           null,
           null,
           null,
           null,
           null,
           null,
           0.7703769003436616,
           0.7713620506606889,
           null,
           null,
           null,
           null,
           0.7704616106290689,
           null,
           null,
           null,
           null,
           0.7706916524114588,
           0.7711629187750321,
           0.7702066539181253,
           0.7710109916866986,
           null
          ],
          [
           null,
           null,
           null,
           null,
           null,
           null,
           null,
           null,
           null,
           null,
           null,
           null,
           0.7725360495039817,
           null,
           null,
           null,
           null,
           0.7713274573465712,
           null,
           0.7709866273761563,
           0.7716097125196206,
           null,
           null,
           null,
           null,
           null,
           null,
           null,
           null,
           null,
           null
          ],
          [
           null,
           null,
           null,
           null,
           null,
           null,
           null,
           null,
           null,
           null,
           null,
           null,
           null,
           null,
           null,
           null,
           null,
           null,
           null,
           null,
           null,
           null,
           null,
           null,
           null,
           0.7711595018888884,
           null,
           null,
           null,
           null,
           null
          ],
          [
           null,
           null,
           null,
           null,
           null,
           null,
           null,
           null,
           null,
           null,
           null,
           null,
           null,
           null,
           null,
           null,
           null,
           null,
           null,
           null,
           null,
           null,
           null,
           null,
           null,
           null,
           null,
           null,
           null,
           null,
           null
          ]
         ]
        },
        {
         "marker": {
          "color": "black",
          "line": {
           "color": "Grey",
           "width": 2
          }
         },
         "mode": "markers",
         "showlegend": false,
         "type": "scatter",
         "x": [
          0.23694330593890797,
          0.09722982967286814,
          0.29405679773317844,
          0.07234949028205193,
          0.11610627212255427,
          0.2129948090234533,
          0.2594212212104831,
          0.2633873227375459,
          0.26532934027940036,
          0.2633444888249059,
          0.2590806607461145,
          0.25041047321236326,
          0.28357612742830024,
          0.29720465467169466,
          0.2957585840586968,
          0.2836263267940342,
          0.2996998991996939,
          0.29955597933195727,
          0.27911162575227044,
          0.27953456466951737,
          0.2859265689094595,
          0.293771818847945,
          0.2875702631078968,
          0.29190291361789245,
          0.29936128031005416,
          0.29455185760998315,
          0.29254568970082023,
          0.2767832168530619,
          0.295688663762785
         ],
         "xaxis": "x12",
         "y": [
          15,
          40,
          10,
          50,
          5,
          40,
          60,
          60,
          60,
          70,
          60,
          80,
          90,
          90,
          100,
          90,
          90,
          90,
          85,
          80,
          95,
          90,
          80,
          95,
          90,
          85,
          95,
          95,
          85
         ],
         "yaxis": "y12"
        },
        {
         "type": "scatter",
         "xaxis": "x16",
         "yaxis": "y16"
        }
       ],
       "layout": {
        "template": {
         "data": {
          "bar": [
           {
            "error_x": {
             "color": "#2a3f5f"
            },
            "error_y": {
             "color": "#2a3f5f"
            },
            "marker": {
             "line": {
              "color": "#E5ECF6",
              "width": 0.5
             },
             "pattern": {
              "fillmode": "overlay",
              "size": 10,
              "solidity": 0.2
             }
            },
            "type": "bar"
           }
          ],
          "barpolar": [
           {
            "marker": {
             "line": {
              "color": "#E5ECF6",
              "width": 0.5
             },
             "pattern": {
              "fillmode": "overlay",
              "size": 10,
              "solidity": 0.2
             }
            },
            "type": "barpolar"
           }
          ],
          "carpet": [
           {
            "aaxis": {
             "endlinecolor": "#2a3f5f",
             "gridcolor": "white",
             "linecolor": "white",
             "minorgridcolor": "white",
             "startlinecolor": "#2a3f5f"
            },
            "baxis": {
             "endlinecolor": "#2a3f5f",
             "gridcolor": "white",
             "linecolor": "white",
             "minorgridcolor": "white",
             "startlinecolor": "#2a3f5f"
            },
            "type": "carpet"
           }
          ],
          "choropleth": [
           {
            "colorbar": {
             "outlinewidth": 0,
             "ticks": ""
            },
            "type": "choropleth"
           }
          ],
          "contour": [
           {
            "colorbar": {
             "outlinewidth": 0,
             "ticks": ""
            },
            "colorscale": [
             [
              0,
              "#0d0887"
             ],
             [
              0.1111111111111111,
              "#46039f"
             ],
             [
              0.2222222222222222,
              "#7201a8"
             ],
             [
              0.3333333333333333,
              "#9c179e"
             ],
             [
              0.4444444444444444,
              "#bd3786"
             ],
             [
              0.5555555555555556,
              "#d8576b"
             ],
             [
              0.6666666666666666,
              "#ed7953"
             ],
             [
              0.7777777777777778,
              "#fb9f3a"
             ],
             [
              0.8888888888888888,
              "#fdca26"
             ],
             [
              1,
              "#f0f921"
             ]
            ],
            "type": "contour"
           }
          ],
          "contourcarpet": [
           {
            "colorbar": {
             "outlinewidth": 0,
             "ticks": ""
            },
            "type": "contourcarpet"
           }
          ],
          "heatmap": [
           {
            "colorbar": {
             "outlinewidth": 0,
             "ticks": ""
            },
            "colorscale": [
             [
              0,
              "#0d0887"
             ],
             [
              0.1111111111111111,
              "#46039f"
             ],
             [
              0.2222222222222222,
              "#7201a8"
             ],
             [
              0.3333333333333333,
              "#9c179e"
             ],
             [
              0.4444444444444444,
              "#bd3786"
             ],
             [
              0.5555555555555556,
              "#d8576b"
             ],
             [
              0.6666666666666666,
              "#ed7953"
             ],
             [
              0.7777777777777778,
              "#fb9f3a"
             ],
             [
              0.8888888888888888,
              "#fdca26"
             ],
             [
              1,
              "#f0f921"
             ]
            ],
            "type": "heatmap"
           }
          ],
          "heatmapgl": [
           {
            "colorbar": {
             "outlinewidth": 0,
             "ticks": ""
            },
            "colorscale": [
             [
              0,
              "#0d0887"
             ],
             [
              0.1111111111111111,
              "#46039f"
             ],
             [
              0.2222222222222222,
              "#7201a8"
             ],
             [
              0.3333333333333333,
              "#9c179e"
             ],
             [
              0.4444444444444444,
              "#bd3786"
             ],
             [
              0.5555555555555556,
              "#d8576b"
             ],
             [
              0.6666666666666666,
              "#ed7953"
             ],
             [
              0.7777777777777778,
              "#fb9f3a"
             ],
             [
              0.8888888888888888,
              "#fdca26"
             ],
             [
              1,
              "#f0f921"
             ]
            ],
            "type": "heatmapgl"
           }
          ],
          "histogram": [
           {
            "marker": {
             "pattern": {
              "fillmode": "overlay",
              "size": 10,
              "solidity": 0.2
             }
            },
            "type": "histogram"
           }
          ],
          "histogram2d": [
           {
            "colorbar": {
             "outlinewidth": 0,
             "ticks": ""
            },
            "colorscale": [
             [
              0,
              "#0d0887"
             ],
             [
              0.1111111111111111,
              "#46039f"
             ],
             [
              0.2222222222222222,
              "#7201a8"
             ],
             [
              0.3333333333333333,
              "#9c179e"
             ],
             [
              0.4444444444444444,
              "#bd3786"
             ],
             [
              0.5555555555555556,
              "#d8576b"
             ],
             [
              0.6666666666666666,
              "#ed7953"
             ],
             [
              0.7777777777777778,
              "#fb9f3a"
             ],
             [
              0.8888888888888888,
              "#fdca26"
             ],
             [
              1,
              "#f0f921"
             ]
            ],
            "type": "histogram2d"
           }
          ],
          "histogram2dcontour": [
           {
            "colorbar": {
             "outlinewidth": 0,
             "ticks": ""
            },
            "colorscale": [
             [
              0,
              "#0d0887"
             ],
             [
              0.1111111111111111,
              "#46039f"
             ],
             [
              0.2222222222222222,
              "#7201a8"
             ],
             [
              0.3333333333333333,
              "#9c179e"
             ],
             [
              0.4444444444444444,
              "#bd3786"
             ],
             [
              0.5555555555555556,
              "#d8576b"
             ],
             [
              0.6666666666666666,
              "#ed7953"
             ],
             [
              0.7777777777777778,
              "#fb9f3a"
             ],
             [
              0.8888888888888888,
              "#fdca26"
             ],
             [
              1,
              "#f0f921"
             ]
            ],
            "type": "histogram2dcontour"
           }
          ],
          "mesh3d": [
           {
            "colorbar": {
             "outlinewidth": 0,
             "ticks": ""
            },
            "type": "mesh3d"
           }
          ],
          "parcoords": [
           {
            "line": {
             "colorbar": {
              "outlinewidth": 0,
              "ticks": ""
             }
            },
            "type": "parcoords"
           }
          ],
          "pie": [
           {
            "automargin": true,
            "type": "pie"
           }
          ],
          "scatter": [
           {
            "fillpattern": {
             "fillmode": "overlay",
             "size": 10,
             "solidity": 0.2
            },
            "type": "scatter"
           }
          ],
          "scatter3d": [
           {
            "line": {
             "colorbar": {
              "outlinewidth": 0,
              "ticks": ""
             }
            },
            "marker": {
             "colorbar": {
              "outlinewidth": 0,
              "ticks": ""
             }
            },
            "type": "scatter3d"
           }
          ],
          "scattercarpet": [
           {
            "marker": {
             "colorbar": {
              "outlinewidth": 0,
              "ticks": ""
             }
            },
            "type": "scattercarpet"
           }
          ],
          "scattergeo": [
           {
            "marker": {
             "colorbar": {
              "outlinewidth": 0,
              "ticks": ""
             }
            },
            "type": "scattergeo"
           }
          ],
          "scattergl": [
           {
            "marker": {
             "colorbar": {
              "outlinewidth": 0,
              "ticks": ""
             }
            },
            "type": "scattergl"
           }
          ],
          "scattermapbox": [
           {
            "marker": {
             "colorbar": {
              "outlinewidth": 0,
              "ticks": ""
             }
            },
            "type": "scattermapbox"
           }
          ],
          "scatterpolar": [
           {
            "marker": {
             "colorbar": {
              "outlinewidth": 0,
              "ticks": ""
             }
            },
            "type": "scatterpolar"
           }
          ],
          "scatterpolargl": [
           {
            "marker": {
             "colorbar": {
              "outlinewidth": 0,
              "ticks": ""
             }
            },
            "type": "scatterpolargl"
           }
          ],
          "scatterternary": [
           {
            "marker": {
             "colorbar": {
              "outlinewidth": 0,
              "ticks": ""
             }
            },
            "type": "scatterternary"
           }
          ],
          "surface": [
           {
            "colorbar": {
             "outlinewidth": 0,
             "ticks": ""
            },
            "colorscale": [
             [
              0,
              "#0d0887"
             ],
             [
              0.1111111111111111,
              "#46039f"
             ],
             [
              0.2222222222222222,
              "#7201a8"
             ],
             [
              0.3333333333333333,
              "#9c179e"
             ],
             [
              0.4444444444444444,
              "#bd3786"
             ],
             [
              0.5555555555555556,
              "#d8576b"
             ],
             [
              0.6666666666666666,
              "#ed7953"
             ],
             [
              0.7777777777777778,
              "#fb9f3a"
             ],
             [
              0.8888888888888888,
              "#fdca26"
             ],
             [
              1,
              "#f0f921"
             ]
            ],
            "type": "surface"
           }
          ],
          "table": [
           {
            "cells": {
             "fill": {
              "color": "#EBF0F8"
             },
             "line": {
              "color": "white"
             }
            },
            "header": {
             "fill": {
              "color": "#C8D4E3"
             },
             "line": {
              "color": "white"
             }
            },
            "type": "table"
           }
          ]
         },
         "layout": {
          "annotationdefaults": {
           "arrowcolor": "#2a3f5f",
           "arrowhead": 0,
           "arrowwidth": 1
          },
          "autotypenumbers": "strict",
          "coloraxis": {
           "colorbar": {
            "outlinewidth": 0,
            "ticks": ""
           }
          },
          "colorscale": {
           "diverging": [
            [
             0,
             "#8e0152"
            ],
            [
             0.1,
             "#c51b7d"
            ],
            [
             0.2,
             "#de77ae"
            ],
            [
             0.3,
             "#f1b6da"
            ],
            [
             0.4,
             "#fde0ef"
            ],
            [
             0.5,
             "#f7f7f7"
            ],
            [
             0.6,
             "#e6f5d0"
            ],
            [
             0.7,
             "#b8e186"
            ],
            [
             0.8,
             "#7fbc41"
            ],
            [
             0.9,
             "#4d9221"
            ],
            [
             1,
             "#276419"
            ]
           ],
           "sequential": [
            [
             0,
             "#0d0887"
            ],
            [
             0.1111111111111111,
             "#46039f"
            ],
            [
             0.2222222222222222,
             "#7201a8"
            ],
            [
             0.3333333333333333,
             "#9c179e"
            ],
            [
             0.4444444444444444,
             "#bd3786"
            ],
            [
             0.5555555555555556,
             "#d8576b"
            ],
            [
             0.6666666666666666,
             "#ed7953"
            ],
            [
             0.7777777777777778,
             "#fb9f3a"
            ],
            [
             0.8888888888888888,
             "#fdca26"
            ],
            [
             1,
             "#f0f921"
            ]
           ],
           "sequentialminus": [
            [
             0,
             "#0d0887"
            ],
            [
             0.1111111111111111,
             "#46039f"
            ],
            [
             0.2222222222222222,
             "#7201a8"
            ],
            [
             0.3333333333333333,
             "#9c179e"
            ],
            [
             0.4444444444444444,
             "#bd3786"
            ],
            [
             0.5555555555555556,
             "#d8576b"
            ],
            [
             0.6666666666666666,
             "#ed7953"
            ],
            [
             0.7777777777777778,
             "#fb9f3a"
            ],
            [
             0.8888888888888888,
             "#fdca26"
            ],
            [
             1,
             "#f0f921"
            ]
           ]
          },
          "colorway": [
           "#636efa",
           "#EF553B",
           "#00cc96",
           "#ab63fa",
           "#FFA15A",
           "#19d3f3",
           "#FF6692",
           "#B6E880",
           "#FF97FF",
           "#FECB52"
          ],
          "font": {
           "color": "#2a3f5f"
          },
          "geo": {
           "bgcolor": "white",
           "lakecolor": "white",
           "landcolor": "#E5ECF6",
           "showlakes": true,
           "showland": true,
           "subunitcolor": "white"
          },
          "hoverlabel": {
           "align": "left"
          },
          "hovermode": "closest",
          "mapbox": {
           "style": "light"
          },
          "paper_bgcolor": "white",
          "plot_bgcolor": "#E5ECF6",
          "polar": {
           "angularaxis": {
            "gridcolor": "white",
            "linecolor": "white",
            "ticks": ""
           },
           "bgcolor": "#E5ECF6",
           "radialaxis": {
            "gridcolor": "white",
            "linecolor": "white",
            "ticks": ""
           }
          },
          "scene": {
           "xaxis": {
            "backgroundcolor": "#E5ECF6",
            "gridcolor": "white",
            "gridwidth": 2,
            "linecolor": "white",
            "showbackground": true,
            "ticks": "",
            "zerolinecolor": "white"
           },
           "yaxis": {
            "backgroundcolor": "#E5ECF6",
            "gridcolor": "white",
            "gridwidth": 2,
            "linecolor": "white",
            "showbackground": true,
            "ticks": "",
            "zerolinecolor": "white"
           },
           "zaxis": {
            "backgroundcolor": "#E5ECF6",
            "gridcolor": "white",
            "gridwidth": 2,
            "linecolor": "white",
            "showbackground": true,
            "ticks": "",
            "zerolinecolor": "white"
           }
          },
          "shapedefaults": {
           "line": {
            "color": "#2a3f5f"
           }
          },
          "ternary": {
           "aaxis": {
            "gridcolor": "white",
            "linecolor": "white",
            "ticks": ""
           },
           "baxis": {
            "gridcolor": "white",
            "linecolor": "white",
            "ticks": ""
           },
           "bgcolor": "#E5ECF6",
           "caxis": {
            "gridcolor": "white",
            "linecolor": "white",
            "ticks": ""
           }
          },
          "title": {
           "x": 0.05
          },
          "xaxis": {
           "automargin": true,
           "gridcolor": "white",
           "linecolor": "white",
           "ticks": "",
           "title": {
            "standoff": 15
           },
           "zerolinecolor": "white",
           "zerolinewidth": 2
          },
          "yaxis": {
           "automargin": true,
           "gridcolor": "white",
           "linecolor": "white",
           "ticks": "",
           "title": {
            "standoff": 15
           },
           "zerolinecolor": "white",
           "zerolinewidth": 2
          }
         }
        },
        "title": {
         "text": "Contour Plot"
        },
        "xaxis": {
         "anchor": "y",
         "domain": [
          0,
          0.2125
         ],
         "matches": "x13",
         "range": [
          0.27,
          0.93
         ],
         "showticklabels": false
        },
        "xaxis10": {
         "anchor": "y10",
         "domain": [
          0.2625,
          0.475
         ],
         "matches": "x14",
         "range": [
          -4.75,
          99.75
         ],
         "showticklabels": false
        },
        "xaxis11": {
         "anchor": "y11",
         "domain": [
          0.525,
          0.7375
         ],
         "matches": "x15",
         "range": [
          0.25,
          104.75
         ],
         "showticklabels": false
        },
        "xaxis12": {
         "anchor": "y12",
         "domain": [
          0.7875,
          1
         ],
         "matches": "x16",
         "range": [
          0.060981969836169825,
          0.31106741964557605
         ],
         "showticklabels": false
        },
        "xaxis13": {
         "anchor": "y13",
         "domain": [
          0,
          0.2125
         ],
         "range": [
          0.27,
          0.93
         ],
         "title": {
          "text": "bagging_fraction"
         }
        },
        "xaxis14": {
         "anchor": "y14",
         "domain": [
          0.2625,
          0.475
         ],
         "range": [
          -4.75,
          99.75
         ],
         "title": {
          "text": "lambda_l1"
         }
        },
        "xaxis15": {
         "anchor": "y15",
         "domain": [
          0.525,
          0.7375
         ],
         "range": [
          0.25,
          104.75
         ],
         "title": {
          "text": "lambda_l2"
         }
        },
        "xaxis16": {
         "anchor": "y16",
         "domain": [
          0.7875,
          1
         ],
         "range": [
          0.060981969836169825,
          0.31106741964557605
         ],
         "title": {
          "text": "learning_rate"
         }
        },
        "xaxis2": {
         "anchor": "y2",
         "domain": [
          0.2625,
          0.475
         ],
         "matches": "x14",
         "range": [
          -4.75,
          99.75
         ],
         "showticklabels": false
        },
        "xaxis3": {
         "anchor": "y3",
         "domain": [
          0.525,
          0.7375
         ],
         "matches": "x15",
         "range": [
          0.25,
          104.75
         ],
         "showticklabels": false
        },
        "xaxis4": {
         "anchor": "y4",
         "domain": [
          0.7875,
          1
         ],
         "matches": "x16",
         "range": [
          0.060981969836169825,
          0.31106741964557605
         ],
         "showticklabels": false
        },
        "xaxis5": {
         "anchor": "y5",
         "domain": [
          0,
          0.2125
         ],
         "matches": "x13",
         "range": [
          0.27,
          0.93
         ],
         "showticklabels": false
        },
        "xaxis6": {
         "anchor": "y6",
         "domain": [
          0.2625,
          0.475
         ],
         "matches": "x14",
         "range": [
          -4.75,
          99.75
         ],
         "showticklabels": false
        },
        "xaxis7": {
         "anchor": "y7",
         "domain": [
          0.525,
          0.7375
         ],
         "matches": "x15",
         "range": [
          0.25,
          104.75
         ],
         "showticklabels": false
        },
        "xaxis8": {
         "anchor": "y8",
         "domain": [
          0.7875,
          1
         ],
         "matches": "x16",
         "range": [
          0.060981969836169825,
          0.31106741964557605
         ],
         "showticklabels": false
        },
        "xaxis9": {
         "anchor": "y9",
         "domain": [
          0,
          0.2125
         ],
         "matches": "x13",
         "range": [
          0.27,
          0.93
         ],
         "showticklabels": false
        },
        "yaxis": {
         "anchor": "x",
         "domain": [
          0.80625,
          1
         ],
         "range": [
          0.27,
          0.93
         ],
         "title": {
          "text": "bagging_fraction"
         }
        },
        "yaxis10": {
         "anchor": "x10",
         "domain": [
          0.26875,
          0.4625
         ],
         "matches": "y9",
         "range": [
          0.25,
          104.75
         ],
         "showticklabels": false
        },
        "yaxis11": {
         "anchor": "x11",
         "domain": [
          0.26875,
          0.4625
         ],
         "matches": "y9",
         "range": [
          0.25,
          104.75
         ],
         "showticklabels": false
        },
        "yaxis12": {
         "anchor": "x12",
         "domain": [
          0.26875,
          0.4625
         ],
         "matches": "y9",
         "range": [
          0.25,
          104.75
         ],
         "showticklabels": false
        },
        "yaxis13": {
         "anchor": "x13",
         "domain": [
          0,
          0.19375
         ],
         "range": [
          0.060981969836169825,
          0.31106741964557605
         ],
         "title": {
          "text": "learning_rate"
         }
        },
        "yaxis14": {
         "anchor": "x14",
         "domain": [
          0,
          0.19375
         ],
         "matches": "y13",
         "range": [
          0.060981969836169825,
          0.31106741964557605
         ],
         "showticklabels": false
        },
        "yaxis15": {
         "anchor": "x15",
         "domain": [
          0,
          0.19375
         ],
         "matches": "y13",
         "range": [
          0.060981969836169825,
          0.31106741964557605
         ],
         "showticklabels": false
        },
        "yaxis16": {
         "anchor": "x16",
         "domain": [
          0,
          0.19375
         ],
         "matches": "y13",
         "range": [
          0.060981969836169825,
          0.31106741964557605
         ],
         "showticklabels": false
        },
        "yaxis2": {
         "anchor": "x2",
         "domain": [
          0.80625,
          1
         ],
         "matches": "y",
         "range": [
          0.27,
          0.93
         ],
         "showticklabels": false
        },
        "yaxis3": {
         "anchor": "x3",
         "domain": [
          0.80625,
          1
         ],
         "matches": "y",
         "range": [
          0.27,
          0.93
         ],
         "showticklabels": false
        },
        "yaxis4": {
         "anchor": "x4",
         "domain": [
          0.80625,
          1
         ],
         "matches": "y",
         "range": [
          0.27,
          0.93
         ],
         "showticklabels": false
        },
        "yaxis5": {
         "anchor": "x5",
         "domain": [
          0.5375,
          0.73125
         ],
         "range": [
          -4.75,
          99.75
         ],
         "title": {
          "text": "lambda_l1"
         }
        },
        "yaxis6": {
         "anchor": "x6",
         "domain": [
          0.5375,
          0.73125
         ],
         "matches": "y5",
         "range": [
          -4.75,
          99.75
         ],
         "showticklabels": false
        },
        "yaxis7": {
         "anchor": "x7",
         "domain": [
          0.5375,
          0.73125
         ],
         "matches": "y5",
         "range": [
          -4.75,
          99.75
         ],
         "showticklabels": false
        },
        "yaxis8": {
         "anchor": "x8",
         "domain": [
          0.5375,
          0.73125
         ],
         "matches": "y5",
         "range": [
          -4.75,
          99.75
         ],
         "showticklabels": false
        },
        "yaxis9": {
         "anchor": "x9",
         "domain": [
          0.26875,
          0.4625
         ],
         "range": [
          0.25,
          104.75
         ],
         "title": {
          "text": "lambda_l2"
         }
        }
       }
      }
     },
     "metadata": {},
     "output_type": "display_data"
    }
   ],
   "source": [
    "optuna.visualization.plot_contour(\n",
    "    lgb_study, params = ['bagging_fraction', 'lambda_l1', 'lambda_l2', 'learning_rate'])\n"
   ]
  },
  {
   "cell_type": "code",
   "execution_count": 26,
   "metadata": {},
   "outputs": [
    {
     "data": {
      "text/plain": [
       "{'bagging_fraction': 0.9,\n",
       " 'bagging_freq': 1,\n",
       " 'feature_fraction': 0.9,\n",
       " 'lambda_l1': 25,\n",
       " 'lambda_l2': 95,\n",
       " 'learning_rate': 0.2767832168530619,\n",
       " 'max_depth': 7,\n",
       " 'min_data_in_leaf': 3900,\n",
       " 'min_gain_to_split': 2.120872709000934,\n",
       " 'n_estimators': 348,\n",
       " 'num_leaves': 1340}"
      ]
     },
     "execution_count": 26,
     "metadata": {},
     "output_type": "execute_result"
    }
   ],
   "source": [
    "lgb_study.best_params"
   ]
  },
  {
   "cell_type": "code",
   "execution_count": 27,
   "metadata": {},
   "outputs": [
    {
     "name": "stderr",
     "output_type": "stream",
     "text": [
      "'verbose' argument is deprecated and will be removed in a future release of LightGBM. Pass 'log_evaluation()' callback via 'callbacks' argument instead.\n"
     ]
    },
    {
     "name": "stdout",
     "output_type": "stream",
     "text": [
      "[LightGBM] [Warning] bagging_freq is set=1, subsample_freq=0 will be ignored. Current value: bagging_freq=1\n",
      "[LightGBM] [Warning] min_data_in_leaf is set=3900, min_child_samples=20 will be ignored. Current value: min_data_in_leaf=3900\n",
      "[LightGBM] [Warning] lambda_l2 is set=95, reg_lambda=0.0 will be ignored. Current value: lambda_l2=95\n",
      "[LightGBM] [Warning] feature_fraction is set=0.9, colsample_bytree=1.0 will be ignored. Current value: feature_fraction=0.9\n",
      "[LightGBM] [Warning] bagging_fraction is set=0.9, subsample=1.0 will be ignored. Current value: bagging_fraction=0.9\n",
      "[LightGBM] [Warning] min_gain_to_split is set=2.120872709000934, min_split_gain=0.0 will be ignored. Current value: min_gain_to_split=2.120872709000934\n",
      "[LightGBM] [Warning] lambda_l1 is set=25, reg_alpha=0.0 will be ignored. Current value: lambda_l1=25\n",
      "[10]\ttraining's auc: 0.763238\ttraining's binary_logloss: 0.246489\tvalid_1's auc: 0.751738\tvalid_1's binary_logloss: 0.249196\n",
      "[20]\ttraining's auc: 0.779563\ttraining's binary_logloss: 0.240031\tvalid_1's auc: 0.76163\tvalid_1's binary_logloss: 0.245702\n",
      "[30]\ttraining's auc: 0.788899\ttraining's binary_logloss: 0.23647\tvalid_1's auc: 0.765382\tvalid_1's binary_logloss: 0.244465\n",
      "[40]\ttraining's auc: 0.795876\ttraining's binary_logloss: 0.233966\tvalid_1's auc: 0.768119\tvalid_1's binary_logloss: 0.243742\n",
      "[50]\ttraining's auc: 0.800389\ttraining's binary_logloss: 0.232201\tvalid_1's auc: 0.770227\tvalid_1's binary_logloss: 0.243199\n",
      "[60]\ttraining's auc: 0.803279\ttraining's binary_logloss: 0.231094\tvalid_1's auc: 0.770912\tvalid_1's binary_logloss: 0.243075\n",
      "[70]\ttraining's auc: 0.805065\ttraining's binary_logloss: 0.230326\tvalid_1's auc: 0.771478\tvalid_1's binary_logloss: 0.24289\n",
      "[80]\ttraining's auc: 0.806565\ttraining's binary_logloss: 0.229697\tvalid_1's auc: 0.7721\tvalid_1's binary_logloss: 0.242723\n",
      "[90]\ttraining's auc: 0.807574\ttraining's binary_logloss: 0.229305\tvalid_1's auc: 0.772256\tvalid_1's binary_logloss: 0.242717\n",
      "[100]\ttraining's auc: 0.808285\ttraining's binary_logloss: 0.229038\tvalid_1's auc: 0.772437\tvalid_1's binary_logloss: 0.242687\n",
      "[110]\ttraining's auc: 0.808806\ttraining's binary_logloss: 0.228801\tvalid_1's auc: 0.772522\tvalid_1's binary_logloss: 0.242644\n",
      "[120]\ttraining's auc: 0.809283\ttraining's binary_logloss: 0.228572\tvalid_1's auc: 0.772664\tvalid_1's binary_logloss: 0.242618\n",
      "[130]\ttraining's auc: 0.809866\ttraining's binary_logloss: 0.228366\tvalid_1's auc: 0.772725\tvalid_1's binary_logloss: 0.242611\n",
      "[140]\ttraining's auc: 0.810328\ttraining's binary_logloss: 0.228157\tvalid_1's auc: 0.772701\tvalid_1's binary_logloss: 0.242644\n",
      "[150]\ttraining's auc: 0.810732\ttraining's binary_logloss: 0.228027\tvalid_1's auc: 0.772664\tvalid_1's binary_logloss: 0.242652\n",
      "[160]\ttraining's auc: 0.81097\ttraining's binary_logloss: 0.227932\tvalid_1's auc: 0.772648\tvalid_1's binary_logloss: 0.242668\n",
      "[170]\ttraining's auc: 0.811456\ttraining's binary_logloss: 0.227758\tvalid_1's auc: 0.772583\tvalid_1's binary_logloss: 0.242679\n",
      "[180]\ttraining's auc: 0.811629\ttraining's binary_logloss: 0.227679\tvalid_1's auc: 0.772646\tvalid_1's binary_logloss: 0.242673\n",
      "[190]\ttraining's auc: 0.811966\ttraining's binary_logloss: 0.227528\tvalid_1's auc: 0.772761\tvalid_1's binary_logloss: 0.242682\n",
      "[200]\ttraining's auc: 0.81238\ttraining's binary_logloss: 0.227374\tvalid_1's auc: 0.772794\tvalid_1's binary_logloss: 0.242639\n",
      "[210]\ttraining's auc: 0.812601\ttraining's binary_logloss: 0.227289\tvalid_1's auc: 0.772787\tvalid_1's binary_logloss: 0.242649\n",
      "[220]\ttraining's auc: 0.812801\ttraining's binary_logloss: 0.227198\tvalid_1's auc: 0.772792\tvalid_1's binary_logloss: 0.242671\n",
      "[230]\ttraining's auc: 0.813045\ttraining's binary_logloss: 0.227094\tvalid_1's auc: 0.77279\tvalid_1's binary_logloss: 0.242684\n",
      "[240]\ttraining's auc: 0.8132\ttraining's binary_logloss: 0.227055\tvalid_1's auc: 0.772834\tvalid_1's binary_logloss: 0.242669\n",
      "[250]\ttraining's auc: 0.813373\ttraining's binary_logloss: 0.226983\tvalid_1's auc: 0.77276\tvalid_1's binary_logloss: 0.242682\n",
      "[260]\ttraining's auc: 0.813613\ttraining's binary_logloss: 0.226884\tvalid_1's auc: 0.772639\tvalid_1's binary_logloss: 0.242702\n",
      "[270]\ttraining's auc: 0.813758\ttraining's binary_logloss: 0.22683\tvalid_1's auc: 0.77261\tvalid_1's binary_logloss: 0.242718\n",
      "[280]\ttraining's auc: 0.81384\ttraining's binary_logloss: 0.226801\tvalid_1's auc: 0.77257\tvalid_1's binary_logloss: 0.242725\n",
      "[290]\ttraining's auc: 0.813967\ttraining's binary_logloss: 0.226735\tvalid_1's auc: 0.772479\tvalid_1's binary_logloss: 0.242761\n",
      "[300]\ttraining's auc: 0.814087\ttraining's binary_logloss: 0.226699\tvalid_1's auc: 0.772545\tvalid_1's binary_logloss: 0.242732\n",
      "[310]\ttraining's auc: 0.814254\ttraining's binary_logloss: 0.226634\tvalid_1's auc: 0.772679\tvalid_1's binary_logloss: 0.242706\n",
      "[320]\ttraining's auc: 0.814464\ttraining's binary_logloss: 0.226567\tvalid_1's auc: 0.772629\tvalid_1's binary_logloss: 0.242726\n",
      "[330]\ttraining's auc: 0.814532\ttraining's binary_logloss: 0.226529\tvalid_1's auc: 0.772595\tvalid_1's binary_logloss: 0.242743\n",
      "[340]\ttraining's auc: 0.814675\ttraining's binary_logloss: 0.226467\tvalid_1's auc: 0.772479\tvalid_1's binary_logloss: 0.242778\n",
      "AUC:  0.8147670773765654\n",
      "accuracy_score:  0.9215195854787199\n",
      "AUC:  0.7724127029966849\n",
      "accuracy_score:  0.9191813856481783\n"
     ]
    }
   ],
   "source": [
    "params = {'bagging_fraction': 0.9,\n",
    " 'bagging_freq': 1,\n",
    " 'feature_fraction': 0.9,\n",
    " 'lambda_l1': 25,\n",
    " 'lambda_l2': 95,\n",
    " 'learning_rate': 0.2767832168530619,\n",
    " 'max_depth': 7,\n",
    " 'min_data_in_leaf': 3900,\n",
    " 'min_gain_to_split': 2.120872709000934,\n",
    " 'n_estimators': 348,\n",
    " 'num_leaves': 1340}\n",
    "\n",
    "mdl_lgb = lgb.LGBMClassifier(**params)\n",
    "\n",
    "# mdl_lgb.fit(X_train, y_train, eval_set = [(X_train, y_train), (X_test, y_test)], eval_metric='auc', verbose = 10)\n",
    "mdl_lgb.fit(\n",
    "    X_train, y_train, \n",
    "    eval_set = [(X_train, y_train), (X_test, y_test)], eval_metric='auc', verbose = 10\n",
    "    )\n",
    "\n",
    "X_train_preds = mdl_lgb.predict_proba(X_train)\n",
    "print('AUC: ',roc_auc_score(y_train, X_train_preds[:,1]))\n",
    "print('accuracy_score: ', accuracy_score(y_train,  mdl_lgb.predict(X_train)))\n",
    "\n",
    "X_test_preds = mdl_lgb.predict_proba(X_test)\n",
    "print('AUC: ',roc_auc_score(y_test, X_test_preds[:,1]))\n",
    "print('accuracy_score: ', accuracy_score(y_test,  mdl_lgb.predict(X_test)))\n"
   ]
  },
  {
   "cell_type": "code",
   "execution_count": 18,
   "metadata": {},
   "outputs": [
    {
     "data": {
      "text/plain": [
       "<AxesSubplot: >"
      ]
     },
     "execution_count": 18,
     "metadata": {},
     "output_type": "execute_result"
    },
    {
     "data": {
      "image/png": "[encoded data removed]",
      "text/plain": [
       "<Figure size 640x480 with 1 Axes>"
      ]
     },
     "metadata": {},
     "output_type": "display_data"
    }
   ],
   "source": [
    "sns.lineplot(mdl_lgb.evals_result_['valid_1']['auc'][:500])"
   ]
  },
  {
   "cell_type": "code",
   "execution_count": 28,
   "metadata": {},
   "outputs": [
    {
     "data": {
      "text/plain": [
       "<AxesSubplot: title={'center': 'Metric during training'}, xlabel='Iterations', ylabel='auc'>"
      ]
     },
     "execution_count": 28,
     "metadata": {},
     "output_type": "execute_result"
    },
    {
     "data": {
      "image/png": "[encoded data removed]",
      "text/plain": [
       "<Figure size 640x480 with 1 Axes>"
      ]
     },
     "metadata": {},
     "output_type": "display_data"
    }
   ],
   "source": [
    "lgb.plot_metric(mdl_lgb, 'auc')"
   ]
  },
  {
   "cell_type": "code",
   "execution_count": 5,
   "metadata": {},
   "outputs": [
    {
     "data": {
      "text/plain": [
       "<AxesSubplot: title={'center': 'Metric during training'}, xlabel='Iterations', ylabel='auc'>"
      ]
     },
     "execution_count": 5,
     "metadata": {},
     "output_type": "execute_result"
    },
    {
     "data": {
      "image/png": "[encoded data removed]",
      "text/plain": [
       "<Figure size 640x480 with 1 Axes>"
      ]
     },
     "metadata": {},
     "output_type": "display_data"
    }
   ],
   "source": [
    "lgb.plot_metric(mdl_lgb, 'auc')"
   ]
  },
  {
   "cell_type": "code",
   "execution_count": null,
   "metadata": {},
   "outputs": [],
   "source": [
    "mdl_dt = DecisionTreeClassifier(random_state= 43, max_depth= 5, class_weight='balanced')\n",
    "\n",
    "mdl_dt.fit(X_train, y_train)\n",
    "\n",
    "X_test_preds = mdl_dt.predict_proba(X_test)\n",
    "print('AUC: ',roc_auc_score(y_test, X_test_preds[:,1]))\n",
    "print('accuracy_score: ', accuracy_score(y_test,  mdl_dt.predict(X_test)))\n"
   ]
  },
  {
   "cell_type": "markdown",
   "metadata": {},
   "source": [
    "### Peformance Combined "
   ]
  },
  {
   "cell_type": "code",
   "execution_count": null,
   "metadata": {},
   "outputs": [],
   "source": [
    "df_mdl_perf = pd.DataFrame(\n",
    "    data = {\n",
    "    'Logistic Ridge': [\n",
    "        roc_auc_score(y_train, logit_pipe.predict_proba(X_train)[:,1]),\n",
    "        roc_auc_score(y_test, logit_pipe.predict_proba(X_test)[:,1])\n",
    "        ],\n",
    "    'Decision Tree': [\n",
    "        roc_auc_score(y_train, mdl_dt.predict_proba(X_train)[:,1]),\n",
    "        roc_auc_score(y_test, mdl_dt.predict_proba(X_test)[:,1])\n",
    "        ],\n",
    "    'Random Forest':[ \n",
    "        roc_auc_score(y_train, mdl_rf.predict_proba(X_train)[:,1]),\n",
    "        roc_auc_score(y_test, mdl_rf.predict_proba(X_test)[:,1])\n",
    "        ],\n",
    "    'XGBoost': [\n",
    "        roc_auc_score(y_train, mdl_xgb.predict_proba(X_train)[:,1]),\n",
    "        roc_auc_score(y_test, mdl_xgb.predict_proba(X_test)[:,1])\n",
    "        ],\n",
    "    'Lightgbm': [\n",
    "        roc_auc_score(y_train, mdl_lgb.predict_proba(X_train)[:,1]),\n",
    "        roc_auc_score(y_test, mdl_lgb.predict_proba(X_test)[:,1])\n",
    "        ],\n",
    "    'Catboost': [\n",
    "        roc_auc_score(y_train, mdl_cat.predict_proba(X_train)[:,1]),\n",
    "        roc_auc_score(y_test, mdl_cat.predict_proba(X_test)[:,1])\n",
    "        ]\n",
    "    },\n",
    "    index= ['train_auc', 'test_auc']\n",
    ").T\n"
   ]
  },
  {
   "cell_type": "code",
   "execution_count": null,
   "metadata": {},
   "outputs": [],
   "source": [
    "lgb.plot_importance(mdl_lgb, max_num_features= 10)"
   ]
  },
  {
   "cell_type": "code",
   "execution_count": null,
   "metadata": {},
   "outputs": [],
   "source": [
    "\n",
    "df_feat_xgb = pd.DataFrame(\n",
    "    {\n",
    "        'feat_name' : feat_names,\n",
    "        'xgboost': mdl_xgb.feature_importances_\n",
    "    }\n",
    ").set_index('feat_name')\n",
    "\n",
    "df_feat_logit = pd.DataFrame(\n",
    "    {\n",
    "        'feat_name': feat_names,\n",
    "        'logistic': abs(logit_pipe[2].coef_)[0]\n",
    "    }\n",
    ").set_index('feat_name')\n",
    "\n",
    "\n",
    "df_feat_lgb = pd.DataFrame(\n",
    "    {\n",
    "        'feat_name': feat_names,\n",
    "        'lightgbm': mdl_lgb.feature_importances_\n",
    "    }\n",
    ").set_index('feat_name')\n",
    "\n",
    "df_feat_rf = pd.DataFrame(\n",
    "    {\n",
    "        'feat_name': feat_names,\n",
    "        'random_forest': mdl_rf.feature_importances_\n",
    "    }\n",
    ").set_index('feat_name')\n",
    "\n",
    "\n",
    "df_feat_dt = pd.DataFrame(\n",
    "    {\n",
    "        'feat_name': feat_names,\n",
    "        'decision_tree': mdl_dt.feature_importances_\n",
    "    }\n",
    ").set_index('feat_name')\n",
    "\n",
    "\n",
    "df_feat_merge = pd.concat(\n",
    "    [df_feat_cat.rename(columns = {'LossFunctionChange' : 'catboost'})['catboost'],   # catboost feature importance\n",
    "     df_feat_xgb['xgboost'],             # xgboost feature importance\n",
    "     df_feat_lgb['lightgbm'],              # lightgbm feature importance\n",
    "     df_feat_rf['random_forest'],              # random forest feature importance\n",
    "     df_feat_logit['logistic'],         # logit rigid cofficient\n",
    "     df_feat_dt['decision_tree']               # Decision tree feature importance\n",
    "     ], axis =1,\n",
    "\n",
    ")\n"
   ]
  },
  {
   "cell_type": "code",
   "execution_count": null,
   "metadata": {},
   "outputs": [],
   "source": [
    "pd.DataFrame (\n",
    "    data = df_feat_merge\n",
    "    index = df_feat_merge.index,\n",
    "    columns = df_feat_merge.columns\n",
    ")\n"
   ]
  },
  {
   "cell_type": "code",
   "execution_count": null,
   "metadata": {},
   "outputs": [],
   "source": [
    "sns.pairplot(\n",
    "    df_feat_merge\n",
    ")\n"
   ]
  },
  {
   "cell_type": "code",
   "execution_count": null,
   "metadata": {},
   "outputs": [],
   "source": [
    "feat_logit_set.difference(feat_xgb_set)"
   ]
  },
  {
   "cell_type": "code",
   "execution_count": null,
   "metadata": {},
   "outputs": [],
   "source": [
    "feat_logit_set.intersection(feat_cat_set)"
   ]
  },
  {
   "cell_type": "code",
   "execution_count": null,
   "metadata": {},
   "outputs": [],
   "source": [
    "df_feat = pd.DataFrame(\n",
    "    {\n",
    "        'feat_name' : X.columns,\n",
    "        'feat_importance': mdl_rf.feature_importances_\n",
    "    }\n",
    ")\n",
    "\n",
    "df_feat"
   ]
  },
  {
   "cell_type": "code",
   "execution_count": null,
   "metadata": {},
   "outputs": [],
   "source": [
    "explainer = shap.Explainer(mdl_xgb)\n",
    "shap_values = explainer(X_test)\n"
   ]
  },
  {
   "cell_type": "code",
   "execution_count": 254,
   "metadata": {},
   "outputs": [
    {
     "ename": "TypeError",
     "evalue": "summary_legacy() got an unexpected keyword argument 'max_leaves'",
     "output_type": "error",
     "traceback": [
      "\u001b[0;31m---------------------------------------------------------------------------\u001b[0m",
      "\u001b[0;31mTypeError\u001b[0m                                 Traceback (most recent call last)",
      "Cell \u001b[0;32mIn [254], line 1\u001b[0m\n\u001b[0;32m----> 1\u001b[0m \u001b[43mshap\u001b[49m\u001b[38;5;241;43m.\u001b[39;49m\u001b[43msummary_plot\u001b[49m\u001b[43m(\u001b[49m\n\u001b[1;32m      2\u001b[0m \u001b[43m    \u001b[49m\u001b[43mshap_values\u001b[49m\u001b[43m \u001b[49m\u001b[38;5;241;43m=\u001b[39;49m\u001b[43m \u001b[49m\u001b[43mshap_values\u001b[49m\u001b[43m,\u001b[49m\n\u001b[1;32m      3\u001b[0m \u001b[43m    \u001b[49m\u001b[43mfeatures\u001b[49m\u001b[43m \u001b[49m\u001b[38;5;241;43m=\u001b[39;49m\u001b[43m \u001b[49m\u001b[43mX_test\u001b[49m\u001b[43m,\u001b[49m\n\u001b[1;32m      4\u001b[0m \u001b[43m    \u001b[49m\u001b[43mfeature_names\u001b[49m\u001b[43m \u001b[49m\u001b[38;5;241;43m=\u001b[39;49m\u001b[43m \u001b[49m\u001b[43mfeat_names\u001b[49m\u001b[43m,\u001b[49m\n\u001b[1;32m      5\u001b[0m \u001b[43m    \u001b[49m\u001b[43mmax_leaves\u001b[49m\u001b[43m \u001b[49m\u001b[38;5;241;43m=\u001b[39;49m\u001b[43m \u001b[49m\u001b[38;5;241;43m15\u001b[39;49m\u001b[43m,\u001b[49m\n\u001b[1;32m      6\u001b[0m \u001b[43m)\u001b[49m\n",
      "\u001b[0;31mTypeError\u001b[0m: summary_legacy() got an unexpected keyword argument 'max_leaves'"
     ]
    },
    {
     "ename": "",
     "evalue": "",
     "output_type": "error",
     "traceback": [
      "The Kernel crashed while executing code in the the current cell or a previous cell. Please review the code in the cell(s) to identify a possible cause of the failure. Click <a href='https://aka.ms/vscodeJupyterKernelCrash'>here</a> for more info. View Jupyter <a href='command:jupyter.viewOutput'>log</a> for further details."
     ]
    }
   ],
   "source": [
    "shap.summary_plot(\n",
    "    shap_values = shap_values,\n",
    "    features = X_test,\n",
    "    feature_names = feat_names,\n",
    "    max_leaves = 15,\n",
    ")"
   ]
  },
  {
   "cell_type": "code",
   "execution_count": null,
   "metadata": {},
   "outputs": [],
   "source": [
    "from sklearn.inspection import permutation_importance\n",
    "\n",
    "res = permutation_importance(mdl_rf, X_test, y_test, n_repeats = 10, random_state = 43, n_jobs =2 )"
   ]
  },
  {
   "cell_type": "code",
   "execution_count": null,
   "metadata": {},
   "outputs": [],
   "source": [
    "from scipy import stats\n",
    "\n",
    "stats.describe(mdl_xgb.predict_proba(X_test)[:,1])\n"
   ]
  },
  {
   "cell_type": "markdown",
   "metadata": {},
   "source": [
    "### PDP"
   ]
  },
  {
   "cell_type": "code",
   "execution_count": null,
   "metadata": {},
   "outputs": [],
   "source": [
    "from sklearn.inspection import PartialDependenceDisplay\n",
    "\n",
    "\n",
    "PartialDependenceDisplay.from_estimator(mdl_lgb, X_test,['DAYS_BIRTH'])\n"
   ]
  },
  {
   "cell_type": "code",
   "execution_count": null,
   "metadata": {},
   "outputs": [],
   "source": [
    "PartialDependenceDisplay.from_estimator(mdl_lgb, X_test,['AMT_ANNUITY', 'EXT_SOURCE_3'])"
   ]
  },
  {
   "cell_type": "code",
   "execution_count": null,
   "metadata": {},
   "outputs": [],
   "source": [
    "PartialDependenceDisplay.from_estimator(mdl_lgb, X_test,['NEW_EXT_SOURCES_MEAN', 'NEW_CREDIT_TO_ANNUITY_RATIO'])"
   ]
  },
  {
   "cell_type": "code",
   "execution_count": null,
   "metadata": {},
   "outputs": [],
   "source": [
    "shap.force_plot(explainer.expected_value[1], shap_values[1][:1000,:], X_test.iloc[:1000,:])\n"
   ]
  },
  {
   "cell_type": "code",
   "execution_count": null,
   "metadata": {},
   "outputs": [],
   "source": [
    "feat_imp_mdi = mdl_rf.feature_importances_\n",
    "std = np.std([d_tree.feature_importances_ for d_tree in mdl_rf.estimators_])\n",
    "ser_feat_imp_mdi = pd.Series(feat_imp_mdi, index = feat_names)\n",
    "\n",
    "fig, ax = plt.subplots(figsize = (14,10))\n",
    "\n",
    "ser_feat_imp_mdi.sort_values(ascending= False).head(50).plot.barh(yerr = std)\n",
    "\n",
    "ax.set_title('Feature importances using MDI')\n",
    "ax.set_ylabel('Mean decrease in impurity')\n",
    "fig.tight_layout()"
   ]
  },
  {
   "cell_type": "code",
   "execution_count": null,
   "metadata": {},
   "outputs": [],
   "source": [
    "explainer = shap.TreeExplainer(mdl_lgb)\n",
    "shap_values = explainer.shap_values(X_test)\n"
   ]
  },
  {
   "cell_type": "markdown",
   "metadata": {},
   "source": [
    "#### Visualize a single prediction"
   ]
  },
  {
   "cell_type": "code",
   "execution_count": null,
   "metadata": {},
   "outputs": [],
   "source": [
    "shap.initjs()"
   ]
  },
  {
   "cell_type": "code",
   "execution_count": null,
   "metadata": {},
   "outputs": [],
   "source": [
    "shap.force_plot(explainer.expected_value[1], shap_values[1][0,:], X_test.iloc[0,:])"
   ]
  },
  {
   "cell_type": "code",
   "execution_count": null,
   "metadata": {},
   "outputs": [],
   "source": [
    "X_test.iloc[0,:]"
   ]
  },
  {
   "cell_type": "code",
   "execution_count": null,
   "metadata": {},
   "outputs": [],
   "source": [
    "shap.force_plot(explainer.expected_value[1], shap_values[1][:100,:], X_test.iloc[:100,:])   "
   ]
  },
  {
   "cell_type": "code",
   "execution_count": null,
   "metadata": {},
   "outputs": [],
   "source": [
    "for name in df_feat_lgb.head(10).index:\n",
    "    shap.dependence_plot(name, shap_values[1], X_test, display_features=X_test"
   ]
  },
  {
   "cell_type": "code",
   "execution_count": null,
   "metadata": {},
   "outputs": [],
   "source": []
  }
 ],
 "metadata": {
  "kernelspec": {
   "display_name": "Python 3.9.0 64-bit",
   "language": "python",
   "name": "python3"
  },
  "language_info": {
   "codemirror_mode": {
    "name": "ipython",
    "version": 3
   },
   "file_extension": ".py",
   "mimetype": "text/x-python",
   "name": "python",
   "nbconvert_exporter": "python",
   "pygments_lexer": "ipython3",
   "version": "3.9.0 (v3.9.0:9cf6752276, Oct  5 2020, 11:29:23) \n[Clang 6.0 (clang-600.0.57)]"
  },
  "orig_nbformat": 4,
  "vscode": {
   "interpreter": {
    "hash": "397704579725e15f5c7cb49fe5f0341eb7531c82d19f2c29d197e8b64ab5776b"
   }
  }
 },
 "nbformat": 4,
 "nbformat_minor": 2
}
