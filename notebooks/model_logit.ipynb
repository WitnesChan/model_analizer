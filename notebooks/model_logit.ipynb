{
 "cells": [
  {
   "cell_type": "markdown",
   "metadata": {},
   "source": [
    "### Logistic Regression "
   ]
  },
  {
   "cell_type": "code",
   "execution_count": 73,
   "metadata": {},
   "outputs": [],
   "source": [
    "import pandas as pd\n",
    "import numpy as np\n",
    "from sklearn.model_selection import cross_val_score, train_test_split, StratifiedKFold, GridSearchCV\n",
    "from sklearn.linear_model import LogisticRegression\n",
    "from sklearn.metrics import roc_auc_score, accuracy_score, balanced_accuracy_score\n",
    "from sklearn.pipeline import Pipeline\n",
    "from sklearn.preprocessing import (\n",
    "    StandardScaler, \n",
    "    MinMaxScaler,\n",
    "    RobustScaler,\n",
    "    )\n",
    "\n",
    "# for feature engineering\n",
    "from feature_engine import imputation as mdi\n",
    "from feature_engine import encoding as ce\n",
    "from feature_engine import discretisation as disc\n",
    "from feature_engine import transformation as t\n",
    "\n",
    "\n",
    "import matplotlib.pyplot as plt\n",
    "import seaborn as sns\n"
   ]
  },
  {
   "cell_type": "markdown",
   "metadata": {},
   "source": []
  },
  {
   "cell_type": "code",
   "execution_count": 18,
   "metadata": {},
   "outputs": [
    {
     "data": {
      "text/plain": [
       "((107401, 126), (46029, 126))"
      ]
     },
     "execution_count": 18,
     "metadata": {},
     "output_type": "execute_result"
    }
   ],
   "source": [
    "df_feat =  pd.read_excel('feature_importance_catboost.xlsx')\n",
    "drop_cols = df_feat[df_feat['PredictionValuesChange'] == 0]['Feature Id'] \n",
    "\n",
    "X.drop(columns= drop_cols, inplace= True)\n",
    "\n",
    "X_train, X_test, y_train, y_test = train_test_split(\n",
    "    X, y, test_size=0.3, random_state= 42)\n",
    "\n",
    "X_train.shape, X_test.shape"
   ]
  },
  {
   "cell_type": "code",
   "execution_count": 5,
   "metadata": {},
   "outputs": [
    {
     "name": "stdout",
     "output_type": "stream",
     "text": [
      "Dataset Shape: (153430, 843)\n"
     ]
    }
   ],
   "source": [
    "df_summary =  summary_table(df_data)\n",
    "\n",
    "# rm_columns_mis = df_summary[df_summary['Missing_Ratio'] > 0.75].Name\n",
    "\n",
    "# X.drop(columns = rm_columns_mis, inplace = True)"
   ]
  },
  {
   "cell_type": "code",
   "execution_count": 9,
   "metadata": {},
   "outputs": [
    {
     "data": {
      "text/plain": [
       "<seaborn.axisgrid.FacetGrid at 0x7fb0a63812b0>"
      ]
     },
     "execution_count": 9,
     "metadata": {},
     "output_type": "execute_result"
    },
    {
     "data": {
      "image/png": "[encoded data removed]",
      "text/plain": [
       "<Figure size 360x360 with 1 Axes>"
      ]
     },
     "metadata": {
      "needs_background": "light"
     },
     "output_type": "display_data"
    }
   ],
   "source": [
    "sns.displot(\n",
    "    df_summary['Missing_Ratio'].sort_values(ascending=False)\n",
    ") "
   ]
  },
  {
   "cell_type": "markdown",
   "metadata": {},
   "source": [
    "#### Set up the pipeline\n",
    "* impute numerical variables\n",
    "* scale all variables\n",
    "* train a logistic regression"
   ]
  },
  {
   "cell_type": "markdown",
   "metadata": {},
   "source": [
    "### Logistic Regression"
   ]
  },
  {
   "cell_type": "code",
   "execution_count": 64,
   "metadata": {},
   "outputs": [
    {
     "name": "stdout",
     "output_type": "stream",
     "text": [
      "100%|██████████| 100/100 [1:39:09<00:00, 59.50s/trial, best loss: -0.7555586790453694]\n"
     ]
    }
   ],
   "source": [
    "from hyperopt import hp\n",
    "from hyperopt import fmin, tpe, Trials\n",
    "from hyperopt import STATUS_OK\n",
    "\n",
    "DIR ='./'\n",
    "\n",
    "# Domain space\n",
    "space = {\n",
    "    # 'penalty': hp.choice('penalty', ['l1', 'l2']),\n",
    "    'C': hp.loguniform('C', 0.001, 1.0),\n",
    "}\n",
    "\n",
    "def objective_function(params):\n",
    "\n",
    "    logit_pipe = Pipeline([\n",
    "        ('imputer', mdi.MeanMedianImputer(imputation_method='median')),\n",
    "        ('scaler', StandardScaler(with_std= True)),\n",
    "        ('logit', LogisticRegression(random_state= 43, penalty = 'l1', solver = 'saga', C = params['C']))\n",
    "    ])\n",
    "\n",
    "    cross_val = cross_val_score(\n",
    "        logit_pipe, X_train, y_train, \n",
    "        cv = StratifiedKFold(n_splits= 5, shuffle =True), scoring ='roc_auc', n_jobs= 2\n",
    "        )\n",
    "        \n",
    "    loss_mean = cross_val.mean()\n",
    "    loss_std = cross_val.std()\n",
    "    \n",
    "    return {'loss': -loss_mean, 'loss_std': loss_std, 'status': STATUS_OK}\n",
    "\n",
    "# Optimization algorithm\n",
    "tpe_algorithm = tpe.suggest\n",
    "\n",
    "# Result history \n",
    "trials = Trials()\n",
    "num_eval = 100\n",
    "\n",
    "best_params = fmin(\n",
    "    objective_function, space, tpe.suggest, max_evals = num_eval, \n",
    "    trials = trials\n",
    "    )\n",
    "\n",
    "pickle.dump(trials, open(DIR + 'trial_results_v0_2.sav', 'wb'))"
   ]
  },
  {
   "cell_type": "code",
   "execution_count": null,
   "metadata": {},
   "outputs": [
    {
     "data": {
      "text/html": [
       "<div>\n",
       "<style scoped>\n",
       "    .dataframe tbody tr th:only-of-type {\n",
       "        vertical-align: middle;\n",
       "    }\n",
       "\n",
       "    .dataframe tbody tr th {\n",
       "        vertical-align: top;\n",
       "    }\n",
       "\n",
       "    .dataframe thead th {\n",
       "        text-align: right;\n",
       "    }\n",
       "</style>\n",
       "<table border=\"1\" class=\"dataframe\">\n",
       "  <thead>\n",
       "    <tr style=\"text-align: right;\">\n",
       "      <th></th>\n",
       "      <th>param_logit__C</th>\n",
       "      <th>param_logit__penalty</th>\n",
       "      <th>mean_test_score</th>\n",
       "      <th>std_test_score</th>\n",
       "    </tr>\n",
       "  </thead>\n",
       "  <tbody>\n",
       "    <tr>\n",
       "      <th>0</th>\n",
       "      <td>0.001</td>\n",
       "      <td>l2</td>\n",
       "      <td>0.758656</td>\n",
       "      <td>0.003514</td>\n",
       "    </tr>\n",
       "    <tr>\n",
       "      <th>1</th>\n",
       "      <td>0.005</td>\n",
       "      <td>l2</td>\n",
       "      <td>0.758506</td>\n",
       "      <td>0.003685</td>\n",
       "    </tr>\n",
       "    <tr>\n",
       "      <th>2</th>\n",
       "      <td>0.01</td>\n",
       "      <td>l2</td>\n",
       "      <td>0.757998</td>\n",
       "      <td>0.003800</td>\n",
       "    </tr>\n",
       "    <tr>\n",
       "      <th>3</th>\n",
       "      <td>0.05</td>\n",
       "      <td>l2</td>\n",
       "      <td>0.756155</td>\n",
       "      <td>0.003948</td>\n",
       "    </tr>\n",
       "    <tr>\n",
       "      <th>4</th>\n",
       "      <td>0.1</td>\n",
       "      <td>l2</td>\n",
       "      <td>0.755463</td>\n",
       "      <td>0.003855</td>\n",
       "    </tr>\n",
       "  </tbody>\n",
       "</table>\n",
       "</div>"
      ],
      "text/plain": [
       "  param_logit__C param_logit__penalty  mean_test_score  std_test_score\n",
       "0          0.001                   l2         0.758656        0.003514\n",
       "1          0.005                   l2         0.758506        0.003685\n",
       "2           0.01                   l2         0.757998        0.003800\n",
       "3           0.05                   l2         0.756155        0.003948\n",
       "4            0.1                   l2         0.755463        0.003855"
      ]
     },
     "execution_count": 12,
     "metadata": {},
     "output_type": "execute_result"
    }
   ],
   "source": [
    "results = pd.DataFrame(search.cv_results_)\n",
    "\n",
    "# we can order the different models based on their performance\n",
    "results.sort_values(by='mean_test_score', ascending=False, inplace=True)\n",
    "\n",
    "results.reset_index(drop=True, inplace=True)\n",
    "\n",
    "results[[\n",
    "    'param_logit__C', 'param_logit__penalty', 'mean_test_score', 'std_test_score',\n",
    "]].head()"
   ]
  },
  {
   "cell_type": "code",
   "execution_count": 78,
   "metadata": {},
   "outputs": [
    {
     "data": {
      "text/plain": [
       "Text(0.5, 0, 'Hyperparameter combinations')"
      ]
     },
     "execution_count": 78,
     "metadata": {},
     "output_type": "execute_result"
    },
    {
     "data": {
      "image/png": "[encoded data removed]",
      "text/plain": [
       "<Figure size 640x480 with 1 Axes>"
      ]
     },
     "metadata": {},
     "output_type": "display_data"
    }
   ],
   "source": [
    "\n",
    "results['mean_test_score'].plot(yerr=[results['std_test_score'], results['std_test_score']], subplots=True)\n",
    "\n",
    "plt.ylabel('Mean test score')\n",
    "plt.xlabel('Hyperparameter combinations')"
   ]
  },
  {
   "cell_type": "code",
   "execution_count": 67,
   "metadata": {},
   "outputs": [
    {
     "name": "stderr",
     "output_type": "stream",
     "text": [
      "/Users/witnes/opt/anaconda3/lib/python3.8/site-packages/sklearn/linear_model/_sag.py:350: ConvergenceWarning: The max_iter was reached which means the coef_ did not converge\n",
      "  warnings.warn(\n"
     ]
    },
    {
     "name": "stdout",
     "output_type": "stream",
     "text": [
      "Train roc_auc:  0.757718919831712\n",
      "Test roc_auc:  0.7546107826243982\n"
     ]
    }
   ],
   "source": [
    "logit_pipe = Pipeline([\n",
    "        ('imputer', mdi.MeanMedianImputer(imputation_method='median')),\n",
    "        ('scaler', StandardScaler(with_std= True)),\n",
    "        ('logit', LogisticRegression(random_state= 43, **best_params, penalty= 'l1', solver= 'saga'))\n",
    "    ])\n",
    "\n",
    "logit_pipe.fit(X_train, y_train)\n",
    "\n",
    "X_train_preds = logit_pipe.predict_proba(X_train)[:,1]\n",
    "X_test_preds = logit_pipe.predict_proba(X_test)[:,1]\n",
    "\n",
    "print('Train roc_auc: ', roc_auc_score(y_train, X_train_preds))\n",
    "print('Test roc_auc: ', roc_auc_score(y_test, X_test_preds))"
   ]
  },
  {
   "cell_type": "code",
   "execution_count": 68,
   "metadata": {},
   "outputs": [
    {
     "name": "stdout",
     "output_type": "stream",
     "text": [
      "Train accuracy:  0.5087152266913367\n",
      "Test accuracy:  0.5079186310699285\n"
     ]
    }
   ],
   "source": [
    "\n",
    "X_train_preds = logit_pipe.predict(X_train)\n",
    "X_test_preds = logit_pipe.predict(X_test)\n",
    "\n",
    "print('Train accuracy: ', balanced_accuracy_score(y_train, X_train_preds))\n",
    "print('Test accuracy: ', balanced_accuracy_score(y_test, X_test_preds))"
   ]
  },
  {
   "cell_type": "code",
   "execution_count": 69,
   "metadata": {},
   "outputs": [],
   "source": [
    "df_coef =pd.DataFrame(\n",
    "    {\n",
    "       'feature': X_train.columns, \n",
    "       'coef' : logit_pipe[2].coef_[0]\n",
    "    }\n",
    ").sort_values(by = 'coef')\n",
    "#.to_csv('logit_coef.xlsx', index =False)"
   ]
  }
 ],
 "metadata": {
  "kernelspec": {
   "display_name": "Python 3",
   "language": "python",
   "name": "python3"
  },
  "language_info": {
   "codemirror_mode": {
    "name": "ipython",
    "version": 3
   },
   "file_extension": ".py",
   "mimetype": "text/x-python",
   "name": "python",
   "nbconvert_exporter": "python",
   "pygments_lexer": "ipython3",
   "version": "3.9.0 (v3.9.0:9cf6752276, Oct  5 2020, 11:29:23) \n[Clang 6.0 (clang-600.0.57)]"
  },
  "orig_nbformat": 4,
  "vscode": {
   "interpreter": {
    "hash": "397704579725e15f5c7cb49fe5f0341eb7531c82d19f2c29d197e8b64ab5776b"
   }
  }
 },
 "nbformat": 4,
 "nbformat_minor": 2
}
