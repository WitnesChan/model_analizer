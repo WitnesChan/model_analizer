{
 "cells": [
  {
   "cell_type": "code",
   "execution_count": null,
   "metadata": {},
   "outputs": [],
   "source": [
    "import sys\n",
    "\n",
    "\n",
    "ENV_COLAB = 'google.colab' in sys.modules\n",
    "FILE_NAME = 'DATASET_THESIS_2022.csv'\n",
    "\n",
    "if ENV_COLAB:\n",
    "\n",
    "  DIR = '/content/drive/My Drive/Thesis Project/'\n",
    "  from google.colab import output, drive\n",
    "  !pip install feature_engine hyperopt lightgbm shap\n",
    "\n",
    "  output.enable_custom_widget_manager()\n",
    "  drive.mount('/content/drive/')\n",
    "\n",
    "else:\n",
    "\n",
    "  DIR = './'\n",
    "\n",
    "from tqdm import tqdm\n",
    "import pickle\n",
    "import pandas as pd\n",
    "import numpy as np\n",
    "from sklearn.model_selection import cross_val_score, train_test_split, StratifiedKFold\n",
    "from sklearn.metrics import roc_auc_score, f1_score, accuracy_score   \n",
    "from sklearn.ensemble import RandomForestClassifier\n",
    "from sklearn.pipeline import Pipeline\n",
    "from sklearn.preprocessing import (\n",
    "    StandardScaler, \n",
    "    MinMaxScaler,\n",
    "    RobustScaler,\n",
    "    )\n",
    "\n",
    "# for feature engineering\n",
    "from feature_engine import imputation as mdi\n",
    "from feature_engine import encoding as ce\n",
    "from feature_engine import discretisation as disc\n",
    "from feature_engine import transformation as t\n",
    "\n",
    "import matplotlib.pyplot as plt\n",
    "import seaborn as sns\n",
    "import shap\n",
    "\n",
    "from hyperopt import fmin, tpe, Trials\n",
    "from hyperopt import STATUS_OK\n",
    "import lightgbm as lgb\n",
    "\n",
    "\n",
    "df_data = pd.concat([chunk for chunk in tqdm(pd.read_csv(DIR + FILE_NAME, chunksize=1000), desc='Loading data')])\n",
    "y = df_data.TARGET\n",
    "X = df_data.drop(columns=['TARGET'])\n"
   ]
  }
 ],
 "metadata": {
  "kernelspec": {
   "display_name": "Python 3.8.8 ('lgb_venv': venv)",
   "language": "python",
   "name": "python3"
  },
  "language_info": {
   "name": "python",
   "version": "3.8.8"
  },
  "orig_nbformat": 4,
  "vscode": {
   "interpreter": {
    "hash": "58525f5bd04a1468f49bd6b6aeee4213162c85220b1fd984d6bb9e83636b13fa"
   }
  }
 },
 "nbformat": 4,
 "nbformat_minor": 2
}
